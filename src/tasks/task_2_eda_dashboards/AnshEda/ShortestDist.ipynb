{
 "cells": [
  {
   "cell_type": "code",
   "execution_count": 2,
   "metadata": {},
   "outputs": [],
   "source": [
    "import networkx as nx\n",
    "import matplotlib.pyplot as plt\n",
    "import pandas as pd\n",
    "import plotly.graph_objects as go"
   ]
  },
  {
   "cell_type": "code",
   "execution_count": 3,
   "metadata": {},
   "outputs": [],
   "source": [
    "metro_stations = {\n",
    "    '1': [\n",
    "        {'station': 'Jabaquara', 'coordinates': (-23.647253, -46.642808)},\n",
    "        {'station': 'Conceição', 'coordinates': (-23.636450, -46.641791)},\n",
    "        {'station': 'São Judas', 'coordinates': (-23.626218, -46.639498)},\n",
    "        {'station': 'Saúde', 'coordinates': (-23.614919, -46.638143)},\n",
    "        {'station': 'Praça da Árvore', 'coordinates': (-23.610576, -46.637861)},\n",
    "        {'station': 'Santa Cruz', 'coordinates': (-23.599162 ,-46.636681)},\n",
    "        {'station': 'Vila Mariana', 'coordinates': (-23.584878, -46.638107)},\n",
    "        {'station': 'Ana Rosa', 'coordinates': (-23.581494, -46.638265)},\n",
    "        {'station': 'Paraíso', 'coordinates': (-23.575, -46.640556)},\n",
    "        {'station': 'Vergueiro', 'coordinates': (-23.568958, -46.63986)},\n",
    "        {'station': 'São Joaquim', 'coordinates': (-23.563832, -46.640815)},\n",
    "        {'station': 'Japão-Liberdade', 'coordinates': (-23.560361, -46.633196)},\n",
    "        {'station': 'Sé', 'coordinates': (-23.550687, -46.633932)},\n",
    "        {'station': 'São Bento', 'coordinates': (-23.543183, -46.631402)},\n",
    "        {'station': 'Luz', 'coordinates': (-23.536579, -46.633468)},\n",
    "        {'station': 'Tiradentes', 'coordinates': (-23.534333, -46.630981)},\n",
    "        {'station': 'Armênia', 'coordinates': (-23.525122, -46.623554)},\n",
    "        {'station': 'Portuguesa-Tietê', 'coordinates': (-23.516440, -46.623067)},\n",
    "        {'station': 'Carandiru', 'coordinates': (-23.512454, -46.622729)},\n",
    "        {'station': 'Santana', 'coordinates': (-23.505693, -46.624628)},\n",
    "        {'station': 'Jardim São Paulo-Ayrton Senna', 'coordinates': (-23.503239, -46.609870)},\n",
    "        {'station': 'Parada Inglesa', 'coordinates': (-23.496832, -46.606034)},\n",
    "        {'station': 'Tucuruvi', 'coordinates': (-23.480844, -46.601547)},\n",
    "    ],\n",
    "    '2': [\n",
    "        {'station': 'Vila Madalena', 'coordinates': (-23.548286, -46.694416)},\n",
    "        {'station': 'Santuário N.S. de Fátima-Sumaré', 'coordinates': (-23.550637 ,-46.677588)},\n",
    "        {'station': 'Clínicas', 'coordinates': (-23.5544, -46.6706)},\n",
    "        {'station': 'Consolação', 'coordinates':  (-23.5575, -46.6608)},\n",
    "        {'station': 'Trianon-Masp', 'coordinates': (-23.5625, -46.655)},\n",
    "        {'station': 'Brigadeiro', 'coordinates': (-23.568811, -46.648098)},\n",
    "        {'station': 'Paraíso', 'coordinates': (-23.575, -46.640556)},\n",
    "        {'station': 'Ana Rosa', 'coordinates': (-23.581494, -46.638265)},\n",
    "        {'station': 'Chácara Klabin', 'coordinates': (-23.592503, -46.629978)},\n",
    "        {'station': 'Santos-Imigrantes', 'coordinates': (-23.595935 ,-46.620741)},\n",
    "        {'station': 'Alto do Ipiranga', 'coordinates': (-23.602957, -46.611791)},\n",
    "        {'station': 'Sacomã', 'coordinates': (-23.601519, -46.603446)},\n",
    "        {'station': 'Tamanduateí', 'coordinates': (-23.5944, -46.5881)},\n",
    "        {'station': 'Vila Prudente', 'coordinates': (-23.5845193 ,-46.5819991)},   \n",
    "    ],\n",
    "    '3': [\n",
    "        {'station': 'Palmeiras-Barra Funda', 'coordinates': (-23.525505, -46.667358)},\n",
    "        {'station': 'Marechal Deodoro', 'coordinates': (-23.5338615 ,-46.6558135)},\n",
    "        {'station': 'Santa Cecília', 'coordinates': (-23.538711, -46.649644)},\n",
    "        {'station': 'República', 'coordinates': (-23.544081,-46.642799)},\n",
    "        {'station': 'Anhangabaú', 'coordinates': (-23.547917, -46.639345)},\n",
    "        {'station': 'Sé', 'coordinates': (-23.550687, -46.633932)},\n",
    "        {'station': 'Pedro II', 'coordinates': (-23.5500, -46.6258)},\n",
    "        {'station': 'Brás', 'coordinates': (-23.547824, -46.615881)},\n",
    "        {'station': 'Bresser-Moóca', 'coordinates': (-23.547824, -46.615881)},\n",
    "        {'station': 'Belém', 'coordinates': (-23.5433, -46.5894)},\n",
    "        {'station': 'Tatuapé', 'coordinates': (-23.540314, -46.576184)},\n",
    "        {'station': 'Carrão', 'coordinates': (-23.5375, -46.5636)},\n",
    "        {'station': 'Penha', 'coordinates': (-23.533439 ,-46.542302)},\n",
    "        {'station': 'Vila Matilde', 'coordinates': (-23.531894 ,-46.530691)},\n",
    "        {'station': 'Guilhermina-Esperança', 'coordinates': (-23.5292, -46.5167)},\n",
    "        {'station': 'Patriarca', 'coordinates': (-23.531166 ,-46.501586)},\n",
    "        {'station': 'Artur Alvim', 'coordinates': (-23.54055, -46.484265)},\n",
    "        {'station': 'Corinthians-Itaquera', 'coordinates': (-23.542207, -46.471159)}\n",
    "    ],\n",
    "    '4': [\n",
    "        {'station': 'Luz', 'coordinates': (-23.536579, -46.633468)},\n",
    "        {'station': 'República', 'coordinates': (-23.544081, -46.642799)},\n",
    "        {'station': 'Higienópolis - Mackenzie', 'coordinates': (-23.5488889, -46.6519444)},\n",
    "        {'station': 'Paulista', 'coordinates': (-23.553164454, -46.657164038)},\n",
    "        {'station': 'Oscar Freire', 'coordinates': (-23.5608583, -46.6720083)},\n",
    "        {'station': 'Fradique Coutinho', 'coordinates': (-23.566169, -46.684267)},\n",
    "        {'station': 'Faria Lima', 'coordinates': (-23.566667 ,-46.693889)},\n",
    "        {'station': 'Pinheiros', 'coordinates': (-23.5667702 ,-46.7019)},\n",
    "        {'station': 'Butantã', 'coordinates': (-23.571852, -46.708164)},\n",
    "        {'station': 'São Paulo - Morumbi', 'coordinates': (-23.621667, -46.701667)},   \n",
    "    ],\n",
    "    '5': [\n",
    "        {'station': 'Capão Redondo', 'coordinates': (-23.6592509, -46.7681766)},\n",
    "        {'station': 'Campo Limpo', 'coordinates': (-23.6493743 ,-46.7591482)},\n",
    "        {'station': 'Vila das Belezas', 'coordinates': (-23.640556, -46.745833)},\n",
    "        {'station': 'Giovanni Gronchi', 'coordinates': (-23.643964, -46.7342466)},\n",
    "        {'station': 'Santo Amaro', 'coordinates': (-23.655556, -46.720556)},\n",
    "        {'station': 'Largo Treze', 'coordinates': (-23.654524 ,-46.710343)},\n",
    "        {'station': 'Adolfo Pinheiro', 'coordinates': (-23.6501, -46.7042)},\n",
    "        {'station': 'Alto da Boa Vista', 'coordinates': (-23.641944, -46.699722)},\n",
    "        {'station': 'Borba Gato', 'coordinates': (-23.633333, -46.692778)},\n",
    "        {'station': 'Brooklin', 'coordinates': (-23.627014, -46.688333)},\n",
    "        {'station': 'Campo Belo', 'coordinates': (-23.618889, -46.682222)},\n",
    "        {'station': 'Eucaliptos', 'coordinates': (-23.61, -46.668611)},\n",
    "        {'station': 'Moema', 'coordinates': (-23.603611, -46.661944)},\n",
    "        {'station': 'AACD - Servidor', 'coordinates': (-23.598308, -46.651600)},\n",
    "        {'station': 'Hospital São Paulo', 'coordinates': (-23.598431, -46.645556)},\n",
    "        {'station': 'Santa Cruz', 'coordinates': (-23.599162 ,-46.636681)},\n",
    "        {'station': 'Chácara Klabin', 'coordinates': (-23.592503 ,-46.629978)},\n",
    "        \n",
    "    ],\n",
    "    '15': [\n",
    "        {'station': 'Jardim Colonial', 'coordinates': (-23.59921, -46.46907)},\n",
    "        {'station': 'São Mateus', 'coordinates': (-23.61232, -46.4773)},\n",
    "        {'station': 'Fazenda da Juta', 'coordinates': (-23.61182, -46.48747)},\n",
    "        {'station': 'Sapopemba', 'coordinates': (-23.61471, -46.50083)},\n",
    "        {'station': 'Jardim Planalto', 'coordinates': (-23.60616, -46.50785)},\n",
    "        {'station': 'Vila União', 'coordinates': (-23.60297, -46.51556)},\n",
    "        {'station': 'Vila Tolstói', 'coordinates': (-23.60084, -46.52722)},\n",
    "        {'station': 'Camilo Haddad', 'coordinates': (-23.59544, -46.53759)},\n",
    "        {'station': 'São Lucas', 'coordinates': (-23.58894, -46.54464)},\n",
    "        {'station': 'Oratório', 'coordinates': (-23.58216, -46.5618)},\n",
    "        {'station': 'Vila Prudente', 'coordinates': (-23.58443, -46.58194)},\n",
    "        \n",
    "        \n",
    "        \n",
    "        \n",
    "        \n",
    "        \n",
    "        \n",
    "        \n",
    "    ]\n",
    "}\n"
   ]
  },
  {
   "cell_type": "code",
   "execution_count": 4,
   "metadata": {},
   "outputs": [
    {
     "name": "stdout",
     "output_type": "stream",
     "text": [
      "CSV file \"metro_lines_info.csv\" has been created.\n"
     ]
    }
   ],
   "source": [
    "import csv\n",
    "\n",
    "lines = [\n",
    "    {\n",
    "        'Line': '1',\n",
    "        'Termini': 'Tucuruvi ↔ Jabaquara',\n",
    "        'Length': '20.2 km (12.6 mi)',\n",
    "        'Stations': 23,\n",
    "        'Duration of trip (min)': 39\n",
    "    },\n",
    "    {\n",
    "        'Line': '2',\n",
    "        'Termini': 'Vila Madalena ↔ Vila Prudente',\n",
    "        'Length': '14.7 km (9.1 mi)',\n",
    "        'Stations': 14,\n",
    "        'Duration of trip (min)': 26\n",
    "    },\n",
    "    {\n",
    "        'Line': '3',\n",
    "        'Termini': 'Palmeiras-Barra Funda ↔ Corinthians-Itaquera',\n",
    "        'Length': '22.0 km (13.7 mi)',\n",
    "        'Stations': 18,\n",
    "        'Duration of trip (min)': 34\n",
    "    },\n",
    "    {\n",
    "        'Line': '4',\n",
    "        'Termini': 'Vila Sônia–Professora Elisabeth Tenreiro ↔ Luz',\n",
    "        'Length': '12.9 km (8.0 mi)',\n",
    "        'Stations': 11,\n",
    "        'Duration of trip (min)': 19\n",
    "    },\n",
    "    {\n",
    "        'Line': '5',\n",
    "        'Termini': 'Capão Redondo ↔ Chácara Klabin',\n",
    "        'Length': '19.9 km (12.4 mi)',\n",
    "        'Stations': 17,\n",
    "        'Duration of trip (min)': 35\n",
    "    },\n",
    "    {\n",
    "        'Line': '15',\n",
    "        'Termini': 'Vila Prudente ↔ Jardim Colonial',\n",
    "        'Length': '14.7 km (9.1 mi)',\n",
    "        'Stations': 11,\n",
    "        'Duration of trip (min)': 21\n",
    "    }\n",
    "]\n",
    "\n",
    "# Calculate average time between stations\n",
    "for line in lines:\n",
    "    length_km = float(line['Length'].split(' ')[0])\n",
    "    stations = line['Stations']\n",
    "    duration_min = line['Duration of trip (min)']\n",
    "    \n",
    "    avg_time = duration_min / (stations - 1) if stations > 1 else duration_min\n",
    "    \n",
    "    line['Avg Time between Stations (min)'] = round(avg_time, 2)\n",
    "\n",
    "# Save data as CSV\n",
    "filename = 'metro_lines_info.csv'\n",
    "\n",
    "with open(filename, 'w', newline='') as csvfile:\n",
    "    fieldnames = ['Line', 'Termini', 'Length', 'Stations', 'Duration of trip (min)', 'Avg Time between Stations (min)']\n",
    "    writer = csv.DictWriter(csvfile, fieldnames=fieldnames)\n",
    "    writer.writeheader()\n",
    "    \n",
    "    for line in lines:\n",
    "        writer.writerow(line)\n",
    "\n",
    "print(f'CSV file \"{filename}\" has been created.')\n"
   ]
  },
  {
   "cell_type": "code",
   "execution_count": 5,
   "metadata": {},
   "outputs": [],
   "source": [
    "pes_df = pd.read_csv(r\"C:\\OMDENA\\Project\\sao-paulo-chapter-passenger-demand\\src\\tasks\\task_2_eda_dashboards\\data\\alllines_pes_complete.csv\")\n",
    "pes_df['date'] = pd.to_datetime(pes_df['date'])"
   ]
  },
  {
   "cell_type": "code",
   "execution_count": 6,
   "metadata": {},
   "outputs": [
    {
     "data": {
      "text/plain": [
       "1.77"
      ]
     },
     "execution_count": 6,
     "metadata": {},
     "output_type": "execute_result"
    }
   ],
   "source": [
    "avg_time_df = pd.read_csv(r\"C:\\OMDENA\\Project\\sao-paulo-chapter-passenger-demand\\src\\tasks\\task_3_model_training_validation\\Ansh_models\\metro_lines_info.csv\")\n",
    "avg_time_df\n",
    "time = avg_time_df[avg_time_df['Line']==1]\n",
    "weight = time['Avg Time between Stations (min)'].iloc[0]\n",
    "time['Avg Time between Stations (min)'].iloc[0]\n",
    "weight"
   ]
  },
  {
   "cell_type": "code",
   "execution_count": 7,
   "metadata": {},
   "outputs": [],
   "source": [
    "year = 2022\n",
    "month = 1\n"
   ]
  },
  {
   "cell_type": "code",
   "execution_count": 8,
   "metadata": {},
   "outputs": [],
   "source": [
    "G = nx.Graph()\n",
    "# Add nodes for each metro station\n",
    "for line, stations in metro_stations.items():\n",
    "    for station in stations:\n",
    "        station_name = station['station']\n",
    "        filtered_df = pes_df[(pes_df['station'].str.strip()==station_name)&(pes_df['date'].dt.year==2021)&(pes_df['date'].dt.month==1)]\n",
    "        dpea_value = filtered_df['dpea']\n",
    "        passengers = dpea_value.values[0]\n",
    "        G.add_node(station_name, passengers=passengers,line = f\"{line}\")\n",
    "# Add edges between adjacent stations\n",
    "for line, stations in metro_stations.items():\n",
    "    for i in range(len(stations) - 1):\n",
    "        station1 = stations[i]['station']\n",
    "        station2 = stations[i + 1]['station']\n",
    "        time = avg_time_df[avg_time_df['Line']==int(line)]\n",
    "        # print(time,\"\\n-------\")\n",
    "        avg_time = time['Avg Time between Stations (min)'].iloc[0]\n",
    "        # print(avg_time,\"\\n-------\")\n",
    "        t = avg_time\n",
    "        G.add_edge(station1, station2, weight = t)"
   ]
  },
  {
   "cell_type": "code",
   "execution_count": 9,
   "metadata": {},
   "outputs": [],
   "source": [
    "line_colors = {\n",
    "    '1': 'blue',\n",
    "    '2': 'green',\n",
    "    '3': 'red',\n",
    "    '4': 'yellow',\n",
    "    '5': 'purple',\n",
    "    '15': 'gray'\n",
    "}"
   ]
  },
  {
   "cell_type": "code",
   "execution_count": 10,
   "metadata": {},
   "outputs": [
    {
     "data": {
      "application/vnd.plotly.v1+json": {
       "config": {
        "plotlyServerURL": "https://plot.ly"
       },
       "data": [
        {
         "hoverinfo": "none",
         "line": {
          "color": "#888",
          "width": 0.5
         },
         "mode": "lines",
         "type": "scatter",
         "x": [
          -0.8797541006106362,
          -0.806002347375227,
          null,
          -0.806002347375227,
          -0.7134500052173517,
          null,
          -0.7134500052173517,
          -0.6062292147803159,
          null,
          -0.6062292147803159,
          -0.4818673633294862,
          null,
          -0.4818673633294862,
          -0.3448578515631632,
          null,
          -0.3448578515631632,
          -0.2968832342971898,
          null,
          -0.3448578515631632,
          -0.23594588860678609,
          null,
          -0.3448578515631632,
          -0.36299120535762497,
          null,
          -0.2968832342971898,
          -0.23878641490701752,
          null,
          -0.23878641490701752,
          -0.10284000760459401,
          null,
          -0.23878641490701752,
          -0.36299120535762497,
          null,
          -0.10284000760459401,
          0.040960015785478206,
          null,
          -0.10284000760459401,
          -0.12927518953870668,
          null,
          0.040960015785478206,
          0.16745388837373243,
          null,
          0.16745388837373243,
          0.28099643912376426,
          null,
          0.28099643912376426,
          0.3805534052176446,
          null,
          0.3805534052176446,
          0.39152891437890647,
          null,
          0.3805534052176446,
          0.32494719574572944,
          null,
          0.3805534052176446,
          0.491258115115239,
          null,
          0.39152891437890647,
          0.31570741348280096,
          null,
          0.31570741348280096,
          0.3480257197712564,
          null,
          0.31570741348280096,
          0.2315815904618688,
          null,
          0.3480257197712564,
          0.3578657676205782,
          null,
          0.3578657676205782,
          0.3576289262932289,
          null,
          0.3576289262932289,
          0.3496996772883629,
          null,
          0.3496996772883629,
          0.32643572936341847,
          null,
          0.32643572936341847,
          0.2875484817367124,
          null,
          0.2875484817367124,
          0.24400765681401304,
          null,
          0.24400765681401304,
          0.21955952078863683,
          null,
          -0.3400381798186555,
          -0.30939568104706744,
          null,
          -0.30939568104706744,
          -0.2682775746728245,
          null,
          -0.2682775746728245,
          -0.2236235472966433,
          null,
          -0.2236235472966433,
          -0.17429389428606684,
          null,
          -0.17429389428606684,
          -0.12927518953870668,
          null,
          -0.36299120535762497,
          -0.49559003455903633,
          null,
          -0.49559003455903633,
          -0.6098547340579407,
          null,
          -0.6098547340579407,
          -0.6961128671646506,
          null,
          -0.6961128671646506,
          -0.7236270297498503,
          null,
          -0.7236270297498503,
          -0.6607913344128844,
          null,
          -0.6607913344128844,
          -0.566205514901244,
          null,
          0.011008450304548697,
          0.07696052490239523,
          null,
          0.07696052490239523,
          0.14251187775263405,
          null,
          0.14251187775263405,
          0.2315815904618688,
          null,
          0.2315815904618688,
          0.32494719574572944,
          null,
          0.2315815904618688,
          0.16057857764215486,
          null,
          0.491258115115239,
          0.5603143848682569,
          null,
          0.5603143848682569,
          0.5834133269747768,
          null,
          0.5834133269747768,
          0.5783848554531372,
          null,
          0.5783848554531372,
          0.5549581022188939,
          null,
          0.5549581022188939,
          0.5140109793538574,
          null,
          0.5140109793538574,
          0.5441021800879517,
          null,
          0.5441021800879517,
          0.6517584574035601,
          null,
          0.6517584574035601,
          0.7670173039441016,
          null,
          0.7670173039441016,
          0.863578611295772,
          null,
          0.863578611295772,
          0.9412469488607808,
          null,
          0.9412469488607808,
          1,
          null,
          0.16057857764215486,
          0.08581647687917121,
          null,
          0.08581647687917121,
          0.012864972332774366,
          null,
          0.012864972332774366,
          -0.06325888520033808,
          null,
          -0.06325888520033808,
          -0.13825844681851604,
          null,
          -0.13825844681851604,
          -0.21199842694723775,
          null,
          -0.21199842694723775,
          -0.2791181675881948,
          null,
          -0.2791181675881948,
          -0.3357241040118301,
          null,
          -0.13884465372334479,
          -0.18900432360934344,
          null,
          -0.18900432360934344,
          -0.2508679830548871,
          null,
          -0.2508679830548871,
          -0.3062117672274419,
          null,
          -0.3062117672274419,
          -0.31893839365974613,
          null,
          -0.31893839365974613,
          -0.2704813132973148,
          null,
          -0.2704813132973148,
          -0.18490798984566126,
          null,
          -0.18490798984566126,
          -0.09129812884838633,
          null,
          -0.09129812884838633,
          -0.0009701480388361821,
          null,
          -0.0009701480388361821,
          0.07195330251040077,
          null,
          0.07195330251040077,
          0.07487182911363403,
          null,
          0.07487182911363403,
          0.04056410573003469,
          null,
          0.04056410573003469,
          -0.030063484465017734,
          null,
          -0.030063484465017734,
          -0.12808955004342282,
          null,
          -0.12808955004342282,
          -0.23594588860678609,
          null,
          0.3367310358415801,
          0.280707262704102,
          null,
          0.280707262704102,
          0.2018696932028191,
          null,
          0.2018696932028191,
          0.11326426013544197,
          null,
          0.11326426013544197,
          0.01692403090809841,
          null,
          0.01692403090809841,
          -0.09013921029375305,
          null,
          -0.09013921029375305,
          -0.21176058373295725,
          null,
          -0.21176058373295725,
          -0.3375880539239529,
          null,
          -0.3375880539239529,
          -0.45695317829710613,
          null,
          -0.45695317829710613,
          -0.566205514901244,
          null
         ],
         "y": [
          -0.4080828047541109,
          -0.37186059375609815,
          null,
          -0.37186059375609815,
          -0.3242395021398155,
          null,
          -0.3242395021398155,
          -0.2680382198859941,
          null,
          -0.2680382198859941,
          -0.20356345866912656,
          null,
          -0.20356345866912656,
          -0.13157538721302525,
          null,
          -0.13157538721302525,
          -0.04443371472145126,
          null,
          -0.13157538721302525,
          -0.20672086083641933,
          null,
          -0.13157538721302525,
          -0.021983416278654706,
          null,
          -0.04443371472145126,
          0.04156479368274571,
          null,
          0.04156479368274571,
          0.1347170147730599,
          null,
          0.04156479368274571,
          -0.021983416278654706,
          null,
          0.1347170147730599,
          0.04616884888129839,
          null,
          0.1347170147730599,
          0.29474629202474084,
          null,
          0.04616884888129839,
          -0.05540272212863875,
          null,
          -0.05540272212863875,
          -0.1642216617405104,
          null,
          -0.1642216617405104,
          -0.26672614405680084,
          null,
          -0.26672614405680084,
          -0.322120775926963,
          null,
          -0.26672614405680084,
          -0.3656653357637078,
          null,
          -0.26672614405680084,
          -0.23286687050831345,
          null,
          -0.322120775926963,
          -0.2775956037926895,
          null,
          -0.2775956037926895,
          -0.10821888698990449,
          null,
          -0.2775956037926895,
          -0.4079005164369321,
          null,
          -0.10821888698990449,
          0.06377944683073576,
          null,
          0.06377944683073576,
          0.23419511496603077,
          null,
          0.23419511496603077,
          0.39740957495719764,
          null,
          0.39740957495719764,
          0.5485600603044418,
          null,
          0.5485600603044418,
          0.6854532878901232,
          null,
          0.6854532878901232,
          0.8077406249030222,
          null,
          0.8077406249030222,
          0.8982979329989088,
          null,
          0.8591680446141226,
          0.7868685887225364,
          null,
          0.7868685887225364,
          0.6898435742821366,
          null,
          0.6898435742821366,
          0.5770004319549169,
          null,
          0.5770004319549169,
          0.4447654114145665,
          null,
          0.4447654114145665,
          0.29474629202474084,
          null,
          -0.021983416278654706,
          0.0007886389777343435,
          null,
          0.0007886389777343435,
          0.027412711709656642,
          null,
          0.027412711709656642,
          0.06737656919794587,
          null,
          0.06737656919794587,
          0.13687388994754457,
          null,
          0.13687388994754457,
          0.19216283351769572,
          null,
          0.19216283351769572,
          0.23062400424564128,
          null,
          -0.7803790465651526,
          -0.6906302969916039,
          null,
          -0.6906302969916039,
          -0.5595661986032932,
          null,
          -0.5595661986032932,
          -0.4079005164369321,
          null,
          -0.4079005164369321,
          -0.3656653357637078,
          null,
          -0.4079005164369321,
          -0.3230650265099053,
          null,
          -0.23286687050831345,
          -0.15873741094533728,
          null,
          -0.15873741094533728,
          -0.0630135945727566,
          null,
          -0.0630135945727566,
          0.034400597975933894,
          null,
          0.034400597975933894,
          0.12373636854156018,
          null,
          0.12373636854156018,
          0.19853285342382704,
          null,
          0.19853285342382704,
          0.18991763086911045,
          null,
          0.18991763086911045,
          0.17694600888169598,
          null,
          0.17694600888169598,
          0.15838923676787375,
          null,
          0.15838923676787375,
          0.1262670261374564,
          null,
          0.1262670261374564,
          0.08753050297155042,
          null,
          0.08753050297155042,
          0.053126532704761364,
          null,
          -0.3230650265099053,
          -0.2220558897445903,
          null,
          -0.2220558897445903,
          -0.11532561547247702,
          null,
          -0.11532561547247702,
          -0.007360284984863838,
          null,
          -0.007360284984863838,
          0.09711969613260281,
          null,
          0.09711969613260281,
          0.1999735003602422,
          null,
          0.1999735003602422,
          0.29016574889973656,
          null,
          0.29016574889973656,
          0.36674427580681956,
          null,
          -0.5889926567514686,
          -0.5688590315556808,
          null,
          -0.5688590315556808,
          -0.5662278968737452,
          null,
          -0.5662278968737452,
          -0.5940620017481725,
          null,
          -0.5940620017481725,
          -0.6568211370012845,
          null,
          -0.6568211370012845,
          -0.7169404472762524,
          null,
          -0.7169404472762524,
          -0.7188826946636792,
          null,
          -0.7188826946636792,
          -0.7081385934337968,
          null,
          -0.7081385934337968,
          -0.6805933411583756,
          null,
          -0.6805933411583756,
          -0.6206991452092595,
          null,
          -0.6206991452092595,
          -0.5340124447048521,
          null,
          -0.5340124447048521,
          -0.43982222887517763,
          null,
          -0.43982222887517763,
          -0.35244817597222994,
          null,
          -0.35244817597222994,
          -0.27797928406350497,
          null,
          -0.27797928406350497,
          -0.20672086083641933,
          null,
          0.8297516949597807,
          0.7642404164342566,
          null,
          0.7642404164342566,
          0.6869058831662407,
          null,
          0.6869058831662407,
          0.6112503914698407,
          null,
          0.6112503914698407,
          0.5328301640836397,
          null,
          0.5328301640836397,
          0.4555922512557686,
          null,
          0.4555922512557686,
          0.38445687234030024,
          null,
          0.38445687234030024,
          0.320796336251668,
          null,
          0.320796336251668,
          0.2716372390451473,
          null,
          0.2716372390451473,
          0.23062400424564128,
          null
         ]
        },
        {
         "hoverinfo": "text",
         "marker": {
          "color": [
           "blue",
           "blue",
           "blue",
           "blue",
           "blue",
           "purple",
           "blue",
           "green",
           "green",
           "blue",
           "blue",
           "blue",
           "red",
           "blue",
           "yellow",
           "blue",
           "blue",
           "blue",
           "blue",
           "blue",
           "blue",
           "blue",
           "blue",
           "green",
           "green",
           "green",
           "green",
           "green",
           "green",
           "purple",
           "green",
           "green",
           "green",
           "green",
           "gray",
           "red",
           "red",
           "red",
           "yellow",
           "red",
           "red",
           "red",
           "red",
           "red",
           "red",
           "red",
           "red",
           "red",
           "red",
           "red",
           "red",
           "red",
           "yellow",
           "yellow",
           "yellow",
           "yellow",
           "yellow",
           "yellow",
           "yellow",
           "yellow",
           "purple",
           "purple",
           "purple",
           "purple",
           "purple",
           "purple",
           "purple",
           "purple",
           "purple",
           "purple",
           "purple",
           "purple",
           "purple",
           "purple",
           "purple",
           "gray",
           "gray",
           "gray",
           "gray",
           "gray",
           "gray",
           "gray",
           "gray",
           "gray",
           "gray"
          ],
          "colorbar": {
           "thickness": 15,
           "title": {
            "side": "right",
            "text": "Node Connections"
           },
           "xanchor": "left"
          },
          "colorscale": [
           [
            0,
            "rgb(255,255,217)"
           ],
           [
            0.125,
            "rgb(237,248,177)"
           ],
           [
            0.25,
            "rgb(199,233,180)"
           ],
           [
            0.375,
            "rgb(127,205,187)"
           ],
           [
            0.5,
            "rgb(65,182,196)"
           ],
           [
            0.625,
            "rgb(29,145,192)"
           ],
           [
            0.75,
            "rgb(34,94,168)"
           ],
           [
            0.875,
            "rgb(37,52,148)"
           ],
           [
            1,
            "rgb(8,29,88)"
           ]
          ],
          "line": {
           "width": 2
          },
          "reversescale": true,
          "showscale": false,
          "size": 10
         },
         "mode": "markers+text",
         "text": [
          "Jabaquara",
          "Conceição",
          "São Judas",
          "Saúde",
          "Praça da Árvore",
          "Santa Cruz",
          "Vila Mariana",
          "Ana Rosa",
          "Paraíso",
          "Vergueiro",
          "São Joaquim",
          "Japão-Liberdade",
          "Sé",
          "São Bento",
          "Luz",
          "Tiradentes",
          "Armênia",
          "Portuguesa-Tietê",
          "Carandiru",
          "Santana",
          "Jardim São Paulo-Ayrton Senna",
          "Parada Inglesa",
          "Tucuruvi",
          "Vila Madalena",
          "Santuário N.S. de Fátima-Sumaré",
          "Clínicas",
          "Consolação",
          "Trianon-Masp",
          "Brigadeiro",
          "Chácara Klabin",
          "Santos-Imigrantes",
          "Alto do Ipiranga",
          "Sacomã",
          "Tamanduateí",
          "Vila Prudente",
          "Palmeiras-Barra Funda",
          "Marechal Deodoro",
          "Santa Cecília",
          "República",
          "Anhangabaú",
          "Pedro II",
          "Brás",
          "Bresser-Moóca",
          "Belém",
          "Tatuapé",
          "Carrão",
          "Penha",
          "Vila Matilde",
          "Guilhermina-Esperança",
          "Patriarca",
          "Artur Alvim",
          "Corinthians-Itaquera",
          "Higienópolis - Mackenzie",
          "Paulista",
          "Oscar Freire",
          "Fradique Coutinho",
          "Faria Lima",
          "Pinheiros",
          "Butantã",
          "São Paulo - Morumbi",
          "Capão Redondo",
          "Campo Limpo",
          "Vila das Belezas",
          "Giovanni Gronchi",
          "Santo Amaro",
          "Largo Treze",
          "Adolfo Pinheiro",
          "Alto da Boa Vista",
          "Borba Gato",
          "Brooklin",
          "Campo Belo",
          "Eucaliptos",
          "Moema",
          "AACD - Servidor",
          "Hospital São Paulo",
          "Jardim Colonial",
          "São Mateus",
          "Fazenda da Juta",
          "Sapopemba",
          "Jardim Planalto",
          "Vila União",
          "Vila Tolstói",
          "Camilo Haddad",
          "São Lucas",
          "Oratório"
         ],
         "type": "scatter",
         "x": [
          -0.8797541006106362,
          -0.806002347375227,
          -0.7134500052173517,
          -0.6062292147803159,
          -0.4818673633294862,
          -0.3448578515631632,
          -0.2968832342971898,
          -0.23878641490701752,
          -0.10284000760459401,
          0.040960015785478206,
          0.16745388837373243,
          0.28099643912376426,
          0.3805534052176446,
          0.39152891437890647,
          0.31570741348280096,
          0.3480257197712564,
          0.3578657676205782,
          0.3576289262932289,
          0.3496996772883629,
          0.32643572936341847,
          0.2875484817367124,
          0.24400765681401304,
          0.21955952078863683,
          -0.3400381798186555,
          -0.30939568104706744,
          -0.2682775746728245,
          -0.2236235472966433,
          -0.17429389428606684,
          -0.12927518953870668,
          -0.36299120535762497,
          -0.49559003455903633,
          -0.6098547340579407,
          -0.6961128671646506,
          -0.7236270297498503,
          -0.6607913344128844,
          0.011008450304548697,
          0.07696052490239523,
          0.14251187775263405,
          0.2315815904618688,
          0.32494719574572944,
          0.491258115115239,
          0.5603143848682569,
          0.5834133269747768,
          0.5783848554531372,
          0.5549581022188939,
          0.5140109793538574,
          0.5441021800879517,
          0.6517584574035601,
          0.7670173039441016,
          0.863578611295772,
          0.9412469488607808,
          1,
          0.16057857764215486,
          0.08581647687917121,
          0.012864972332774366,
          -0.06325888520033808,
          -0.13825844681851604,
          -0.21199842694723775,
          -0.2791181675881948,
          -0.3357241040118301,
          -0.13884465372334479,
          -0.18900432360934344,
          -0.2508679830548871,
          -0.3062117672274419,
          -0.31893839365974613,
          -0.2704813132973148,
          -0.18490798984566126,
          -0.09129812884838633,
          -0.0009701480388361821,
          0.07195330251040077,
          0.07487182911363403,
          0.04056410573003469,
          -0.030063484465017734,
          -0.12808955004342282,
          -0.23594588860678609,
          0.3367310358415801,
          0.280707262704102,
          0.2018696932028191,
          0.11326426013544197,
          0.01692403090809841,
          -0.09013921029375305,
          -0.21176058373295725,
          -0.3375880539239529,
          -0.45695317829710613,
          -0.566205514901244
         ],
         "y": [
          -0.4080828047541109,
          -0.37186059375609815,
          -0.3242395021398155,
          -0.2680382198859941,
          -0.20356345866912656,
          -0.13157538721302525,
          -0.04443371472145126,
          0.04156479368274571,
          0.1347170147730599,
          0.04616884888129839,
          -0.05540272212863875,
          -0.1642216617405104,
          -0.26672614405680084,
          -0.322120775926963,
          -0.2775956037926895,
          -0.10821888698990449,
          0.06377944683073576,
          0.23419511496603077,
          0.39740957495719764,
          0.5485600603044418,
          0.6854532878901232,
          0.8077406249030222,
          0.8982979329989088,
          0.8591680446141226,
          0.7868685887225364,
          0.6898435742821366,
          0.5770004319549169,
          0.4447654114145665,
          0.29474629202474084,
          -0.021983416278654706,
          0.0007886389777343435,
          0.027412711709656642,
          0.06737656919794587,
          0.13687388994754457,
          0.19216283351769572,
          -0.7803790465651526,
          -0.6906302969916039,
          -0.5595661986032932,
          -0.4079005164369321,
          -0.3656653357637078,
          -0.23286687050831345,
          -0.15873741094533728,
          -0.0630135945727566,
          0.034400597975933894,
          0.12373636854156018,
          0.19853285342382704,
          0.18991763086911045,
          0.17694600888169598,
          0.15838923676787375,
          0.1262670261374564,
          0.08753050297155042,
          0.053126532704761364,
          -0.3230650265099053,
          -0.2220558897445903,
          -0.11532561547247702,
          -0.007360284984863838,
          0.09711969613260281,
          0.1999735003602422,
          0.29016574889973656,
          0.36674427580681956,
          -0.5889926567514686,
          -0.5688590315556808,
          -0.5662278968737452,
          -0.5940620017481725,
          -0.6568211370012845,
          -0.7169404472762524,
          -0.7188826946636792,
          -0.7081385934337968,
          -0.6805933411583756,
          -0.6206991452092595,
          -0.5340124447048521,
          -0.43982222887517763,
          -0.35244817597222994,
          -0.27797928406350497,
          -0.20672086083641933,
          0.8297516949597807,
          0.7642404164342566,
          0.6869058831662407,
          0.6112503914698407,
          0.5328301640836397,
          0.4555922512557686,
          0.38445687234030024,
          0.320796336251668,
          0.2716372390451473,
          0.23062400424564128
         ]
        }
       ],
       "layout": {
        "hovermode": "closest",
        "margin": {
         "b": 20,
         "l": 5,
         "r": 5,
         "t": 40
        },
        "showlegend": false,
        "template": {
         "data": {
          "bar": [
           {
            "error_x": {
             "color": "#2a3f5f"
            },
            "error_y": {
             "color": "#2a3f5f"
            },
            "marker": {
             "line": {
              "color": "#E5ECF6",
              "width": 0.5
             },
             "pattern": {
              "fillmode": "overlay",
              "size": 10,
              "solidity": 0.2
             }
            },
            "type": "bar"
           }
          ],
          "barpolar": [
           {
            "marker": {
             "line": {
              "color": "#E5ECF6",
              "width": 0.5
             },
             "pattern": {
              "fillmode": "overlay",
              "size": 10,
              "solidity": 0.2
             }
            },
            "type": "barpolar"
           }
          ],
          "carpet": [
           {
            "aaxis": {
             "endlinecolor": "#2a3f5f",
             "gridcolor": "white",
             "linecolor": "white",
             "minorgridcolor": "white",
             "startlinecolor": "#2a3f5f"
            },
            "baxis": {
             "endlinecolor": "#2a3f5f",
             "gridcolor": "white",
             "linecolor": "white",
             "minorgridcolor": "white",
             "startlinecolor": "#2a3f5f"
            },
            "type": "carpet"
           }
          ],
          "choropleth": [
           {
            "colorbar": {
             "outlinewidth": 0,
             "ticks": ""
            },
            "type": "choropleth"
           }
          ],
          "contour": [
           {
            "colorbar": {
             "outlinewidth": 0,
             "ticks": ""
            },
            "colorscale": [
             [
              0,
              "#0d0887"
             ],
             [
              0.1111111111111111,
              "#46039f"
             ],
             [
              0.2222222222222222,
              "#7201a8"
             ],
             [
              0.3333333333333333,
              "#9c179e"
             ],
             [
              0.4444444444444444,
              "#bd3786"
             ],
             [
              0.5555555555555556,
              "#d8576b"
             ],
             [
              0.6666666666666666,
              "#ed7953"
             ],
             [
              0.7777777777777778,
              "#fb9f3a"
             ],
             [
              0.8888888888888888,
              "#fdca26"
             ],
             [
              1,
              "#f0f921"
             ]
            ],
            "type": "contour"
           }
          ],
          "contourcarpet": [
           {
            "colorbar": {
             "outlinewidth": 0,
             "ticks": ""
            },
            "type": "contourcarpet"
           }
          ],
          "heatmap": [
           {
            "colorbar": {
             "outlinewidth": 0,
             "ticks": ""
            },
            "colorscale": [
             [
              0,
              "#0d0887"
             ],
             [
              0.1111111111111111,
              "#46039f"
             ],
             [
              0.2222222222222222,
              "#7201a8"
             ],
             [
              0.3333333333333333,
              "#9c179e"
             ],
             [
              0.4444444444444444,
              "#bd3786"
             ],
             [
              0.5555555555555556,
              "#d8576b"
             ],
             [
              0.6666666666666666,
              "#ed7953"
             ],
             [
              0.7777777777777778,
              "#fb9f3a"
             ],
             [
              0.8888888888888888,
              "#fdca26"
             ],
             [
              1,
              "#f0f921"
             ]
            ],
            "type": "heatmap"
           }
          ],
          "heatmapgl": [
           {
            "colorbar": {
             "outlinewidth": 0,
             "ticks": ""
            },
            "colorscale": [
             [
              0,
              "#0d0887"
             ],
             [
              0.1111111111111111,
              "#46039f"
             ],
             [
              0.2222222222222222,
              "#7201a8"
             ],
             [
              0.3333333333333333,
              "#9c179e"
             ],
             [
              0.4444444444444444,
              "#bd3786"
             ],
             [
              0.5555555555555556,
              "#d8576b"
             ],
             [
              0.6666666666666666,
              "#ed7953"
             ],
             [
              0.7777777777777778,
              "#fb9f3a"
             ],
             [
              0.8888888888888888,
              "#fdca26"
             ],
             [
              1,
              "#f0f921"
             ]
            ],
            "type": "heatmapgl"
           }
          ],
          "histogram": [
           {
            "marker": {
             "pattern": {
              "fillmode": "overlay",
              "size": 10,
              "solidity": 0.2
             }
            },
            "type": "histogram"
           }
          ],
          "histogram2d": [
           {
            "colorbar": {
             "outlinewidth": 0,
             "ticks": ""
            },
            "colorscale": [
             [
              0,
              "#0d0887"
             ],
             [
              0.1111111111111111,
              "#46039f"
             ],
             [
              0.2222222222222222,
              "#7201a8"
             ],
             [
              0.3333333333333333,
              "#9c179e"
             ],
             [
              0.4444444444444444,
              "#bd3786"
             ],
             [
              0.5555555555555556,
              "#d8576b"
             ],
             [
              0.6666666666666666,
              "#ed7953"
             ],
             [
              0.7777777777777778,
              "#fb9f3a"
             ],
             [
              0.8888888888888888,
              "#fdca26"
             ],
             [
              1,
              "#f0f921"
             ]
            ],
            "type": "histogram2d"
           }
          ],
          "histogram2dcontour": [
           {
            "colorbar": {
             "outlinewidth": 0,
             "ticks": ""
            },
            "colorscale": [
             [
              0,
              "#0d0887"
             ],
             [
              0.1111111111111111,
              "#46039f"
             ],
             [
              0.2222222222222222,
              "#7201a8"
             ],
             [
              0.3333333333333333,
              "#9c179e"
             ],
             [
              0.4444444444444444,
              "#bd3786"
             ],
             [
              0.5555555555555556,
              "#d8576b"
             ],
             [
              0.6666666666666666,
              "#ed7953"
             ],
             [
              0.7777777777777778,
              "#fb9f3a"
             ],
             [
              0.8888888888888888,
              "#fdca26"
             ],
             [
              1,
              "#f0f921"
             ]
            ],
            "type": "histogram2dcontour"
           }
          ],
          "mesh3d": [
           {
            "colorbar": {
             "outlinewidth": 0,
             "ticks": ""
            },
            "type": "mesh3d"
           }
          ],
          "parcoords": [
           {
            "line": {
             "colorbar": {
              "outlinewidth": 0,
              "ticks": ""
             }
            },
            "type": "parcoords"
           }
          ],
          "pie": [
           {
            "automargin": true,
            "type": "pie"
           }
          ],
          "scatter": [
           {
            "fillpattern": {
             "fillmode": "overlay",
             "size": 10,
             "solidity": 0.2
            },
            "type": "scatter"
           }
          ],
          "scatter3d": [
           {
            "line": {
             "colorbar": {
              "outlinewidth": 0,
              "ticks": ""
             }
            },
            "marker": {
             "colorbar": {
              "outlinewidth": 0,
              "ticks": ""
             }
            },
            "type": "scatter3d"
           }
          ],
          "scattercarpet": [
           {
            "marker": {
             "colorbar": {
              "outlinewidth": 0,
              "ticks": ""
             }
            },
            "type": "scattercarpet"
           }
          ],
          "scattergeo": [
           {
            "marker": {
             "colorbar": {
              "outlinewidth": 0,
              "ticks": ""
             }
            },
            "type": "scattergeo"
           }
          ],
          "scattergl": [
           {
            "marker": {
             "colorbar": {
              "outlinewidth": 0,
              "ticks": ""
             }
            },
            "type": "scattergl"
           }
          ],
          "scattermapbox": [
           {
            "marker": {
             "colorbar": {
              "outlinewidth": 0,
              "ticks": ""
             }
            },
            "type": "scattermapbox"
           }
          ],
          "scatterpolar": [
           {
            "marker": {
             "colorbar": {
              "outlinewidth": 0,
              "ticks": ""
             }
            },
            "type": "scatterpolar"
           }
          ],
          "scatterpolargl": [
           {
            "marker": {
             "colorbar": {
              "outlinewidth": 0,
              "ticks": ""
             }
            },
            "type": "scatterpolargl"
           }
          ],
          "scatterternary": [
           {
            "marker": {
             "colorbar": {
              "outlinewidth": 0,
              "ticks": ""
             }
            },
            "type": "scatterternary"
           }
          ],
          "surface": [
           {
            "colorbar": {
             "outlinewidth": 0,
             "ticks": ""
            },
            "colorscale": [
             [
              0,
              "#0d0887"
             ],
             [
              0.1111111111111111,
              "#46039f"
             ],
             [
              0.2222222222222222,
              "#7201a8"
             ],
             [
              0.3333333333333333,
              "#9c179e"
             ],
             [
              0.4444444444444444,
              "#bd3786"
             ],
             [
              0.5555555555555556,
              "#d8576b"
             ],
             [
              0.6666666666666666,
              "#ed7953"
             ],
             [
              0.7777777777777778,
              "#fb9f3a"
             ],
             [
              0.8888888888888888,
              "#fdca26"
             ],
             [
              1,
              "#f0f921"
             ]
            ],
            "type": "surface"
           }
          ],
          "table": [
           {
            "cells": {
             "fill": {
              "color": "#EBF0F8"
             },
             "line": {
              "color": "white"
             }
            },
            "header": {
             "fill": {
              "color": "#C8D4E3"
             },
             "line": {
              "color": "white"
             }
            },
            "type": "table"
           }
          ]
         },
         "layout": {
          "annotationdefaults": {
           "arrowcolor": "#2a3f5f",
           "arrowhead": 0,
           "arrowwidth": 1
          },
          "autotypenumbers": "strict",
          "coloraxis": {
           "colorbar": {
            "outlinewidth": 0,
            "ticks": ""
           }
          },
          "colorscale": {
           "diverging": [
            [
             0,
             "#8e0152"
            ],
            [
             0.1,
             "#c51b7d"
            ],
            [
             0.2,
             "#de77ae"
            ],
            [
             0.3,
             "#f1b6da"
            ],
            [
             0.4,
             "#fde0ef"
            ],
            [
             0.5,
             "#f7f7f7"
            ],
            [
             0.6,
             "#e6f5d0"
            ],
            [
             0.7,
             "#b8e186"
            ],
            [
             0.8,
             "#7fbc41"
            ],
            [
             0.9,
             "#4d9221"
            ],
            [
             1,
             "#276419"
            ]
           ],
           "sequential": [
            [
             0,
             "#0d0887"
            ],
            [
             0.1111111111111111,
             "#46039f"
            ],
            [
             0.2222222222222222,
             "#7201a8"
            ],
            [
             0.3333333333333333,
             "#9c179e"
            ],
            [
             0.4444444444444444,
             "#bd3786"
            ],
            [
             0.5555555555555556,
             "#d8576b"
            ],
            [
             0.6666666666666666,
             "#ed7953"
            ],
            [
             0.7777777777777778,
             "#fb9f3a"
            ],
            [
             0.8888888888888888,
             "#fdca26"
            ],
            [
             1,
             "#f0f921"
            ]
           ],
           "sequentialminus": [
            [
             0,
             "#0d0887"
            ],
            [
             0.1111111111111111,
             "#46039f"
            ],
            [
             0.2222222222222222,
             "#7201a8"
            ],
            [
             0.3333333333333333,
             "#9c179e"
            ],
            [
             0.4444444444444444,
             "#bd3786"
            ],
            [
             0.5555555555555556,
             "#d8576b"
            ],
            [
             0.6666666666666666,
             "#ed7953"
            ],
            [
             0.7777777777777778,
             "#fb9f3a"
            ],
            [
             0.8888888888888888,
             "#fdca26"
            ],
            [
             1,
             "#f0f921"
            ]
           ]
          },
          "colorway": [
           "#636efa",
           "#EF553B",
           "#00cc96",
           "#ab63fa",
           "#FFA15A",
           "#19d3f3",
           "#FF6692",
           "#B6E880",
           "#FF97FF",
           "#FECB52"
          ],
          "font": {
           "color": "#2a3f5f"
          },
          "geo": {
           "bgcolor": "white",
           "lakecolor": "white",
           "landcolor": "#E5ECF6",
           "showlakes": true,
           "showland": true,
           "subunitcolor": "white"
          },
          "hoverlabel": {
           "align": "left"
          },
          "hovermode": "closest",
          "mapbox": {
           "style": "light"
          },
          "paper_bgcolor": "white",
          "plot_bgcolor": "#E5ECF6",
          "polar": {
           "angularaxis": {
            "gridcolor": "white",
            "linecolor": "white",
            "ticks": ""
           },
           "bgcolor": "#E5ECF6",
           "radialaxis": {
            "gridcolor": "white",
            "linecolor": "white",
            "ticks": ""
           }
          },
          "scene": {
           "xaxis": {
            "backgroundcolor": "#E5ECF6",
            "gridcolor": "white",
            "gridwidth": 2,
            "linecolor": "white",
            "showbackground": true,
            "ticks": "",
            "zerolinecolor": "white"
           },
           "yaxis": {
            "backgroundcolor": "#E5ECF6",
            "gridcolor": "white",
            "gridwidth": 2,
            "linecolor": "white",
            "showbackground": true,
            "ticks": "",
            "zerolinecolor": "white"
           },
           "zaxis": {
            "backgroundcolor": "#E5ECF6",
            "gridcolor": "white",
            "gridwidth": 2,
            "linecolor": "white",
            "showbackground": true,
            "ticks": "",
            "zerolinecolor": "white"
           }
          },
          "shapedefaults": {
           "line": {
            "color": "#2a3f5f"
           }
          },
          "ternary": {
           "aaxis": {
            "gridcolor": "white",
            "linecolor": "white",
            "ticks": ""
           },
           "baxis": {
            "gridcolor": "white",
            "linecolor": "white",
            "ticks": ""
           },
           "bgcolor": "#E5ECF6",
           "caxis": {
            "gridcolor": "white",
            "linecolor": "white",
            "ticks": ""
           }
          },
          "title": {
           "x": 0.05
          },
          "xaxis": {
           "automargin": true,
           "gridcolor": "white",
           "linecolor": "white",
           "ticks": "",
           "title": {
            "standoff": 15
           },
           "zerolinecolor": "white",
           "zerolinewidth": 2
          },
          "yaxis": {
           "automargin": true,
           "gridcolor": "white",
           "linecolor": "white",
           "ticks": "",
           "title": {
            "standoff": 15
           },
           "zerolinecolor": "white",
           "zerolinewidth": 2
          }
         }
        },
        "title": {
         "font": {
          "size": 24
         },
         "text": "Metro Stations Network",
         "x": 0.5
        },
        "xaxis": {
         "showgrid": false,
         "showticklabels": false,
         "zeroline": false
        },
        "yaxis": {
         "showgrid": false,
         "showticklabels": false,
         "zeroline": false
        }
       }
      }
     },
     "metadata": {},
     "output_type": "display_data"
    }
   ],
   "source": [
    "# Convert NetworkX graph to Plotly graph object\n",
    "pos = nx.spring_layout(G)\n",
    "edge_trace = go.Scatter(\n",
    "    x=[],\n",
    "    y=[],\n",
    "    line=dict(width=0.5, color='#888'),\n",
    "    hoverinfo='none',\n",
    "    mode='lines')\n",
    "\n",
    "for edge in G.edges():\n",
    "    x0, y0 = pos[edge[0]]\n",
    "    x1, y1 = pos[edge[1]]\n",
    "    edge_trace['x'] += (x0, x1, None)\n",
    "    edge_trace['y'] += (y0, y1, None)\n",
    "\n",
    "node_trace = go.Scatter(\n",
    "    x=[],\n",
    "    y=[],\n",
    "    text=[],\n",
    "    mode='markers+text',\n",
    "    hoverinfo='text',\n",
    "    marker=dict(\n",
    "        showscale=False,\n",
    "        colorscale='YlGnBu',\n",
    "        reversescale=True,\n",
    "        color=[],\n",
    "        size=10,\n",
    "        colorbar=dict(\n",
    "            thickness=15,\n",
    "            title='Node Connections',\n",
    "            xanchor='left',\n",
    "            titleside='right'\n",
    "        ),\n",
    "        line_width=2))\n",
    "\n",
    "for node in G.nodes():\n",
    "    x, y = pos[node]\n",
    "    node_trace['x'] += (x,)\n",
    "    node_trace['y'] += (y,)\n",
    "    node_trace['text'] += (node,)\n",
    "    \n",
    "    # Set node color based on line color\n",
    "    line = G.nodes[node]['line']\n",
    "    color = line_colors[line]\n",
    "    node_trace['marker']['color'] += (color,)\n",
    "\n",
    "# Create the figure and add traces\n",
    "fig = go.Figure(data=[edge_trace, node_trace])\n",
    "\n",
    "# Update layout settings\n",
    "fig.update_layout(\n",
    "    title='Metro Stations Network',\n",
    "    title_x=0.5,\n",
    "    title_font=dict(size=24),\n",
    "    showlegend=False,\n",
    "    hovermode='closest',\n",
    "    margin=dict(b=20, l=5, r=5, t=40),\n",
    "    xaxis=dict(showgrid=False, zeroline=False, showticklabels=False),\n",
    "    yaxis=dict(showgrid=False, zeroline=False, showticklabels=False))\n",
    "\n",
    "# Show the plotly figure\n",
    "fig.show()"
   ]
  },
  {
   "cell_type": "code",
   "execution_count": 89,
   "metadata": {},
   "outputs": [
    {
     "name": "stdout",
     "output_type": "stream",
     "text": [
      "Shortest Path: ['Chácara Klabin', 'Ana Rosa', 'Vila Mariana']\n"
     ]
    },
    {
     "data": {
      "text/html": [
       "<div style=\"width:100%;\"><div style=\"position:relative;width:100%;height:0;padding-bottom:60%;\"><span style=\"color:#565656\">Make this Notebook Trusted to load map: File -> Trust Notebook</span><iframe srcdoc=\"&lt;!DOCTYPE html&gt;\n",
       "&lt;html&gt;\n",
       "&lt;head&gt;\n",
       "    \n",
       "    &lt;meta http-equiv=&quot;content-type&quot; content=&quot;text/html; charset=UTF-8&quot; /&gt;\n",
       "    \n",
       "        &lt;script&gt;\n",
       "            L_NO_TOUCH = false;\n",
       "            L_DISABLE_3D = false;\n",
       "        &lt;/script&gt;\n",
       "    \n",
       "    &lt;style&gt;html, body {width: 100%;height: 100%;margin: 0;padding: 0;}&lt;/style&gt;\n",
       "    &lt;style&gt;#map {position:absolute;top:0;bottom:0;right:0;left:0;}&lt;/style&gt;\n",
       "    &lt;script src=&quot;https://cdn.jsdelivr.net/npm/leaflet@1.9.3/dist/leaflet.js&quot;&gt;&lt;/script&gt;\n",
       "    &lt;script src=&quot;https://code.jquery.com/jquery-1.12.4.min.js&quot;&gt;&lt;/script&gt;\n",
       "    &lt;script src=&quot;https://cdn.jsdelivr.net/npm/bootstrap@5.2.2/dist/js/bootstrap.bundle.min.js&quot;&gt;&lt;/script&gt;\n",
       "    &lt;script src=&quot;https://cdnjs.cloudflare.com/ajax/libs/Leaflet.awesome-markers/2.0.2/leaflet.awesome-markers.js&quot;&gt;&lt;/script&gt;\n",
       "    &lt;link rel=&quot;stylesheet&quot; href=&quot;https://cdn.jsdelivr.net/npm/leaflet@1.9.3/dist/leaflet.css&quot;/&gt;\n",
       "    &lt;link rel=&quot;stylesheet&quot; href=&quot;https://cdn.jsdelivr.net/npm/bootstrap@5.2.2/dist/css/bootstrap.min.css&quot;/&gt;\n",
       "    &lt;link rel=&quot;stylesheet&quot; href=&quot;https://netdna.bootstrapcdn.com/bootstrap/3.0.0/css/bootstrap.min.css&quot;/&gt;\n",
       "    &lt;link rel=&quot;stylesheet&quot; href=&quot;https://cdn.jsdelivr.net/npm/@fortawesome/fontawesome-free@6.2.0/css/all.min.css&quot;/&gt;\n",
       "    &lt;link rel=&quot;stylesheet&quot; href=&quot;https://cdnjs.cloudflare.com/ajax/libs/Leaflet.awesome-markers/2.0.2/leaflet.awesome-markers.css&quot;/&gt;\n",
       "    &lt;link rel=&quot;stylesheet&quot; href=&quot;https://cdn.jsdelivr.net/gh/python-visualization/folium/folium/templates/leaflet.awesome.rotate.min.css&quot;/&gt;\n",
       "    \n",
       "            &lt;meta name=&quot;viewport&quot; content=&quot;width=device-width,\n",
       "                initial-scale=1.0, maximum-scale=1.0, user-scalable=no&quot; /&gt;\n",
       "            &lt;style&gt;\n",
       "                #map_961ea093de73a3c8a3519ad4e470cf6d {\n",
       "                    position: relative;\n",
       "                    width: 100.0%;\n",
       "                    height: 100.0%;\n",
       "                    left: 0.0%;\n",
       "                    top: 0.0%;\n",
       "                }\n",
       "                .leaflet-container { font-size: 1rem; }\n",
       "            &lt;/style&gt;\n",
       "        \n",
       "&lt;/head&gt;\n",
       "&lt;body&gt;\n",
       "    \n",
       "    \n",
       "            &lt;div class=&quot;folium-map&quot; id=&quot;map_961ea093de73a3c8a3519ad4e470cf6d&quot; &gt;&lt;/div&gt;\n",
       "        \n",
       "&lt;/body&gt;\n",
       "&lt;script&gt;\n",
       "    \n",
       "    \n",
       "            var map_961ea093de73a3c8a3519ad4e470cf6d = L.map(\n",
       "                &quot;map_961ea093de73a3c8a3519ad4e470cf6d&quot;,\n",
       "                {\n",
       "                    center: [-23.5505, -46.6333],\n",
       "                    crs: L.CRS.EPSG3857,\n",
       "                    zoom: 12,\n",
       "                    zoomControl: true,\n",
       "                    preferCanvas: false,\n",
       "                }\n",
       "            );\n",
       "\n",
       "            \n",
       "\n",
       "        \n",
       "    \n",
       "            var tile_layer_7c2f77c3d29f96df8b03d58fe1b87515 = L.tileLayer(\n",
       "                &quot;https://{s}.tile.openstreetmap.org/{z}/{x}/{y}.png&quot;,\n",
       "                {&quot;attribution&quot;: &quot;Data by \\u0026copy; \\u003ca target=\\&quot;_blank\\&quot; href=\\&quot;http://openstreetmap.org\\&quot;\\u003eOpenStreetMap\\u003c/a\\u003e, under \\u003ca target=\\&quot;_blank\\&quot; href=\\&quot;http://www.openstreetmap.org/copyright\\&quot;\\u003eODbL\\u003c/a\\u003e.&quot;, &quot;detectRetina&quot;: false, &quot;maxNativeZoom&quot;: 18, &quot;maxZoom&quot;: 18, &quot;minZoom&quot;: 0, &quot;noWrap&quot;: false, &quot;opacity&quot;: 1, &quot;subdomains&quot;: &quot;abc&quot;, &quot;tms&quot;: false}\n",
       "            ).addTo(map_961ea093de73a3c8a3519ad4e470cf6d);\n",
       "        \n",
       "    \n",
       "            var circle_marker_807d736eeca6e57dfa1c951b5c0d1418 = L.circleMarker(\n",
       "                [-23.592503, -46.629978],\n",
       "                {&quot;bubblingMouseEvents&quot;: true, &quot;color&quot;: &quot;purple&quot;, &quot;dashArray&quot;: null, &quot;dashOffset&quot;: null, &quot;fill&quot;: true, &quot;fillColor&quot;: &quot;gray&quot;, &quot;fillOpacity&quot;: 0.2, &quot;fillRule&quot;: &quot;evenodd&quot;, &quot;lineCap&quot;: &quot;round&quot;, &quot;lineJoin&quot;: &quot;round&quot;, &quot;opacity&quot;: 1.0, &quot;radius&quot;: 11.428571428571429, &quot;stroke&quot;: true, &quot;weight&quot;: 3}\n",
       "            ).addTo(map_961ea093de73a3c8a3519ad4e470cf6d);\n",
       "        \n",
       "    \n",
       "            circle_marker_807d736eeca6e57dfa1c951b5c0d1418.bindTooltip(\n",
       "                `&lt;div&gt;\n",
       "                     Station: Chácara Klabin&lt;br&gt;Passengers: 40000.0\n",
       "                 &lt;/div&gt;`,\n",
       "                {&quot;sticky&quot;: true}\n",
       "            );\n",
       "        \n",
       "    \n",
       "            var poly_line_bfecab4a7eacaa49879e2cbf82833d48 = L.polyline(\n",
       "                [[-23.592503, -46.629978], [-23.581494, -46.638265]],\n",
       "                {&quot;bubblingMouseEvents&quot;: true, &quot;color&quot;: &quot;gray&quot;, &quot;dashArray&quot;: null, &quot;dashOffset&quot;: null, &quot;fill&quot;: false, &quot;fillColor&quot;: &quot;gray&quot;, &quot;fillOpacity&quot;: 0.2, &quot;fillRule&quot;: &quot;evenodd&quot;, &quot;lineCap&quot;: &quot;round&quot;, &quot;lineJoin&quot;: &quot;round&quot;, &quot;noClip&quot;: false, &quot;opacity&quot;: 0.7, &quot;smoothFactor&quot;: 1.0, &quot;stroke&quot;: true, &quot;weight&quot;: 3}\n",
       "            ).addTo(map_961ea093de73a3c8a3519ad4e470cf6d);\n",
       "        \n",
       "    \n",
       "            var circle_marker_1322f0d21c19af6152e224cd4a9f88c1 = L.circleMarker(\n",
       "                [-23.581494, -46.638265],\n",
       "                {&quot;bubblingMouseEvents&quot;: true, &quot;color&quot;: &quot;green&quot;, &quot;dashArray&quot;: null, &quot;dashOffset&quot;: null, &quot;fill&quot;: true, &quot;fillColor&quot;: &quot;gray&quot;, &quot;fillOpacity&quot;: 0.2, &quot;fillRule&quot;: &quot;evenodd&quot;, &quot;lineCap&quot;: &quot;round&quot;, &quot;lineJoin&quot;: &quot;round&quot;, &quot;opacity&quot;: 1.0, &quot;radius&quot;: 11.428571428571429, &quot;stroke&quot;: true, &quot;weight&quot;: 3}\n",
       "            ).addTo(map_961ea093de73a3c8a3519ad4e470cf6d);\n",
       "        \n",
       "    \n",
       "            circle_marker_1322f0d21c19af6152e224cd4a9f88c1.bindTooltip(\n",
       "                `&lt;div&gt;\n",
       "                     Station: Ana Rosa&lt;br&gt;Passengers: 40000.0\n",
       "                 &lt;/div&gt;`,\n",
       "                {&quot;sticky&quot;: true}\n",
       "            );\n",
       "        \n",
       "    \n",
       "            var poly_line_ef8ce176e2fc16cc7383a3061e4478ac = L.polyline(\n",
       "                [[-23.581494, -46.638265], [-23.584878, -46.638107]],\n",
       "                {&quot;bubblingMouseEvents&quot;: true, &quot;color&quot;: &quot;gray&quot;, &quot;dashArray&quot;: null, &quot;dashOffset&quot;: null, &quot;fill&quot;: false, &quot;fillColor&quot;: &quot;gray&quot;, &quot;fillOpacity&quot;: 0.2, &quot;fillRule&quot;: &quot;evenodd&quot;, &quot;lineCap&quot;: &quot;round&quot;, &quot;lineJoin&quot;: &quot;round&quot;, &quot;noClip&quot;: false, &quot;opacity&quot;: 0.7, &quot;smoothFactor&quot;: 1.0, &quot;stroke&quot;: true, &quot;weight&quot;: 3}\n",
       "            ).addTo(map_961ea093de73a3c8a3519ad4e470cf6d);\n",
       "        \n",
       "    \n",
       "            var circle_marker_508b33c62ba6dc546af31f738d0090e4 = L.circleMarker(\n",
       "                [-23.584878, -46.638107],\n",
       "                {&quot;bubblingMouseEvents&quot;: true, &quot;color&quot;: &quot;blue&quot;, &quot;dashArray&quot;: null, &quot;dashOffset&quot;: null, &quot;fill&quot;: true, &quot;fillColor&quot;: &quot;gray&quot;, &quot;fillOpacity&quot;: 0.2, &quot;fillRule&quot;: &quot;evenodd&quot;, &quot;lineCap&quot;: &quot;round&quot;, &quot;lineJoin&quot;: &quot;round&quot;, &quot;opacity&quot;: 1.0, &quot;radius&quot;: 2.857142857142857, &quot;stroke&quot;: true, &quot;weight&quot;: 3}\n",
       "            ).addTo(map_961ea093de73a3c8a3519ad4e470cf6d);\n",
       "        \n",
       "    \n",
       "            circle_marker_508b33c62ba6dc546af31f738d0090e4.bindTooltip(\n",
       "                `&lt;div&gt;\n",
       "                     Station: Vila Mariana&lt;br&gt;Passengers: 40000.0\n",
       "                 &lt;/div&gt;`,\n",
       "                {&quot;sticky&quot;: true}\n",
       "            );\n",
       "        \n",
       "&lt;/script&gt;\n",
       "&lt;/html&gt;\" style=\"position:absolute;width:100%;height:100%;left:0;top:0;border:none !important;\" allowfullscreen webkitallowfullscreen mozallowfullscreen></iframe></div></div>"
      ],
      "text/plain": [
       "<folium.folium.Map at 0x27755c0a9e0>"
      ]
     },
     "execution_count": 89,
     "metadata": {},
     "output_type": "execute_result"
    }
   ],
   "source": [
    "# Find the best route using Dijkstra's algorithm\n",
    "import folium\n",
    "\n",
    "\n",
    "start_station = 'Chácara Klabin'  # Replace with your start station\n",
    "end_station =  'Vila Mariana' # Replace with your end station\n",
    "\n",
    "# Check if the start and end stations are valid\n",
    "if start_station not in G.nodes() or end_station not in G.nodes():\n",
    "    print(\"Invalid start or end station.\")\n",
    "else:\n",
    "    # Calculate the shortest path\n",
    "    shortest_path = nx.dijkstra_path(G, start_station, end_station, weight='weight')\n",
    "    print(\"Shortest Path:\", shortest_path)\n",
    "\n",
    "    # Create a map centered around São Paulo\n",
    "    map_sp = folium.Map(location=[-23.5505, -46.6333], zoom_start=12)\n",
    "    \n",
    "    for i in range(len(shortest_path)-1):\n",
    "        current_station = shortest_path[i]\n",
    "        next_station = shortest_path[i+1]\n",
    "        for line, stations in metro_stations.items():\n",
    "            for station in stations:\n",
    "                if station['station'] == current_station:\n",
    "                    coordinates_current = station['coordinates']\n",
    "                    break\n",
    "        for line, stations in metro_stations.items():\n",
    "            for station in stations:\n",
    "                if station['station'] == next_station:\n",
    "                    coordinates_next = station['coordinates']\n",
    "                    break\n",
    "    \n",
    "            \n",
    "        folium.CircleMarker(\n",
    "                location=coordinates_current,\n",
    "                radius= (G.nodes[current_station]['passengers'])/3500,\n",
    "                color = line_colors[G.nodes[current_station]['line']],\n",
    "                fill = True,\n",
    "                fill_color = color,\n",
    "                tooltip=f\"Station: {current_station}<br>Passengers: {G.nodes[current_station]['passengers']}\"\n",
    "                # popup=current_station['station'],\n",
    "                # icon=folium.Icon(color=color)\n",
    "            ).add_to(map_sp)\n",
    "            \n",
    "            # Create a line connecting the current station and the next station\n",
    "        folium.PolyLine(\n",
    "                locations=[coordinates_current,coordinates_next],\n",
    "                color=color,\n",
    "                weight=3,\n",
    "                opacity=0.7\n",
    "            ).add_to(map_sp)\n",
    "folium.CircleMarker(\n",
    "                location=coordinates_next,\n",
    "                radius= (G.nodes[next_station]['passengers'])/3500,\n",
    "                color = line_colors[G.nodes[next_station]['line']],\n",
    "                fill = True,\n",
    "                fill_color = color,\n",
    "                tooltip=f\"Station: {next_station}<br>Passengers: {G.nodes[station_name]['passengers']}\"\n",
    "                # popup=current_station['station'],\n",
    "                # icon=folium.Icon(color=color)\n",
    "            ).add_to(map_sp)       \n",
    "            \n",
    "\n",
    "map_sp\n",
    "   "
   ]
  },
  {
   "cell_type": "code",
   "execution_count": 12,
   "metadata": {},
   "outputs": [
    {
     "data": {
      "application/vnd.plotly.v1+json": {
       "config": {
        "plotlyServerURL": "https://plot.ly"
       },
       "data": [
        {
         "hoverinfo": "none",
         "line": {
          "color": "gray",
          "width": 0.5
         },
         "mode": "lines",
         "type": "scatter",
         "x": [
          -0.663481561996367,
          -0.5772065757740203,
          null,
          -0.5772065757740203,
          -0.4573801823423215,
          null,
          -0.4573801823423215,
          -0.31708631831287953,
          null,
          -0.31708631831287953,
          -0.16344408353425083,
          null,
          -0.16344408353425083,
          -0.00520824099199355,
          null,
          -0.00520824099199355,
          0.06738361617457615,
          null,
          -0.00520824099199355,
          -0.10359480659458498,
          null,
          -0.00520824099199355,
          0.14230993053323954,
          null,
          0.06738361617457615,
          0.08869813781817518,
          null,
          0.08869813781817518,
          0.047494112142544766,
          null,
          0.08869813781817518,
          0.14230993053323954,
          null,
          0.047494112142544766,
          -0.0801454465814977,
          null,
          0.047494112142544766,
          0.16246216312534395,
          null,
          -0.0801454465814977,
          -0.17982901479645977,
          null,
          -0.17982901479645977,
          -0.22072295703289405,
          null,
          -0.22072295703289405,
          -0.18990841500927697,
          null,
          -0.18990841500927697,
          -0.18437672086156817,
          null,
          -0.18990841500927697,
          -0.23279028890146128,
          null,
          -0.18990841500927697,
          -0.1163463318855201,
          null,
          -0.18437672086156817,
          -0.15451399169979046,
          null,
          -0.15451399169979046,
          -0.11198473298337124,
          null,
          -0.15451399169979046,
          -0.1901776316830147,
          null,
          -0.11198473298337124,
          -0.07225209159562238,
          null,
          -0.07225209159562238,
          -0.042057387751555535,
          null,
          -0.042057387751555535,
          -0.02043278069540937,
          null,
          -0.02043278069540937,
          -0.008944435096285968,
          null,
          -0.008944435096285968,
          -0.009109299955994446,
          null,
          -0.009109299955994446,
          -0.031173544457434376,
          null,
          -0.031173544457434376,
          -0.0817398561514209,
          null,
          0.6347403574048168,
          0.5627281941690943,
          null,
          0.5627281941690943,
          0.4719443470546838,
          null,
          0.4719443470546838,
          0.3738570754715923,
          null,
          0.3738570754715923,
          0.2684202501577423,
          null,
          0.2684202501577423,
          0.16246216312534395,
          null,
          0.14230993053323954,
          0.2807213114826851,
          null,
          0.2807213114826851,
          0.3890145695441772,
          null,
          0.3890145695441772,
          0.46253133620735437,
          null,
          0.46253133620735437,
          0.4964719339234895,
          null,
          0.4964719339234895,
          0.4878861563060642,
          null,
          0.4878861563060642,
          0.4411986788361981,
          null,
          -0.4843892585914591,
          -0.41218836073993986,
          null,
          -0.41218836073993986,
          -0.3119490952244861,
          null,
          -0.3119490952244861,
          -0.1901776316830147,
          null,
          -0.1901776316830147,
          -0.23279028890146128,
          null,
          -0.1901776316830147,
          -0.10616144476220768,
          null,
          -0.1163463318855201,
          -0.03871213942054219,
          null,
          -0.03871213942054219,
          0.03847612144049833,
          null,
          0.03847612144049833,
          0.09118138137615611,
          null,
          0.09118138137615611,
          0.0908352822245784,
          null,
          0.0908352822245784,
          0.04597021994096995,
          null,
          0.04597021994096995,
          -0.028955406292167887,
          null,
          -0.028955406292167887,
          -0.13143009247744383,
          null,
          -0.13143009247744383,
          -0.2483078296630186,
          null,
          -0.2483078296630186,
          -0.3634496581856646,
          null,
          -0.3634496581856646,
          -0.46091068364334714,
          null,
          -0.46091068364334714,
          -0.5344230138902125,
          null,
          -0.10616144476220768,
          -0.01638211779642909,
          null,
          -0.01638211779642909,
          0.07549720407489216,
          null,
          0.07549720407489216,
          0.1670312268027239,
          null,
          0.1670312268027239,
          0.25349677285013583,
          null,
          0.25349677285013583,
          0.3331548443186669,
          null,
          0.3331548443186669,
          0.4001093203288912,
          null,
          0.4001093203288912,
          0.4471790568199201,
          null,
          0.6956878918340963,
          0.6230448577220874,
          null,
          0.6230448577220874,
          0.5292575733478286,
          null,
          0.5292575733478286,
          0.4170979858842607,
          null,
          0.4170979858842607,
          0.29633721749014796,
          null,
          0.29633721749014796,
          0.17204271390676568,
          null,
          0.17204271390676568,
          0.04395249353303555,
          null,
          0.04395249353303555,
          -0.08034770409148308,
          null,
          -0.08034770409148308,
          -0.19019723279602696,
          null,
          -0.19019723279602696,
          -0.27358636149169124,
          null,
          -0.27358636149169124,
          -0.31761572577247266,
          null,
          -0.31761572577247266,
          -0.3183047912675852,
          null,
          -0.3183047912675852,
          -0.2792980789875898,
          null,
          -0.2792980789875898,
          -0.20211083100675417,
          null,
          -0.20211083100675417,
          -0.10359480659458498,
          null,
          -0.5382122295450111,
          -0.46691067436899414,
          null,
          -0.46691067436899414,
          -0.3733787062564926,
          null,
          -0.3733787062564926,
          -0.2647322675413474,
          null,
          -0.2647322675413474,
          -0.14457572117976497,
          null,
          -0.14457572117976497,
          -0.016196875830745135,
          null,
          -0.016196875830745135,
          0.11583358417953081,
          null,
          0.11583358417953081,
          0.24550219085094405,
          null,
          0.24550219085094405,
          0.35708288822996337,
          null,
          0.35708288822996337,
          0.4411986788361981,
          null
         ],
         "y": [
          -0.4699750479560658,
          -0.46104001896560814,
          null,
          -0.46104001896560814,
          -0.4632256843349535,
          null,
          -0.4632256843349535,
          -0.4568600657029983,
          null,
          -0.4568600657029983,
          -0.43565748129864906,
          null,
          -0.43565748129864906,
          -0.3867796442358404,
          null,
          -0.3867796442358404,
          -0.4003401281566744,
          null,
          -0.3867796442358404,
          -0.3933402544809464,
          null,
          -0.3867796442358404,
          -0.31771527609157246,
          null,
          -0.4003401281566744,
          -0.3265298976178833,
          null,
          -0.3265298976178833,
          -0.24176729009443082,
          null,
          -0.3265298976178833,
          -0.31771527609157246,
          null,
          -0.24176729009443082,
          -0.18202237793433912,
          null,
          -0.24176729009443082,
          -0.24111702273187802,
          null,
          -0.18202237793433912,
          -0.12715064074970475,
          null,
          -0.12715064074970475,
          -0.04927171086844111,
          null,
          -0.04927171086844111,
          0.03353128847052724,
          null,
          0.03353128847052724,
          -0.024647432768985372,
          null,
          0.03353128847052724,
          0.07927076215249297,
          null,
          0.03353128847052724,
          0.09571254731839504,
          null,
          -0.024647432768985372,
          -0.08212321748288054,
          null,
          -0.08212321748288054,
          -0.2681646749538765,
          null,
          -0.08212321748288054,
          0.08986886437876512,
          null,
          -0.2681646749538765,
          -0.44093156403958456,
          null,
          -0.44093156403958456,
          -0.5925920599408445,
          null,
          -0.5925920599408445,
          -0.7251875568719298,
          null,
          -0.7251875568719298,
          -0.8403468359670615,
          null,
          -0.8403468359670615,
          -0.9360153993163833,
          null,
          -0.9360153993163833,
          -1,
          null,
          -1,
          -0.9882205469611676,
          null,
          -0.2385029438054768,
          -0.22438832852823043,
          null,
          -0.22438832852823043,
          -0.21689988016159992,
          null,
          -0.21689988016159992,
          -0.2237633778169987,
          null,
          -0.2237633778169987,
          -0.23915157150548108,
          null,
          -0.23915157150548108,
          -0.24111702273187802,
          null,
          -0.31771527609157246,
          -0.22189950058570682,
          null,
          -0.22189950058570682,
          -0.1157465889973256,
          null,
          -0.1157465889973256,
          -0.0015825956958884855,
          null,
          -0.0015825956958884855,
          0.12049279436471172,
          null,
          0.12049279436471172,
          0.2437284651953979,
          null,
          0.2437284651953979,
          0.3588526667964686,
          null,
          0.22755124053514336,
          0.19625701138300602,
          null,
          0.19625701138300602,
          0.15109190791509397,
          null,
          0.15109190791509397,
          0.08986886437876512,
          null,
          0.08986886437876512,
          0.07927076215249297,
          null,
          0.08986886437876512,
          0.2199293699581386,
          null,
          0.09571254731839504,
          0.13386274986926142,
          null,
          0.13386274986926142,
          0.1348042758488903,
          null,
          0.1348042758488903,
          0.08762521993052386,
          null,
          0.08762521993052386,
          0.011958601782880222,
          null,
          0.011958601782880222,
          -0.06528739813780934,
          null,
          -0.06528739813780934,
          -0.1392891230151531,
          null,
          -0.1392891230151531,
          -0.21029270935323088,
          null,
          -0.21029270935323088,
          -0.2695869823946161,
          null,
          -0.2695869823946161,
          -0.31728368044383015,
          null,
          -0.31728368044383015,
          -0.3510272123494293,
          null,
          -0.3510272123494293,
          -0.37295631812609925,
          null,
          0.2199293699581386,
          0.3381229704016856,
          null,
          0.3381229704016856,
          0.4485432571656233,
          null,
          0.4485432571656233,
          0.5512350204379017,
          null,
          0.5512350204379017,
          0.6477507103494424,
          null,
          0.6477507103494424,
          0.7290254685169132,
          null,
          0.7290254685169132,
          0.7997238034464462,
          null,
          0.7997238034464462,
          0.8589320028655635,
          null,
          0.34531502067237296,
          0.35104493899804234,
          null,
          0.35104493899804234,
          0.37083689593242336,
          null,
          0.37083689593242336,
          0.38929675237764316,
          null,
          0.38929675237764316,
          0.3898997538294494,
          null,
          0.3898997538294494,
          0.3784219295228924,
          null,
          0.3784219295228924,
          0.34960894697342754,
          null,
          0.34960894697342754,
          0.29618210926002686,
          null,
          0.29618210926002686,
          0.20983186785489905,
          null,
          0.20983186785489905,
          0.09677332275649968,
          null,
          0.09677332275649968,
          -0.032615834532978207,
          null,
          -0.032615834532978207,
          -0.1606432570058664,
          null,
          -0.1606432570058664,
          -0.27611011094965787,
          null,
          -0.27611011094965787,
          -0.35673602932055115,
          null,
          -0.35673602932055115,
          -0.3933402544809464,
          null,
          0.5726801914914885,
          0.5720524806480245,
          null,
          0.5720524806480245,
          0.5842807684746637,
          null,
          0.5842807684746637,
          0.6011525723902885,
          null,
          0.6011525723902885,
          0.6143077656334454,
          null,
          0.6143077656334454,
          0.6136234975453153,
          null,
          0.6136234975453153,
          0.5903656507072426,
          null,
          0.5903656507072426,
          0.5384985170626188,
          null,
          0.5384985170626188,
          0.462741291034596,
          null,
          0.462741291034596,
          0.3588526667964686,
          null
         ]
        },
        {
         "hovertemplate": "%{text}<br>Passengers: %{marker.size}",
         "marker": {
          "color": [
           "blue",
           "blue",
           "blue",
           "blue",
           "blue",
           "purple",
           "blue",
           "green",
           "green",
           "blue",
           "blue",
           "blue",
           "red",
           "blue",
           "yellow",
           "blue",
           "blue",
           "blue",
           "blue",
           "blue",
           "blue",
           "blue",
           "blue",
           "green",
           "green",
           "green",
           "green",
           "green",
           "green",
           "purple",
           "green",
           "green",
           "green",
           "green",
           "gray",
           "red",
           "red",
           "red",
           "yellow",
           "red",
           "red",
           "red",
           "red",
           "red",
           "red",
           "red",
           "red",
           "red",
           "red",
           "red",
           "red",
           "red",
           "yellow",
           "yellow",
           "yellow",
           "yellow",
           "yellow",
           "yellow",
           "yellow",
           "yellow",
           "purple",
           "purple",
           "purple",
           "purple",
           "purple",
           "purple",
           "purple",
           "purple",
           "purple",
           "purple",
           "purple",
           "purple",
           "purple",
           "purple",
           "purple",
           "gray",
           "gray",
           "gray",
           "gray",
           "gray",
           "gray",
           "gray",
           "gray",
           "gray",
           "gray"
          ],
          "colorscale": [
           [
            0,
            "#440154"
           ],
           [
            0.1111111111111111,
            "#482878"
           ],
           [
            0.2222222222222222,
            "#3e4989"
           ],
           [
            0.3333333333333333,
            "#31688e"
           ],
           [
            0.4444444444444444,
            "#26828e"
           ],
           [
            0.5555555555555556,
            "#1f9e89"
           ],
           [
            0.6666666666666666,
            "#35b779"
           ],
           [
            0.7777777777777778,
            "#6ece58"
           ],
           [
            0.8888888888888888,
            "#b5de2b"
           ],
           [
            1,
            "#fde725"
           ]
          ],
          "showscale": true,
          "size": [
           30.666666666666668,
           10,
           6,
           10.666666666666666,
           6,
           40,
           6.666666666666667,
           26.666666666666668,
           32.666666666666664,
           10,
           8,
           8,
           79.33333333333333,
           24,
           46.666666666666664,
           4.666666666666667,
           9.333333333333334,
           20.666666666666668,
           4,
           22,
           4,
           4.666666666666667,
           24,
           6.666666666666667,
           3.3333333333333335,
           8.666666666666666,
           32.666666666666664,
           14,
           16.666666666666668,
           26.666666666666668,
           5.333333333333333,
           6,
           15.333333333333334,
           24,
           26.666666666666668,
           63.333333333333336,
           12,
           10.666666666666666,
           48,
           21.333333333333332,
           8.666666666666666,
           44,
           12.666666666666666,
           16.666666666666668,
           33.333333333333336,
           17.333333333333332,
           12,
           10.666666666666666,
           8.666666666666666,
           8.666666666666666,
           24.666666666666668,
           36,
           6,
           35.333333333333336,
           9.333333333333334,
           6,
           10.666666666666666,
           36.666666666666664,
           14.666666666666666,
           17.333333333333332,
           42,
           17.333333333333332,
           6,
           10,
           37.333333333333336,
           14,
           4,
           2,
           2.6666666666666665,
           5.333333333333333,
           4,
           6.666666666666667,
           7.333333333333333,
           4,
           4,
           0,
           7.333333333333333,
           1.3333333333333333,
           3.3333333333333335,
           1.3333333333333333,
           2,
           2,
           1.3333333333333333,
           2,
           2
          ]
         },
         "mode": "markers",
         "text": [
          "Jabaquara",
          "Conceição",
          "São Judas",
          "Saúde",
          "Praça da Árvore",
          "Santa Cruz",
          "Vila Mariana",
          "Ana Rosa",
          "Paraíso",
          "Vergueiro",
          "São Joaquim",
          "Japão-Liberdade",
          "Sé",
          "São Bento",
          "Luz",
          "Tiradentes",
          "Armênia",
          "Portuguesa-Tietê",
          "Carandiru",
          "Santana",
          "Jardim São Paulo-Ayrton Senna",
          "Parada Inglesa",
          "Tucuruvi",
          "Vila Madalena",
          "Santuário N.S. de Fátima-Sumaré",
          "Clínicas",
          "Consolação",
          "Trianon-Masp",
          "Brigadeiro",
          "Chácara Klabin",
          "Santos-Imigrantes",
          "Alto do Ipiranga",
          "Sacomã",
          "Tamanduateí",
          "Vila Prudente",
          "Palmeiras-Barra Funda",
          "Marechal Deodoro",
          "Santa Cecília",
          "República",
          "Anhangabaú",
          "Pedro II",
          "Brás",
          "Bresser-Moóca",
          "Belém",
          "Tatuapé",
          "Carrão",
          "Penha",
          "Vila Matilde",
          "Guilhermina-Esperança",
          "Patriarca",
          "Artur Alvim",
          "Corinthians-Itaquera",
          "Higienópolis - Mackenzie",
          "Paulista",
          "Oscar Freire",
          "Fradique Coutinho",
          "Faria Lima",
          "Pinheiros",
          "Butantã",
          "São Paulo - Morumbi",
          "Capão Redondo",
          "Campo Limpo",
          "Vila das Belezas",
          "Giovanni Gronchi",
          "Santo Amaro",
          "Largo Treze",
          "Adolfo Pinheiro",
          "Alto da Boa Vista",
          "Borba Gato",
          "Brooklin",
          "Campo Belo",
          "Eucaliptos",
          "Moema",
          "AACD - Servidor",
          "Hospital São Paulo",
          "Jardim Colonial",
          "São Mateus",
          "Fazenda da Juta",
          "Sapopemba",
          "Jardim Planalto",
          "Vila União",
          "Vila Tolstói",
          "Camilo Haddad",
          "São Lucas",
          "Oratório"
         ],
         "type": "scatter",
         "x": [
          -0.663481561996367,
          -0.5772065757740203,
          -0.4573801823423215,
          -0.31708631831287953,
          -0.16344408353425083,
          -0.00520824099199355,
          0.06738361617457615,
          0.08869813781817518,
          0.047494112142544766,
          -0.0801454465814977,
          -0.17982901479645977,
          -0.22072295703289405,
          -0.18990841500927697,
          -0.18437672086156817,
          -0.15451399169979046,
          -0.11198473298337124,
          -0.07225209159562238,
          -0.042057387751555535,
          -0.02043278069540937,
          -0.008944435096285968,
          -0.009109299955994446,
          -0.031173544457434376,
          -0.0817398561514209,
          0.6347403574048168,
          0.5627281941690943,
          0.4719443470546838,
          0.3738570754715923,
          0.2684202501577423,
          0.16246216312534395,
          0.14230993053323954,
          0.2807213114826851,
          0.3890145695441772,
          0.46253133620735437,
          0.4964719339234895,
          0.4878861563060642,
          -0.4843892585914591,
          -0.41218836073993986,
          -0.3119490952244861,
          -0.1901776316830147,
          -0.23279028890146128,
          -0.1163463318855201,
          -0.03871213942054219,
          0.03847612144049833,
          0.09118138137615611,
          0.0908352822245784,
          0.04597021994096995,
          -0.028955406292167887,
          -0.13143009247744383,
          -0.2483078296630186,
          -0.3634496581856646,
          -0.46091068364334714,
          -0.5344230138902125,
          -0.10616144476220768,
          -0.01638211779642909,
          0.07549720407489216,
          0.1670312268027239,
          0.25349677285013583,
          0.3331548443186669,
          0.4001093203288912,
          0.4471790568199201,
          0.6956878918340963,
          0.6230448577220874,
          0.5292575733478286,
          0.4170979858842607,
          0.29633721749014796,
          0.17204271390676568,
          0.04395249353303555,
          -0.08034770409148308,
          -0.19019723279602696,
          -0.27358636149169124,
          -0.31761572577247266,
          -0.3183047912675852,
          -0.2792980789875898,
          -0.20211083100675417,
          -0.10359480659458498,
          -0.5382122295450111,
          -0.46691067436899414,
          -0.3733787062564926,
          -0.2647322675413474,
          -0.14457572117976497,
          -0.016196875830745135,
          0.11583358417953081,
          0.24550219085094405,
          0.35708288822996337,
          0.4411986788361981
         ],
         "y": [
          -0.4699750479560658,
          -0.46104001896560814,
          -0.4632256843349535,
          -0.4568600657029983,
          -0.43565748129864906,
          -0.3867796442358404,
          -0.4003401281566744,
          -0.3265298976178833,
          -0.24176729009443082,
          -0.18202237793433912,
          -0.12715064074970475,
          -0.04927171086844111,
          0.03353128847052724,
          -0.024647432768985372,
          -0.08212321748288054,
          -0.2681646749538765,
          -0.44093156403958456,
          -0.5925920599408445,
          -0.7251875568719298,
          -0.8403468359670615,
          -0.9360153993163833,
          -1,
          -0.9882205469611676,
          -0.2385029438054768,
          -0.22438832852823043,
          -0.21689988016159992,
          -0.2237633778169987,
          -0.23915157150548108,
          -0.24111702273187802,
          -0.31771527609157246,
          -0.22189950058570682,
          -0.1157465889973256,
          -0.0015825956958884855,
          0.12049279436471172,
          0.2437284651953979,
          0.22755124053514336,
          0.19625701138300602,
          0.15109190791509397,
          0.08986886437876512,
          0.07927076215249297,
          0.09571254731839504,
          0.13386274986926142,
          0.1348042758488903,
          0.08762521993052386,
          0.011958601782880222,
          -0.06528739813780934,
          -0.1392891230151531,
          -0.21029270935323088,
          -0.2695869823946161,
          -0.31728368044383015,
          -0.3510272123494293,
          -0.37295631812609925,
          0.2199293699581386,
          0.3381229704016856,
          0.4485432571656233,
          0.5512350204379017,
          0.6477507103494424,
          0.7290254685169132,
          0.7997238034464462,
          0.8589320028655635,
          0.34531502067237296,
          0.35104493899804234,
          0.37083689593242336,
          0.38929675237764316,
          0.3898997538294494,
          0.3784219295228924,
          0.34960894697342754,
          0.29618210926002686,
          0.20983186785489905,
          0.09677332275649968,
          -0.032615834532978207,
          -0.1606432570058664,
          -0.27611011094965787,
          -0.35673602932055115,
          -0.3933402544809464,
          0.5726801914914885,
          0.5720524806480245,
          0.5842807684746637,
          0.6011525723902885,
          0.6143077656334454,
          0.6136234975453153,
          0.5903656507072426,
          0.5384985170626188,
          0.462741291034596,
          0.3588526667964686
         ]
        }
       ],
       "layout": {
        "hovermode": "closest",
        "margin": {
         "b": 20,
         "l": 5,
         "r": 5,
         "t": 40
        },
        "showlegend": false,
        "template": {
         "data": {
          "bar": [
           {
            "error_x": {
             "color": "#2a3f5f"
            },
            "error_y": {
             "color": "#2a3f5f"
            },
            "marker": {
             "line": {
              "color": "#E5ECF6",
              "width": 0.5
             },
             "pattern": {
              "fillmode": "overlay",
              "size": 10,
              "solidity": 0.2
             }
            },
            "type": "bar"
           }
          ],
          "barpolar": [
           {
            "marker": {
             "line": {
              "color": "#E5ECF6",
              "width": 0.5
             },
             "pattern": {
              "fillmode": "overlay",
              "size": 10,
              "solidity": 0.2
             }
            },
            "type": "barpolar"
           }
          ],
          "carpet": [
           {
            "aaxis": {
             "endlinecolor": "#2a3f5f",
             "gridcolor": "white",
             "linecolor": "white",
             "minorgridcolor": "white",
             "startlinecolor": "#2a3f5f"
            },
            "baxis": {
             "endlinecolor": "#2a3f5f",
             "gridcolor": "white",
             "linecolor": "white",
             "minorgridcolor": "white",
             "startlinecolor": "#2a3f5f"
            },
            "type": "carpet"
           }
          ],
          "choropleth": [
           {
            "colorbar": {
             "outlinewidth": 0,
             "ticks": ""
            },
            "type": "choropleth"
           }
          ],
          "contour": [
           {
            "colorbar": {
             "outlinewidth": 0,
             "ticks": ""
            },
            "colorscale": [
             [
              0,
              "#0d0887"
             ],
             [
              0.1111111111111111,
              "#46039f"
             ],
             [
              0.2222222222222222,
              "#7201a8"
             ],
             [
              0.3333333333333333,
              "#9c179e"
             ],
             [
              0.4444444444444444,
              "#bd3786"
             ],
             [
              0.5555555555555556,
              "#d8576b"
             ],
             [
              0.6666666666666666,
              "#ed7953"
             ],
             [
              0.7777777777777778,
              "#fb9f3a"
             ],
             [
              0.8888888888888888,
              "#fdca26"
             ],
             [
              1,
              "#f0f921"
             ]
            ],
            "type": "contour"
           }
          ],
          "contourcarpet": [
           {
            "colorbar": {
             "outlinewidth": 0,
             "ticks": ""
            },
            "type": "contourcarpet"
           }
          ],
          "heatmap": [
           {
            "colorbar": {
             "outlinewidth": 0,
             "ticks": ""
            },
            "colorscale": [
             [
              0,
              "#0d0887"
             ],
             [
              0.1111111111111111,
              "#46039f"
             ],
             [
              0.2222222222222222,
              "#7201a8"
             ],
             [
              0.3333333333333333,
              "#9c179e"
             ],
             [
              0.4444444444444444,
              "#bd3786"
             ],
             [
              0.5555555555555556,
              "#d8576b"
             ],
             [
              0.6666666666666666,
              "#ed7953"
             ],
             [
              0.7777777777777778,
              "#fb9f3a"
             ],
             [
              0.8888888888888888,
              "#fdca26"
             ],
             [
              1,
              "#f0f921"
             ]
            ],
            "type": "heatmap"
           }
          ],
          "heatmapgl": [
           {
            "colorbar": {
             "outlinewidth": 0,
             "ticks": ""
            },
            "colorscale": [
             [
              0,
              "#0d0887"
             ],
             [
              0.1111111111111111,
              "#46039f"
             ],
             [
              0.2222222222222222,
              "#7201a8"
             ],
             [
              0.3333333333333333,
              "#9c179e"
             ],
             [
              0.4444444444444444,
              "#bd3786"
             ],
             [
              0.5555555555555556,
              "#d8576b"
             ],
             [
              0.6666666666666666,
              "#ed7953"
             ],
             [
              0.7777777777777778,
              "#fb9f3a"
             ],
             [
              0.8888888888888888,
              "#fdca26"
             ],
             [
              1,
              "#f0f921"
             ]
            ],
            "type": "heatmapgl"
           }
          ],
          "histogram": [
           {
            "marker": {
             "pattern": {
              "fillmode": "overlay",
              "size": 10,
              "solidity": 0.2
             }
            },
            "type": "histogram"
           }
          ],
          "histogram2d": [
           {
            "colorbar": {
             "outlinewidth": 0,
             "ticks": ""
            },
            "colorscale": [
             [
              0,
              "#0d0887"
             ],
             [
              0.1111111111111111,
              "#46039f"
             ],
             [
              0.2222222222222222,
              "#7201a8"
             ],
             [
              0.3333333333333333,
              "#9c179e"
             ],
             [
              0.4444444444444444,
              "#bd3786"
             ],
             [
              0.5555555555555556,
              "#d8576b"
             ],
             [
              0.6666666666666666,
              "#ed7953"
             ],
             [
              0.7777777777777778,
              "#fb9f3a"
             ],
             [
              0.8888888888888888,
              "#fdca26"
             ],
             [
              1,
              "#f0f921"
             ]
            ],
            "type": "histogram2d"
           }
          ],
          "histogram2dcontour": [
           {
            "colorbar": {
             "outlinewidth": 0,
             "ticks": ""
            },
            "colorscale": [
             [
              0,
              "#0d0887"
             ],
             [
              0.1111111111111111,
              "#46039f"
             ],
             [
              0.2222222222222222,
              "#7201a8"
             ],
             [
              0.3333333333333333,
              "#9c179e"
             ],
             [
              0.4444444444444444,
              "#bd3786"
             ],
             [
              0.5555555555555556,
              "#d8576b"
             ],
             [
              0.6666666666666666,
              "#ed7953"
             ],
             [
              0.7777777777777778,
              "#fb9f3a"
             ],
             [
              0.8888888888888888,
              "#fdca26"
             ],
             [
              1,
              "#f0f921"
             ]
            ],
            "type": "histogram2dcontour"
           }
          ],
          "mesh3d": [
           {
            "colorbar": {
             "outlinewidth": 0,
             "ticks": ""
            },
            "type": "mesh3d"
           }
          ],
          "parcoords": [
           {
            "line": {
             "colorbar": {
              "outlinewidth": 0,
              "ticks": ""
             }
            },
            "type": "parcoords"
           }
          ],
          "pie": [
           {
            "automargin": true,
            "type": "pie"
           }
          ],
          "scatter": [
           {
            "fillpattern": {
             "fillmode": "overlay",
             "size": 10,
             "solidity": 0.2
            },
            "type": "scatter"
           }
          ],
          "scatter3d": [
           {
            "line": {
             "colorbar": {
              "outlinewidth": 0,
              "ticks": ""
             }
            },
            "marker": {
             "colorbar": {
              "outlinewidth": 0,
              "ticks": ""
             }
            },
            "type": "scatter3d"
           }
          ],
          "scattercarpet": [
           {
            "marker": {
             "colorbar": {
              "outlinewidth": 0,
              "ticks": ""
             }
            },
            "type": "scattercarpet"
           }
          ],
          "scattergeo": [
           {
            "marker": {
             "colorbar": {
              "outlinewidth": 0,
              "ticks": ""
             }
            },
            "type": "scattergeo"
           }
          ],
          "scattergl": [
           {
            "marker": {
             "colorbar": {
              "outlinewidth": 0,
              "ticks": ""
             }
            },
            "type": "scattergl"
           }
          ],
          "scattermapbox": [
           {
            "marker": {
             "colorbar": {
              "outlinewidth": 0,
              "ticks": ""
             }
            },
            "type": "scattermapbox"
           }
          ],
          "scatterpolar": [
           {
            "marker": {
             "colorbar": {
              "outlinewidth": 0,
              "ticks": ""
             }
            },
            "type": "scatterpolar"
           }
          ],
          "scatterpolargl": [
           {
            "marker": {
             "colorbar": {
              "outlinewidth": 0,
              "ticks": ""
             }
            },
            "type": "scatterpolargl"
           }
          ],
          "scatterternary": [
           {
            "marker": {
             "colorbar": {
              "outlinewidth": 0,
              "ticks": ""
             }
            },
            "type": "scatterternary"
           }
          ],
          "surface": [
           {
            "colorbar": {
             "outlinewidth": 0,
             "ticks": ""
            },
            "colorscale": [
             [
              0,
              "#0d0887"
             ],
             [
              0.1111111111111111,
              "#46039f"
             ],
             [
              0.2222222222222222,
              "#7201a8"
             ],
             [
              0.3333333333333333,
              "#9c179e"
             ],
             [
              0.4444444444444444,
              "#bd3786"
             ],
             [
              0.5555555555555556,
              "#d8576b"
             ],
             [
              0.6666666666666666,
              "#ed7953"
             ],
             [
              0.7777777777777778,
              "#fb9f3a"
             ],
             [
              0.8888888888888888,
              "#fdca26"
             ],
             [
              1,
              "#f0f921"
             ]
            ],
            "type": "surface"
           }
          ],
          "table": [
           {
            "cells": {
             "fill": {
              "color": "#EBF0F8"
             },
             "line": {
              "color": "white"
             }
            },
            "header": {
             "fill": {
              "color": "#C8D4E3"
             },
             "line": {
              "color": "white"
             }
            },
            "type": "table"
           }
          ]
         },
         "layout": {
          "annotationdefaults": {
           "arrowcolor": "#2a3f5f",
           "arrowhead": 0,
           "arrowwidth": 1
          },
          "autotypenumbers": "strict",
          "coloraxis": {
           "colorbar": {
            "outlinewidth": 0,
            "ticks": ""
           }
          },
          "colorscale": {
           "diverging": [
            [
             0,
             "#8e0152"
            ],
            [
             0.1,
             "#c51b7d"
            ],
            [
             0.2,
             "#de77ae"
            ],
            [
             0.3,
             "#f1b6da"
            ],
            [
             0.4,
             "#fde0ef"
            ],
            [
             0.5,
             "#f7f7f7"
            ],
            [
             0.6,
             "#e6f5d0"
            ],
            [
             0.7,
             "#b8e186"
            ],
            [
             0.8,
             "#7fbc41"
            ],
            [
             0.9,
             "#4d9221"
            ],
            [
             1,
             "#276419"
            ]
           ],
           "sequential": [
            [
             0,
             "#0d0887"
            ],
            [
             0.1111111111111111,
             "#46039f"
            ],
            [
             0.2222222222222222,
             "#7201a8"
            ],
            [
             0.3333333333333333,
             "#9c179e"
            ],
            [
             0.4444444444444444,
             "#bd3786"
            ],
            [
             0.5555555555555556,
             "#d8576b"
            ],
            [
             0.6666666666666666,
             "#ed7953"
            ],
            [
             0.7777777777777778,
             "#fb9f3a"
            ],
            [
             0.8888888888888888,
             "#fdca26"
            ],
            [
             1,
             "#f0f921"
            ]
           ],
           "sequentialminus": [
            [
             0,
             "#0d0887"
            ],
            [
             0.1111111111111111,
             "#46039f"
            ],
            [
             0.2222222222222222,
             "#7201a8"
            ],
            [
             0.3333333333333333,
             "#9c179e"
            ],
            [
             0.4444444444444444,
             "#bd3786"
            ],
            [
             0.5555555555555556,
             "#d8576b"
            ],
            [
             0.6666666666666666,
             "#ed7953"
            ],
            [
             0.7777777777777778,
             "#fb9f3a"
            ],
            [
             0.8888888888888888,
             "#fdca26"
            ],
            [
             1,
             "#f0f921"
            ]
           ]
          },
          "colorway": [
           "#636efa",
           "#EF553B",
           "#00cc96",
           "#ab63fa",
           "#FFA15A",
           "#19d3f3",
           "#FF6692",
           "#B6E880",
           "#FF97FF",
           "#FECB52"
          ],
          "font": {
           "color": "#2a3f5f"
          },
          "geo": {
           "bgcolor": "white",
           "lakecolor": "white",
           "landcolor": "#E5ECF6",
           "showlakes": true,
           "showland": true,
           "subunitcolor": "white"
          },
          "hoverlabel": {
           "align": "left"
          },
          "hovermode": "closest",
          "mapbox": {
           "style": "light"
          },
          "paper_bgcolor": "white",
          "plot_bgcolor": "#E5ECF6",
          "polar": {
           "angularaxis": {
            "gridcolor": "white",
            "linecolor": "white",
            "ticks": ""
           },
           "bgcolor": "#E5ECF6",
           "radialaxis": {
            "gridcolor": "white",
            "linecolor": "white",
            "ticks": ""
           }
          },
          "scene": {
           "xaxis": {
            "backgroundcolor": "#E5ECF6",
            "gridcolor": "white",
            "gridwidth": 2,
            "linecolor": "white",
            "showbackground": true,
            "ticks": "",
            "zerolinecolor": "white"
           },
           "yaxis": {
            "backgroundcolor": "#E5ECF6",
            "gridcolor": "white",
            "gridwidth": 2,
            "linecolor": "white",
            "showbackground": true,
            "ticks": "",
            "zerolinecolor": "white"
           },
           "zaxis": {
            "backgroundcolor": "#E5ECF6",
            "gridcolor": "white",
            "gridwidth": 2,
            "linecolor": "white",
            "showbackground": true,
            "ticks": "",
            "zerolinecolor": "white"
           }
          },
          "shapedefaults": {
           "line": {
            "color": "#2a3f5f"
           }
          },
          "ternary": {
           "aaxis": {
            "gridcolor": "white",
            "linecolor": "white",
            "ticks": ""
           },
           "baxis": {
            "gridcolor": "white",
            "linecolor": "white",
            "ticks": ""
           },
           "bgcolor": "#E5ECF6",
           "caxis": {
            "gridcolor": "white",
            "linecolor": "white",
            "ticks": ""
           }
          },
          "title": {
           "x": 0.05
          },
          "xaxis": {
           "automargin": true,
           "gridcolor": "white",
           "linecolor": "white",
           "ticks": "",
           "title": {
            "standoff": 15
           },
           "zerolinecolor": "white",
           "zerolinewidth": 2
          },
          "yaxis": {
           "automargin": true,
           "gridcolor": "white",
           "linecolor": "white",
           "ticks": "",
           "title": {
            "standoff": 15
           },
           "zerolinecolor": "white",
           "zerolinewidth": 2
          }
         }
        },
        "title": {
         "font": {
          "size": 16
         },
         "text": "São Paulo Metro Network"
        },
        "xaxis": {
         "showgrid": false,
         "showticklabels": false,
         "zeroline": false
        },
        "yaxis": {
         "showgrid": false,
         "showticklabels": false,
         "zeroline": false
        }
       }
      }
     },
     "metadata": {},
     "output_type": "display_data"
    }
   ],
   "source": [
    "# Extract node positions for plotting\n",
    "pos = nx.spring_layout(G)\n",
    "\n",
    "# Create a list of node positions and sizes\n",
    "node_x = []\n",
    "node_y = []\n",
    "node_size = []\n",
    "node_text = []\n",
    "node_color = []\n",
    "for node, coords in pos.items():\n",
    "    node_x.append(coords[0])\n",
    "    node_y.append(coords[1])\n",
    "    passengers = G.nodes[node]['passengers']\n",
    "    node_size.append(passengers / 1500)\n",
    "    line = G.nodes[node]['line']\n",
    "    node_color.append(line_colors[line])\n",
    "    node_text.append(node)\n",
    "\n",
    "# Create edges as scatter plot traces\n",
    "edge_x = []\n",
    "edge_y = []\n",
    "for edge in G.edges():\n",
    "    x0, y0 = pos[edge[0]]\n",
    "    x1, y1 = pos[edge[1]]\n",
    "    edge_x.extend([x0, x1, None])\n",
    "    edge_y.extend([y0, y1, None])\n",
    "\n",
    "# Create node and edge traces\n",
    "node_trace = go.Scatter(\n",
    "    x=node_x,\n",
    "    y=node_y,\n",
    "    mode='markers',\n",
    "    marker=dict(\n",
    "        size=node_size,\n",
    "        color=node_color,\n",
    "        colorscale='Viridis',\n",
    "        showscale=True\n",
    "    ),\n",
    "    text=node_text,\n",
    "    hovertemplate='%{text}<br>Passengers: %{marker.size}',\n",
    ")\n",
    "\n",
    "edge_trace = go.Scatter(\n",
    "    x=edge_x,\n",
    "    y=edge_y,\n",
    "    mode='lines',\n",
    "    line=dict(width=0.5, color='gray'),\n",
    "    hoverinfo='none'\n",
    ")\n",
    "\n",
    "# Create the figure and layout\n",
    "fig = go.Figure(data=[edge_trace, node_trace],\n",
    "                layout=go.Layout(\n",
    "                    title='São Paulo Metro Network',\n",
    "                    titlefont_size=16,\n",
    "                    showlegend=False,\n",
    "                    hovermode='closest',\n",
    "                    margin=dict(b=20, l=5, r=5, t=40),\n",
    "                    xaxis=dict(showgrid=False, zeroline=False, showticklabels=False),\n",
    "                    yaxis=dict(showgrid=False, zeroline=False, showticklabels=False)\n",
    "                ))\n",
    "\n",
    "# Show the figure\n",
    "fig.show()"
   ]
  },
  {
   "cell_type": "code",
   "execution_count": 88,
   "metadata": {},
   "outputs": [
    {
     "data": {
      "text/plain": [
       "['Parada Inglesa ',\n",
       " 'Jardim São Paulo-Ayrton Senna',\n",
       " 'Santana ',\n",
       " 'Carandiru ',\n",
       " 'Portuguesa-Tietê ',\n",
       " 'Armênia ',\n",
       " 'Tiradentes ',\n",
       " 'Luz',\n",
       " 'São Bento',\n",
       " 'Sé',\n",
       " 'Japão-Liberdade ',\n",
       " 'São Joaquim ',\n",
       " 'Tucuruvi ',\n",
       " 'Paraíso',\n",
       " 'Jabaquara',\n",
       " 'Conceição ',\n",
       " 'São Judas ',\n",
       " 'Saúde ',\n",
       " 'Vergueiro ',\n",
       " 'Santa Cruz',\n",
       " 'Vila Mariana ',\n",
       " 'Ana Rosa',\n",
       " 'Praça da Árvore ',\n",
       " 'Santuário N.S. de Fátima-Sumaré ',\n",
       " 'Clínicas ',\n",
       " 'Consolação',\n",
       " 'Trianon-Masp ',\n",
       " 'Brigadeiro ',\n",
       " 'Vila Madalena',\n",
       " 'Santos-Imigrantes ',\n",
       " 'Alto do Ipiranga ',\n",
       " 'Sacomã',\n",
       " 'Tamanduateí',\n",
       " 'Vila Prudente',\n",
       " 'Chácara Klabin ',\n",
       " 'Marechal Deodoro ',\n",
       " 'Santa Cecília ',\n",
       " 'República',\n",
       " 'Anhangabaú',\n",
       " 'Pedro II ',\n",
       " 'Brás',\n",
       " 'Bresser-Moóca ',\n",
       " 'Belém ',\n",
       " 'Palmeiras-Barra Funda',\n",
       " 'Carrão ',\n",
       " 'Penha ',\n",
       " 'Vila Matilde ',\n",
       " 'Guilhermina-Esperança ',\n",
       " 'Patriarca ',\n",
       " 'Artur Alvim',\n",
       " 'Corinthians-Itaquera',\n",
       " 'Tatuapé',\n",
       " 'São Paulo - Morumbi',\n",
       " 'Butantã',\n",
       " 'Pinheiros',\n",
       " 'Faria Lima',\n",
       " 'Oscar Freire',\n",
       " 'Paulista',\n",
       " 'Higienópolis - Mackenzie',\n",
       " 'Fradique Coutinho',\n",
       " 'Vila Sônia',\n",
       " 'Capão Redondo',\n",
       " 'Vila das Belezas',\n",
       " 'Giovanni Gronchi',\n",
       " 'Santo Amaro',\n",
       " 'Largo Treze',\n",
       " 'Adolfo Pinheiro',\n",
       " 'Alto da Boa Vista',\n",
       " 'Borba Gato',\n",
       " 'Campo Limpo',\n",
       " 'Campo Belo',\n",
       " 'Eucaliptos',\n",
       " 'Moema',\n",
       " 'AACD - Servidor',\n",
       " 'Hospital São Paulo',\n",
       " 'Chácara Klabin',\n",
       " 'Brooklin',\n",
       " 'São Mateus',\n",
       " 'Fazenda da Juta',\n",
       " 'Sapopemba',\n",
       " 'Jardim Planalto',\n",
       " 'Vila União',\n",
       " 'Vila Tolstói',\n",
       " 'Jardim Colonial',\n",
       " 'São Lucas',\n",
       " 'Oratório',\n",
       " 'Camilo Haddad']"
      ]
     },
     "execution_count": 88,
     "metadata": {},
     "output_type": "execute_result"
    }
   ],
   "source": [
    "list(pes_df['station'].unique())"
   ]
  }
 ],
 "metadata": {
  "kernelspec": {
   "display_name": "legoFormer",
   "language": "python",
   "name": "python3"
  },
  "language_info": {
   "codemirror_mode": {
    "name": "ipython",
    "version": 3
   },
   "file_extension": ".py",
   "mimetype": "text/x-python",
   "name": "python",
   "nbconvert_exporter": "python",
   "pygments_lexer": "ipython3",
   "version": "3.10.9"
  },
  "orig_nbformat": 4
 },
 "nbformat": 4,
 "nbformat_minor": 2
}
