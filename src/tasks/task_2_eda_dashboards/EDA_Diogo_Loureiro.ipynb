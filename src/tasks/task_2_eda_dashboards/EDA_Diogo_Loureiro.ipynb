{
 "cells": [
  {
   "cell_type": "code",
   "execution_count": 1,
   "metadata": {},
   "outputs": [
    {
     "name": "stdout",
     "output_type": "stream",
     "text": [
      "c:\\Users\\Diogo\\Desktop\\Omdena\\sao-paulo-chapter-passenger-demand\\src\\tasks\\task_2_eda_dashboards\n"
     ]
    },
    {
     "data": {
      "application/vnd.jupyter.widget-view+json": {
       "model_id": "4af1305a79194473bc6c7f4620f0478f",
       "version_major": 2,
       "version_minor": 0
      },
      "text/plain": [
       "Summarize dataset:   0%|          | 0/5 [00:00<?, ?it/s]"
      ]
     },
     "metadata": {},
     "output_type": "display_data"
    },
    {
     "name": "stderr",
     "output_type": "stream",
     "text": [
      "c:\\Users\\Diogo\\.conda\\envs\\analytics\\lib\\site-packages\\ydata_profiling\\model\\pandas\\describe_timeseries_pandas.py:117: FutureWarning: The 'mad' method is deprecated and will be removed in a future version. To compute the same result, you may do `(df - df.mean()).abs().mean()`.\n",
      "  mad = pos_fft_above_med[\"ampl\"].mad()\n",
      "c:\\Users\\Diogo\\.conda\\envs\\analytics\\lib\\site-packages\\ydata_profiling\\model\\pandas\\describe_timeseries_pandas.py:117: FutureWarning: The 'mad' method is deprecated and will be removed in a future version. To compute the same result, you may do `(df - df.mean()).abs().mean()`.\n",
      "  mad = pos_fft_above_med[\"ampl\"].mad()\n"
     ]
    },
    {
     "data": {
      "application/vnd.jupyter.widget-view+json": {
       "model_id": "bcf2c676ea9344c1b141bb72b3a7b740",
       "version_major": 2,
       "version_minor": 0
      },
      "text/plain": [
       "Generate report structure:   0%|          | 0/1 [00:00<?, ?it/s]"
      ]
     },
     "metadata": {},
     "output_type": "display_data"
    },
    {
     "data": {
      "application/vnd.jupyter.widget-view+json": {
       "model_id": "4e25b4d10c144942a302ace19a84dcd7",
       "version_major": 2,
       "version_minor": 0
      },
      "text/plain": [
       "Render HTML:   0%|          | 0/1 [00:00<?, ?it/s]"
      ]
     },
     "metadata": {},
     "output_type": "display_data"
    },
    {
     "data": {
      "application/vnd.jupyter.widget-view+json": {
       "model_id": "610ed38fea7f404abaf40c2675632c28",
       "version_major": 2,
       "version_minor": 0
      },
      "text/plain": [
       "Export report to file:   0%|          | 0/1 [00:00<?, ?it/s]"
      ]
     },
     "metadata": {},
     "output_type": "display_data"
    },
    {
     "name": "stdout",
     "output_type": "stream",
     "text": [
      "Report(s) saved at: c:\\Users\\Diogo\\Desktop\\Omdena\\sao-paulo-chapter-passenger-demand\\src\\tasks\\task_2_eda_dashboards\\reports/Diogo Loureiro\\alllines_pes_complete_report.html\n"
     ]
    },
    {
     "data": {
      "application/vnd.jupyter.widget-view+json": {
       "model_id": "ebadb386e03e41e18c3e6efe26035a2f",
       "version_major": 2,
       "version_minor": 0
      },
      "text/plain": [
       "Summarize dataset:   0%|          | 0/5 [00:00<?, ?it/s]"
      ]
     },
     "metadata": {},
     "output_type": "display_data"
    },
    {
     "data": {
      "application/vnd.jupyter.widget-view+json": {
       "model_id": "03a1ae2effa1485d8228557d32d87a8c",
       "version_major": 2,
       "version_minor": 0
      },
      "text/plain": [
       "Generate report structure:   0%|          | 0/1 [00:00<?, ?it/s]"
      ]
     },
     "metadata": {},
     "output_type": "display_data"
    },
    {
     "data": {
      "application/vnd.jupyter.widget-view+json": {
       "model_id": "69cf8e9338944bdf99d973a4d09e23dc",
       "version_major": 2,
       "version_minor": 0
      },
      "text/plain": [
       "Render HTML:   0%|          | 0/1 [00:00<?, ?it/s]"
      ]
     },
     "metadata": {},
     "output_type": "display_data"
    },
    {
     "data": {
      "application/vnd.jupyter.widget-view+json": {
       "model_id": "bbfca6b7d03f47f5b17bb889149cd547",
       "version_major": 2,
       "version_minor": 0
      },
      "text/plain": [
       "Export report to file:   0%|          | 0/1 [00:00<?, ?it/s]"
      ]
     },
     "metadata": {},
     "output_type": "display_data"
    },
    {
     "name": "stdout",
     "output_type": "stream",
     "text": [
      "Report(s) saved at: c:\\Users\\Diogo\\Desktop\\Omdena\\sao-paulo-chapter-passenger-demand\\src\\tasks\\task_2_eda_dashboards\\reports/Diogo Loureiro\\alllines_ptl_complete_report.html\n"
     ]
    },
    {
     "data": {
      "application/vnd.jupyter.widget-view+json": {
       "model_id": "e3dde4b9e4c94532bf8143b1674b501f",
       "version_major": 2,
       "version_minor": 0
      },
      "text/plain": [
       "Summarize dataset:   0%|          | 0/5 [00:00<?, ?it/s]"
      ]
     },
     "metadata": {},
     "output_type": "display_data"
    },
    {
     "name": "stderr",
     "output_type": "stream",
     "text": [
      "c:\\Users\\Diogo\\.conda\\envs\\analytics\\lib\\site-packages\\ydata_profiling\\model\\pandas\\describe_timeseries_pandas.py:117: FutureWarning: The 'mad' method is deprecated and will be removed in a future version. To compute the same result, you may do `(df - df.mean()).abs().mean()`.\n",
      "  mad = pos_fft_above_med[\"ampl\"].mad()\n",
      "c:\\Users\\Diogo\\.conda\\envs\\analytics\\lib\\site-packages\\ydata_profiling\\model\\pandas\\describe_timeseries_pandas.py:117: FutureWarning: The 'mad' method is deprecated and will be removed in a future version. To compute the same result, you may do `(df - df.mean()).abs().mean()`.\n",
      "  mad = pos_fft_above_med[\"ampl\"].mad()\n"
     ]
    },
    {
     "data": {
      "application/vnd.jupyter.widget-view+json": {
       "model_id": "b47ec9bc3dbd46cb86b55851c9e595fe",
       "version_major": 2,
       "version_minor": 0
      },
      "text/plain": [
       "Generate report structure:   0%|          | 0/1 [00:00<?, ?it/s]"
      ]
     },
     "metadata": {},
     "output_type": "display_data"
    },
    {
     "data": {
      "application/vnd.jupyter.widget-view+json": {
       "model_id": "24f4a84c1c06441c991322694680c01d",
       "version_major": 2,
       "version_minor": 0
      },
      "text/plain": [
       "Render HTML:   0%|          | 0/1 [00:00<?, ?it/s]"
      ]
     },
     "metadata": {},
     "output_type": "display_data"
    },
    {
     "data": {
      "application/vnd.jupyter.widget-view+json": {
       "model_id": "f0708e8bd96d44238e27a6b32bdb329e",
       "version_major": 2,
       "version_minor": 0
      },
      "text/plain": [
       "Export report to file:   0%|          | 0/1 [00:00<?, ?it/s]"
      ]
     },
     "metadata": {},
     "output_type": "display_data"
    },
    {
     "name": "stdout",
     "output_type": "stream",
     "text": [
      "Report(s) saved at: c:\\Users\\Diogo\\Desktop\\Omdena\\sao-paulo-chapter-passenger-demand\\src\\tasks\\task_2_eda_dashboards\\reports/Diogo Loureiro\\publiclines_ibt_complete_report.html\n"
     ]
    },
    {
     "data": {
      "application/vnd.jupyter.widget-view+json": {
       "model_id": "0ddfee54cc324fa09a65a6449cd3b26b",
       "version_major": 2,
       "version_minor": 0
      },
      "text/plain": [
       "Summarize dataset:   0%|          | 0/5 [00:00<?, ?it/s]"
      ]
     },
     "metadata": {},
     "output_type": "display_data"
    },
    {
     "data": {
      "application/vnd.jupyter.widget-view+json": {
       "model_id": "c3ed8566b1bc44ad96d5ea1d31dc4a61",
       "version_major": 2,
       "version_minor": 0
      },
      "text/plain": [
       "Generate report structure:   0%|          | 0/1 [00:00<?, ?it/s]"
      ]
     },
     "metadata": {},
     "output_type": "display_data"
    },
    {
     "data": {
      "application/vnd.jupyter.widget-view+json": {
       "model_id": "616bc6793fd94d99991fc4da0cbb6730",
       "version_major": 2,
       "version_minor": 0
      },
      "text/plain": [
       "Render HTML:   0%|          | 0/1 [00:00<?, ?it/s]"
      ]
     },
     "metadata": {},
     "output_type": "display_data"
    },
    {
     "data": {
      "application/vnd.jupyter.widget-view+json": {
       "model_id": "95a2e627a4f749bbb3a07d81932bd51d",
       "version_major": 2,
       "version_minor": 0
      },
      "text/plain": [
       "Export report to file:   0%|          | 0/1 [00:00<?, ?it/s]"
      ]
     },
     "metadata": {},
     "output_type": "display_data"
    },
    {
     "name": "stdout",
     "output_type": "stream",
     "text": [
      "Report(s) saved at: c:\\Users\\Diogo\\Desktop\\Omdena\\sao-paulo-chapter-passenger-demand\\src\\tasks\\task_2_eda_dashboards\\reports/Diogo Loureiro\\publiclines_pel_complete_report.html\n"
     ]
    }
   ],
   "source": [
    "#Created by Diogo Loureiro\n",
    "#To use this script, please execute following steps:\n",
    "    #1) Install requirements.txt\n",
    "    #2) Save desired .csv files on data folder\n",
    "    #3) Run this script\n",
    "    #4) Reports will be generated inside reports folder (.html format)\n",
    "\n",
    "#Documentation for both libs (pandas profilling and sweet viz\n",
    "#Pandas profilling = https://ydata-profiling.ydata.ai/docs/master/\n",
    "#Sweetviz = https://pypi.org/project/sweetviz/#description\n",
    "\n",
    "import os\n",
    "import numpy as np\n",
    "import pandas as pd\n",
    "from ydata_profiling import ProfileReport\n",
    "import sweetviz as sv\n",
    "\n",
    "#Generate sweetviz version? If not, change to False\n",
    "sweetviz=False\n",
    "\n",
    "# Get the current working directory\n",
    "directory = os.getcwd()\n",
    "print(directory)\n",
    "\n",
    "# Create the 'reports' folder if it doesn't exist\n",
    "reports_directory = os.path.join(directory, 'reports/Diogo Loureiro')\n",
    "if not os.path.exists(reports_directory):\n",
    "    os.makedirs(reports_directory)\n",
    "\n",
    "# Set the 'data' directory\n",
    "data_directory = os.path.join(directory, 'data')\n",
    "\n",
    "# Iterate over all files in the 'data' directory\n",
    "for filename in os.listdir(data_directory):\n",
    "    if filename.endswith('.csv'):\n",
    "        file_path = os.path.join(data_directory, filename)\n",
    "\n",
    "        # Load the dataset\n",
    "        data = pd.read_csv(file_path)\n",
    "\n",
    "        # Generate the EDA report using pandas-profiling\n",
    "        profile = ProfileReport(data,title=filename + ' Basic EDA',explorative=True,tsmode=True)\n",
    "\n",
    "        #Check if sweetviz option is enabled\n",
    "        if sweetviz==True:\n",
    "            sv_profile = sv.analyze(data)\n",
    "\n",
    "        # Save the report as an HTML file inside the 'reports' folder\n",
    "        report_filename = os.path.splitext(filename)[0] + '_report.html'\n",
    "        report_path = os.path.join(reports_directory, report_filename)\n",
    "        sv_report_path = os.path.join(reports_directory, 'sv_'+report_filename)\n",
    "        profile.to_file(report_path)\n",
    "\n",
    "        #Check if sweetviz option is enabled\n",
    "        if sweetviz==True:\n",
    "            sv_profile.show_html(sv_report_path,open_browser=False)\n",
    "\n",
    "        print(\"Report(s) saved at:\", report_path)"
   ]
  }
 ],
 "metadata": {
  "kernelspec": {
   "display_name": "analytics",
   "language": "python",
   "name": "python3"
  },
  "language_info": {
   "codemirror_mode": {
    "name": "ipython",
    "version": 3
   },
   "file_extension": ".py",
   "mimetype": "text/x-python",
   "name": "python",
   "nbconvert_exporter": "python",
   "pygments_lexer": "ipython3",
   "version": "3.10.4"
  },
  "orig_nbformat": 4
 },
 "nbformat": 4,
 "nbformat_minor": 2
}
