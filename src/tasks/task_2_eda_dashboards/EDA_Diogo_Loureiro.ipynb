{
 "cells": [
  {
   "cell_type": "code",
   "execution_count": null,
   "metadata": {},
   "outputs": [],
   "source": [
    "#Created by Diogo Loureiro\n",
    "#To use this script, please execute following steps:\n",
    "    #1) Install requirements.txt\n",
    "    #2) Save desired .csv files on data folder\n",
    "    #3) Run this script\n",
    "    #4) Reports will be generated inside reports folder (.html format)\n",
    "\n",
    "import os\n",
    "import pandas as pd\n",
    "import pandas_profiling\n",
    "\n",
    "# Get the current working directory\n",
    "directory = os.getcwd()\n",
    "print(directory)\n",
    "\n",
    "# Create the 'reports' folder if it doesn't exist\n",
    "reports_directory = os.path.join(directory, 'reports')\n",
    "if not os.path.exists(reports_directory):\n",
    "    os.makedirs(reports_directory)\n",
    "\n",
    "# Set the 'data' directory\n",
    "data_directory = os.path.join(directory, 'data')\n",
    "\n",
    "# Iterate over all files in the 'data' directory\n",
    "for filename in os.listdir(data_directory):\n",
    "    if filename.endswith('.csv'):\n",
    "        file_path = os.path.join(data_directory, filename)\n",
    "\n",
    "        # Load the dataset\n",
    "        data = pd.read_csv(file_path)\n",
    "\n",
    "        # Generate the EDA report using pandas-profiling\n",
    "        profile = pandas_profiling.ProfileReport(data)\n",
    "\n",
    "        # Save the report as an HTML file inside the 'reports' folder\n",
    "        report_filename = os.path.splitext(filename)[0] + '_report.html'\n",
    "        report_path = os.path.join(reports_directory, report_filename)\n",
    "        profile.to_file(report_path)\n",
    "        print(\"Report saved at:\", report_path)"
   ]
  }
 ],
 "metadata": {
  "kernelspec": {
   "display_name": "analytics",
   "language": "python",
   "name": "python3"
  },
  "language_info": {
   "codemirror_mode": {
    "name": "ipython",
    "version": 3
   },
   "file_extension": ".py",
   "mimetype": "text/x-python",
   "name": "python",
   "nbconvert_exporter": "python",
   "pygments_lexer": "ipython3",
   "version": "3.10.4"
  },
  "orig_nbformat": 4
 },
 "nbformat": 4,
 "nbformat_minor": 2
}
