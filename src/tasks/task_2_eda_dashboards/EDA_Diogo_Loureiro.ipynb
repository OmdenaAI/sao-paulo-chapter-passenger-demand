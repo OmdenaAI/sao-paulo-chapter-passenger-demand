{
 "cells": [
  {
   "cell_type": "code",
   "execution_count": 2,
   "metadata": {},
   "outputs": [
    {
     "name": "stdout",
     "output_type": "stream",
     "text": [
      "c:\\Users\\Diogo\\Desktop\\Omdena\\sao-paulo-chapter-passenger-demand\\src\\tasks\\task_2_eda_dashboards\n"
     ]
    },
    {
     "data": {
      "application/vnd.jupyter.widget-view+json": {
       "model_id": "07b86c8d0fed4075a52dbdb4aad2f4ab",
       "version_major": 2,
       "version_minor": 0
      },
      "text/plain": [
       "Summarize dataset:   0%|          | 0/5 [00:00<?, ?it/s]"
      ]
     },
     "metadata": {},
     "output_type": "display_data"
    },
    {
     "name": "stderr",
     "output_type": "stream",
     "text": [
      "c:\\Users\\Diogo\\.conda\\envs\\analytics\\lib\\site-packages\\ydata_profiling\\model\\pandas\\describe_timeseries_pandas.py:117: FutureWarning: The 'mad' method is deprecated and will be removed in a future version. To compute the same result, you may do `(df - df.mean()).abs().mean()`.\n",
      "  mad = pos_fft_above_med[\"ampl\"].mad()\n",
      "c:\\Users\\Diogo\\.conda\\envs\\analytics\\lib\\site-packages\\ydata_profiling\\model\\pandas\\describe_timeseries_pandas.py:117: FutureWarning: The 'mad' method is deprecated and will be removed in a future version. To compute the same result, you may do `(df - df.mean()).abs().mean()`.\n",
      "  mad = pos_fft_above_med[\"ampl\"].mad()\n"
     ]
    },
    {
     "data": {
      "application/vnd.jupyter.widget-view+json": {
       "model_id": "61452ab264174addbceea8a4f4bcbf48",
       "version_major": 2,
       "version_minor": 0
      },
      "text/plain": [
       "Generate report structure:   0%|          | 0/1 [00:00<?, ?it/s]"
      ]
     },
     "metadata": {},
     "output_type": "display_data"
    },
    {
     "data": {
      "application/vnd.jupyter.widget-view+json": {
       "model_id": "2d38f5a9aec0497490b466987dc28e59",
       "version_major": 2,
       "version_minor": 0
      },
      "text/plain": [
       "Render HTML:   0%|          | 0/1 [00:00<?, ?it/s]"
      ]
     },
     "metadata": {},
     "output_type": "display_data"
    },
    {
     "data": {
      "application/vnd.jupyter.widget-view+json": {
       "model_id": "6dc3c134f22f48f08ee544cf682fc812",
       "version_major": 2,
       "version_minor": 0
      },
      "text/plain": [
       "Export report to file:   0%|          | 0/1 [00:00<?, ?it/s]"
      ]
     },
     "metadata": {},
     "output_type": "display_data"
    },
    {
     "name": "stdout",
     "output_type": "stream",
     "text": [
      "Report(s) saved at: c:\\Users\\Diogo\\Desktop\\Omdena\\sao-paulo-chapter-passenger-demand\\src\\tasks\\task_2_eda_dashboards\\reports\\alllines_pes_complete_report.html\n"
     ]
    },
    {
     "data": {
      "application/vnd.jupyter.widget-view+json": {
       "model_id": "4a76b40b46c64b5d91e27987974276c5",
       "version_major": 2,
       "version_minor": 0
      },
      "text/plain": [
       "Summarize dataset:   0%|          | 0/5 [00:00<?, ?it/s]"
      ]
     },
     "metadata": {},
     "output_type": "display_data"
    },
    {
     "data": {
      "application/vnd.jupyter.widget-view+json": {
       "model_id": "959a871846314b869b73e87dc7bf1fa2",
       "version_major": 2,
       "version_minor": 0
      },
      "text/plain": [
       "Generate report structure:   0%|          | 0/1 [00:00<?, ?it/s]"
      ]
     },
     "metadata": {},
     "output_type": "display_data"
    },
    {
     "data": {
      "application/vnd.jupyter.widget-view+json": {
       "model_id": "eef55fc8f6c54f6bb3b485c67b83cd07",
       "version_major": 2,
       "version_minor": 0
      },
      "text/plain": [
       "Render HTML:   0%|          | 0/1 [00:00<?, ?it/s]"
      ]
     },
     "metadata": {},
     "output_type": "display_data"
    },
    {
     "data": {
      "application/vnd.jupyter.widget-view+json": {
       "model_id": "9f8d9454572d4fdeb46b7fa54f95c712",
       "version_major": 2,
       "version_minor": 0
      },
      "text/plain": [
       "Export report to file:   0%|          | 0/1 [00:00<?, ?it/s]"
      ]
     },
     "metadata": {},
     "output_type": "display_data"
    },
    {
     "name": "stdout",
     "output_type": "stream",
     "text": [
      "Report(s) saved at: c:\\Users\\Diogo\\Desktop\\Omdena\\sao-paulo-chapter-passenger-demand\\src\\tasks\\task_2_eda_dashboards\\reports\\alllines_ptl_complete_report.html\n"
     ]
    },
    {
     "data": {
      "application/vnd.jupyter.widget-view+json": {
       "model_id": "f3193f03048940d9a34a4e599a1fd327",
       "version_major": 2,
       "version_minor": 0
      },
      "text/plain": [
       "Summarize dataset:   0%|          | 0/5 [00:00<?, ?it/s]"
      ]
     },
     "metadata": {},
     "output_type": "display_data"
    },
    {
     "name": "stderr",
     "output_type": "stream",
     "text": [
      "c:\\Users\\Diogo\\.conda\\envs\\analytics\\lib\\site-packages\\ydata_profiling\\model\\pandas\\describe_timeseries_pandas.py:117: FutureWarning: The 'mad' method is deprecated and will be removed in a future version. To compute the same result, you may do `(df - df.mean()).abs().mean()`.\n",
      "  mad = pos_fft_above_med[\"ampl\"].mad()\n"
     ]
    },
    {
     "data": {
      "application/vnd.jupyter.widget-view+json": {
       "model_id": "24472bb48ba746a484f84a55a3bd0cf7",
       "version_major": 2,
       "version_minor": 0
      },
      "text/plain": [
       "Generate report structure:   0%|          | 0/1 [00:00<?, ?it/s]"
      ]
     },
     "metadata": {},
     "output_type": "display_data"
    },
    {
     "data": {
      "application/vnd.jupyter.widget-view+json": {
       "model_id": "5a9d4d4e8930436f9f64c2237d082286",
       "version_major": 2,
       "version_minor": 0
      },
      "text/plain": [
       "Render HTML:   0%|          | 0/1 [00:00<?, ?it/s]"
      ]
     },
     "metadata": {},
     "output_type": "display_data"
    },
    {
     "data": {
      "application/vnd.jupyter.widget-view+json": {
       "model_id": "7d57d2a91e504e4abb7aa61693707216",
       "version_major": 2,
       "version_minor": 0
      },
      "text/plain": [
       "Export report to file:   0%|          | 0/1 [00:00<?, ?it/s]"
      ]
     },
     "metadata": {},
     "output_type": "display_data"
    },
    {
     "name": "stdout",
     "output_type": "stream",
     "text": [
      "Report(s) saved at: c:\\Users\\Diogo\\Desktop\\Omdena\\sao-paulo-chapter-passenger-demand\\src\\tasks\\task_2_eda_dashboards\\reports\\publiclines_ibt_complete_report.html\n"
     ]
    },
    {
     "data": {
      "application/vnd.jupyter.widget-view+json": {
       "model_id": "e0ca5b3e42d94f7dac7ec3b9a6232be0",
       "version_major": 2,
       "version_minor": 0
      },
      "text/plain": [
       "Summarize dataset:   0%|          | 0/5 [00:00<?, ?it/s]"
      ]
     },
     "metadata": {},
     "output_type": "display_data"
    },
    {
     "data": {
      "application/vnd.jupyter.widget-view+json": {
       "model_id": "bd42340eecac45da894b166064669693",
       "version_major": 2,
       "version_minor": 0
      },
      "text/plain": [
       "Generate report structure:   0%|          | 0/1 [00:00<?, ?it/s]"
      ]
     },
     "metadata": {},
     "output_type": "display_data"
    },
    {
     "data": {
      "application/vnd.jupyter.widget-view+json": {
       "model_id": "79e605fc1c6743bf8d2e2e2f45ba8f9d",
       "version_major": 2,
       "version_minor": 0
      },
      "text/plain": [
       "Render HTML:   0%|          | 0/1 [00:00<?, ?it/s]"
      ]
     },
     "metadata": {},
     "output_type": "display_data"
    },
    {
     "data": {
      "application/vnd.jupyter.widget-view+json": {
       "model_id": "c51101820149411fbd051cbaa409b74a",
       "version_major": 2,
       "version_minor": 0
      },
      "text/plain": [
       "Export report to file:   0%|          | 0/1 [00:00<?, ?it/s]"
      ]
     },
     "metadata": {},
     "output_type": "display_data"
    },
    {
     "name": "stdout",
     "output_type": "stream",
     "text": [
      "Report(s) saved at: c:\\Users\\Diogo\\Desktop\\Omdena\\sao-paulo-chapter-passenger-demand\\src\\tasks\\task_2_eda_dashboards\\reports\\publiclines_pel_complete_report.html\n"
     ]
    }
   ],
   "source": [
    "#Created by Diogo Loureiro\n",
    "#To use this script, please execute following steps:\n",
    "    #1) Install requirements.txt\n",
    "    #2) Save desired .csv files on data folder\n",
    "    #3) Run this script\n",
    "    #4) Reports will be generated inside reports folder (.html format)\n",
    "\n",
    "#Documentation for both libs (pandas profilling and sweet viz\n",
    "#Pandas profilling = https://ydata-profiling.ydata.ai/docs/master/\n",
    "#Sweetviz = https://pypi.org/project/sweetviz/#description\n",
    "\n",
    "import os\n",
    "import numpy as np\n",
    "import pandas as pd\n",
    "from ydata_profiling import ProfileReport\n",
    "import sweetviz as sv\n",
    "\n",
    "#Generate sweetviz version? If not, change to False\n",
    "sweetviz=False\n",
    "\n",
    "# Get the current working directory\n",
    "directory = os.getcwd()\n",
    "print(directory)\n",
    "\n",
    "# Create the 'reports' folder if it doesn't exist\n",
    "reports_directory = os.path.join(directory, 'reports')\n",
    "if not os.path.exists(reports_directory):\n",
    "    os.makedirs(reports_directory)\n",
    "\n",
    "# Set the 'data' directory\n",
    "data_directory = os.path.join(directory, 'data')\n",
    "\n",
    "# Iterate over all files in the 'data' directory\n",
    "for filename in os.listdir(data_directory):\n",
    "    if filename.endswith('.csv'):\n",
    "        file_path = os.path.join(data_directory, filename)\n",
    "\n",
    "        # Load the dataset\n",
    "        data = pd.read_csv(file_path)\n",
    "\n",
    "        # Generate the EDA report using pandas-profiling\n",
    "        profile = ProfileReport(data,title=filename + ' Basic EDA',explorative=True,tsmode=True)\n",
    "\n",
    "        #Check if sweetviz option is enabled\n",
    "        if sweetviz==True:\n",
    "            sv_profile = sv.analyze(data)\n",
    "\n",
    "        # Save the report as an HTML file inside the 'reports' folder\n",
    "        report_filename = os.path.splitext(filename)[0] + '_report.html'\n",
    "        report_path = os.path.join(reports_directory, report_filename)\n",
    "        sv_report_path = os.path.join(reports_directory, 'sv_'+report_filename)\n",
    "        profile.to_file(report_path)\n",
    "\n",
    "        #Check if sweetviz option is enabled\n",
    "        if sweetviz==True:\n",
    "            sv_profile.show_html(sv_report_path,open_browser=False)\n",
    "\n",
    "        print(\"Report(s) saved at:\", report_path)"
   ]
  }
 ],
 "metadata": {
  "kernelspec": {
   "display_name": "analytics",
   "language": "python",
   "name": "python3"
  },
  "language_info": {
   "codemirror_mode": {
    "name": "ipython",
    "version": 3
   },
   "file_extension": ".py",
   "mimetype": "text/x-python",
   "name": "python",
   "nbconvert_exporter": "python",
   "pygments_lexer": "ipython3",
   "version": "3.10.4"
  },
  "orig_nbformat": 4
 },
 "nbformat": 4,
 "nbformat_minor": 2
}
