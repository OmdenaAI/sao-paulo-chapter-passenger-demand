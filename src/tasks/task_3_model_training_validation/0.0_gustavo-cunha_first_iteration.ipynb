{
 "cells": [
  {
   "attachments": {},
   "cell_type": "markdown",
   "id": "cfb7b1da",
   "metadata": {
    "heading_collapsed": true
   },
   "source": [
    "# **0 - HELPERS**"
   ]
  },
  {
   "attachments": {},
   "cell_type": "markdown",
   "id": "f73c6dcd",
   "metadata": {
    "heading_collapsed": true,
    "hidden": true
   },
   "source": [
    "## 0.1 - Libraries"
   ]
  },
  {
   "attachments": {},
   "cell_type": "markdown",
   "id": "3a213f9e",
   "metadata": {},
   "source": [
    "*Import required libraries*"
   ]
  },
  {
   "cell_type": "code",
   "execution_count": 1,
   "id": "6bef9efa",
   "metadata": {},
   "outputs": [],
   "source": [
    "# don't cache libraries (especially project library)\n",
    "%load_ext autoreload\n",
    "%autoreload 2"
   ]
  },
  {
   "cell_type": "code",
   "execution_count": 2,
   "id": "2d066e75",
   "metadata": {},
   "outputs": [
    {
     "name": "stderr",
     "output_type": "stream",
     "text": [
      "/home/ds-gustavo-cunha/.pyenv/versions/omdena_sp_train/lib/python3.10/site-packages/tqdm/auto.py:21: TqdmWarning: IProgress not found. Please update jupyter and ipywidgets. See https://ipywidgets.readthedocs.io/en/stable/user_install.html\n",
      "  from .autonotebook import tqdm as notebook_tqdm\n"
     ]
    }
   ],
   "source": [
    "# setup and environment\n",
    "import os\n",
    "from   pathlib import Path\n",
    "\n",
    "# data manipulation\n",
    "import re\n",
    "import numpy as np\n",
    "import pandas as pd\n",
    "\n",
    "# dataframe summary\n",
    "from ydata_profiling import ProfileReport\n",
    "\n",
    "# plots\n",
    "import seaborn as sns\n",
    "import matplotlib.pyplot as plt\n",
    "\n",
    "# notebooks\n",
    "from IPython.display import display, HTML"
   ]
  },
  {
   "attachments": {},
   "cell_type": "markdown",
   "id": "31bfa06e",
   "metadata": {},
   "source": [
    "## 0.2 - Setup"
   ]
  },
  {
   "attachments": {},
   "cell_type": "markdown",
   "id": "7dc1ec1d",
   "metadata": {},
   "source": [
    "*Define basic configurations*"
   ]
  },
  {
   "cell_type": "code",
   "execution_count": 3,
   "id": "66009c14",
   "metadata": {},
   "outputs": [
    {
     "data": {
      "text/html": [
       "<style>.container { width:100% !important; }</style>"
      ],
      "text/plain": [
       "<IPython.core.display.HTML object>"
      ]
     },
     "metadata": {},
     "output_type": "display_data"
    }
   ],
   "source": [
    "#####################\n",
    "# pandas dataframes #\n",
    "#####################\n",
    "\n",
    "# set cientific notation for pandas\n",
    "pd.set_option(\n",
    "    \"display.float_format\", \"{:,.3f}\".format\n",
    ")  # used in some places like SeriesFormatter\n",
    "pd.set_option(\n",
    "    \"display.precision\", 3\n",
    ")  # for regular formatting as well as scientific notation\n",
    "pd.set_option(\n",
    "    \"styler.format.precision\", 3\n",
    ")  # The precision for floats and complex numbers\n",
    "# don't truncate columns\n",
    "pd.set_option(\"display.max_colwidth\", 100)  # None for unlimited\n",
    "# display all columns\n",
    "pd.set_option(\"display.max_columns\", None)\n",
    "# display up to 100 rows\n",
    "pd.set_option(\"display.max_rows\", 100)\n",
    "# display dimensions\n",
    "pd.set_option(\"display.show_dimensions\", True)\n",
    "# define decimals and thousand separation\n",
    "pd.set_option(\"styler.format.decimal\", \",\")\n",
    "pd.set_option(\"styler.format.thousands\", \".\")\n",
    "\n",
    "####################\n",
    "# matplotlib plots #\n",
    "####################\n",
    "\n",
    "# set default plt figure size\n",
    "plt.rcParams[\"figure.figsize\"] = [10, 5]\n",
    "# figure suptitle\n",
    "plt.rcParams[\"figure.titlesize\"] = \"large\"\n",
    "plt.rcParams[\"figure.titleweight\"] = \"bold\"\n",
    "# set default plt font size\n",
    "plt.rcParams[\"font.size\"] = 24\n",
    "# font weight\n",
    "# plt.rcParams[\"font.weight\"] = \"bold\"\n",
    "# title location\n",
    "plt.rcParams[\"axes.titlelocation\"] = \"left\"\n",
    "# title size\n",
    "plt.rcParams[\"axes.titlesize\"] = \"large\"\n",
    "# title wight\n",
    "plt.rcParams[\"axes.titleweight\"] = \"bold\"\n",
    "# plt.rcParams[\"axes.labelweight\"] = \"bold\"\n",
    "# spines\n",
    "plt.rcParams[\"axes.spines.top\"] = False\n",
    "plt.rcParams[\"axes.spines.right\"] = False\n",
    "# axis labels\n",
    "plt.rcParams[\"xaxis.labellocation\"] = \"left\"\n",
    "plt.rcParams[\"yaxis.labellocation\"] = \"top\"\n",
    "# figure layout\n",
    "plt.rcParams[\"figure.autolayout\"] = False\n",
    "# save figures\n",
    "plt.rcParams[\"savefig.dpi\"] = 900\n",
    "plt.rcParams[\"savefig.facecolor\"] = \"white\"\n",
    "plt.rcParams[\"savefig.bbox\"] = \"tight\"\n",
    "plt.rcParams[\"savefig.format\"] = \"png\"\n",
    "\n",
    "# set fivethirtyeight pallete\n",
    "plt.style.use(\"fivethirtyeight\")\n",
    "\n",
    "#####################\n",
    "# jupyter notebooks #\n",
    "#####################\n",
    "\n",
    "# set cell size to be expanded\n",
    "display(HTML(\"<style>.container { width:100% !important; }</style>\"))"
   ]
  },
  {
   "attachments": {},
   "cell_type": "markdown",
   "id": "fa085249",
   "metadata": {},
   "source": [
    "## 0.4 - Constants"
   ]
  },
  {
   "attachments": {},
   "cell_type": "markdown",
   "id": "059932be",
   "metadata": {},
   "source": [
    "*Define reusuable constants*"
   ]
  },
  {
   "cell_type": "code",
   "execution_count": 4,
   "id": "ad9f83e2",
   "metadata": {},
   "outputs": [
    {
     "data": {
      "text/plain": [
       "PosixPath('/home/ds-gustavo-cunha/Projects/omdena_sp_train')"
      ]
     },
     "execution_count": 4,
     "metadata": {},
     "output_type": "execute_result"
    }
   ],
   "source": [
    "# define the project root path that will be the \"baseline\" for all paths in the notebook\n",
    "PROJECT_ROOT_PATH = Path.cwd().parent.parent.parent\n",
    "PROJECT_ROOT_PATH"
   ]
  },
  {
   "cell_type": "code",
   "execution_count": 5,
   "id": "e67bbed8",
   "metadata": {},
   "outputs": [
    {
     "data": {
      "text/plain": [
       "['l01_pes_complete.csv',\n",
       " 'README.md',\n",
       " 'publiclines_pel_complete.csv',\n",
       " 'alllines_pes_complete.csv',\n",
       " 'publiclines_pel_21.csv',\n",
       " 'l15_pes_complete.csv',\n",
       " 'l02_pes_complete.csv',\n",
       " 'publiclines_pel_22.csv',\n",
       " 'publiclines_ptl_complete.csv',\n",
       " 'l04_pes_complete.csv',\n",
       " 'l03_pes_complete.csv',\n",
       " 'l05_pes_complete.csv']"
      ]
     },
     "execution_count": 5,
     "metadata": {},
     "output_type": "execute_result"
    }
   ],
   "source": [
    "# define war data folder path\n",
    "RAW_DATA_PATH = os.path.join(PROJECT_ROOT_PATH, \"src\", \"tasks\", \"task_1_data_collection_preprocessing\", \"final_datasets\")\n",
    "\n",
    "# inspect folder\n",
    "os.listdir(RAW_DATA_PATH)"
   ]
  },
  {
   "attachments": {},
   "cell_type": "markdown",
   "id": "71c139dd",
   "metadata": {
    "ExecuteTime": {
     "end_time": "2021-11-04T23:09:51.772110Z",
     "start_time": "2021-11-04T23:09:51.767141Z"
    }
   },
   "source": [
    "# **1 - DATA EXTRACTION**"
   ]
  },
  {
   "attachments": {},
   "cell_type": "markdown",
   "id": "870fc960",
   "metadata": {},
   "source": [
    "## 1.1 - Entity Relationship Diagram"
   ]
  },
  {
   "attachments": {},
   "cell_type": "markdown",
   "id": "52b1c61e",
   "metadata": {},
   "source": [
    "*Display Entity-Relationship Diagram to a better data understanding*"
   ]
  },
  {
   "attachments": {},
   "cell_type": "markdown",
   "id": "aee358fe",
   "metadata": {},
   "source": [
    "![ERD](./erd/omdena_sp_train.png)"
   ]
  },
  {
   "attachments": {},
   "cell_type": "markdown",
   "id": "eddb0851",
   "metadata": {
    "ExecuteTime": {
     "end_time": "2021-11-08T11:11:43.415835Z",
     "start_time": "2021-11-08T11:11:43.409069Z"
    }
   },
   "source": [
    "## 1.2 - Data Fields Description"
   ]
  },
  {
   "attachments": {},
   "cell_type": "markdown",
   "id": "6ef925d8",
   "metadata": {},
   "source": [
    "*Describe available data in regard to database information*\n"
   ]
  },
  {
   "attachments": {},
   "cell_type": "markdown",
   "id": "e7516f45",
   "metadata": {
    "ExecuteTime": {
     "end_time": "2021-11-04T23:10:12.465759Z",
     "start_time": "2021-11-04T23:10:12.443121Z"
    },
    "heading_collapsed": true
   },
   "source": [
    "#### **This folder contains the final datasets that should be used by the other teams**\n",
    "\n",
    "- Check our Notion for the Feature's Schema. Does your dataset follow the schema?\n",
    "- Follow this pattern for the file name: line_dataset_year where:\n",
    "1. line = l + line number, with 2 digits. Check Notion for line's number. Ex.: l01\n",
    "2. dataset: Where the data came from? Passengers transported by line = ptl, Passengers entry by line = pel, Passengers entry by station = pes. Ex.: l01_pel\n",
    "3. year: Year with 2 digits. If the dataset is for the hole time span (2017-2023), use complete. Ex.: l1_pel_23 OR l3_pes_complete"
   ]
  },
  {
   "attachments": {},
   "cell_type": "markdown",
   "id": "4ef725bb",
   "metadata": {},
   "source": [
    "#### **Github structure**\n",
    "\n",
    "- Check for the folder **final_datasets**. This is the place for the final files.\n",
    "- Follow this pattern for the file name: line_dataset_year where:\n",
    "    1. line = l + line number, with 2 digits. If the dataset contains all the public lines or all the private lines, you should use: publiclines OR privatelines OR alllines (public + private)\n",
    "        \n",
    "        Ex.: **l01 or publiclines**\n",
    "        \n",
    "    2. dataset: Where the data came from? \n",
    "        1. Passengers transported by line = ptl,\n",
    "        2. Passengers entry by line = pel,\n",
    "        3. Passengers entry by station = pes. \n",
    "        \n",
    "        Ex.: **l01_pel or publiclines_pel**\n",
    "        \n",
    "    3. year: Year with 2 digits. If the dataset is for the hole time span (2017-2023), use complete.\n",
    "        \n",
    "        Ex.: **l1_pel_23 OR l3_pes_complete OR publiclines_pes_complete**\n",
    "        \n",
    "    4. Exemples:\n",
    "        - The dataset **l04_pel_22.csv** contains data for Yellow line, with Passengers entry by line for 2022\n",
    "        - The dataset **publiclines_pes_complete** contains data for all the public lines (1,2,3 and 15), with passengers entry by line for all the years\n",
    "\n",
    "#### Features - Schema\n",
    "\n",
    "**Passenger entrance by line datasets**\n",
    "\n",
    "- date - Month when the data was collected - datetime (yyyy-mm-dd)\n",
    "- line - Subway line number - int\n",
    "- total - Total of passengers that entered the station on that month - int\n",
    "- business_day_mean - (MDU) Mean of passengers that entered the station on that month on business day - int\n",
    "- saturday_mean - (MSA) Mean of passengers that entered the station on that month on saturdays - int\n",
    "- sunday_mean - (MD0) Mean of passengers that entered the station on that month on sundays - int\n",
    "- max - (MAX) Maximum of passengers entered on one day on that month - int\n",
    "\n",
    "**Daily average passenger entrance by station on business days datasets**\n",
    "\n",
    "- date - Month when the data was collected - datetime (yyyy-mm-dd)\n",
    "- line - Subway line number - int\n",
    "- station - Subway station - categorical?\n",
    "- dpea - Daily average passenger entrance by station - int\n",
    "\n",
    "**Passengers transported by line datasets**\n",
    "\n",
    "- date - Month when the data was collected - datetime (yyyy-mm-dd)\n",
    "- line - Subway line number - int\n",
    "- total - Total of passengers transported by line on that month - int\n",
    "- business_day_mean - (MDU) Mean of passengers transported on that month on business day - int\n",
    "- saturday_mean - (MSA) Mean of passengers transported on that month on saturdays - int\n",
    "- sunday_mean - (MD0) Mean of passengers transported on that month on sundays - int\n",
    "- max - (MAX) Maximum of passengers transported on one day on that month - int"
   ]
  },
  {
   "attachments": {},
   "cell_type": "markdown",
   "id": "425ae4b4",
   "metadata": {},
   "source": [
    "## 1.3 - Data Loading"
   ]
  },
  {
   "attachments": {},
   "cell_type": "markdown",
   "id": "98e6ffec",
   "metadata": {},
   "source": [
    "*Load data from required files*"
   ]
  },
  {
   "cell_type": "code",
   "execution_count": 6,
   "id": "5c1b6096",
   "metadata": {},
   "outputs": [
    {
     "data": {
      "text/plain": [
       "year_month                  datetime64[ns]\n",
       "line                                 int64\n",
       "total                              float64\n",
       "MDU (Business Days Mean)           float64\n",
       "MSD (Saturdays Mean)               float64\n",
       "MDO (Sundays Mean)                 float64\n",
       "MAX (Daily Max)                    float64\n",
       "Length: 7, dtype: object"
      ]
     },
     "metadata": {},
     "output_type": "display_data"
    },
    {
     "data": {
      "text/html": [
       "<div>\n",
       "<style scoped>\n",
       "    .dataframe tbody tr th:only-of-type {\n",
       "        vertical-align: middle;\n",
       "    }\n",
       "\n",
       "    .dataframe tbody tr th {\n",
       "        vertical-align: top;\n",
       "    }\n",
       "\n",
       "    .dataframe thead th {\n",
       "        text-align: right;\n",
       "    }\n",
       "</style>\n",
       "<table border=\"1\" class=\"dataframe\">\n",
       "  <thead>\n",
       "    <tr style=\"text-align: right;\">\n",
       "      <th></th>\n",
       "      <th>year_month</th>\n",
       "      <th>line</th>\n",
       "      <th>total</th>\n",
       "      <th>MDU (Business Days Mean)</th>\n",
       "      <th>MSD (Saturdays Mean)</th>\n",
       "      <th>MDO (Sundays Mean)</th>\n",
       "      <th>MAX (Daily Max)</th>\n",
       "    </tr>\n",
       "  </thead>\n",
       "  <tbody>\n",
       "    <tr>\n",
       "      <th>0</th>\n",
       "      <td>2018-08-01</td>\n",
       "      <td>3</td>\n",
       "      <td>38,679,000.000</td>\n",
       "      <td>1,440,000.000</td>\n",
       "      <td>884,000.000</td>\n",
       "      <td>504,000.000</td>\n",
       "      <td>1,483,000.000</td>\n",
       "    </tr>\n",
       "    <tr>\n",
       "      <th>1</th>\n",
       "      <td>2018-08-01</td>\n",
       "      <td>1</td>\n",
       "      <td>37,775,000.000</td>\n",
       "      <td>1,420,000.000</td>\n",
       "      <td>832,000.000</td>\n",
       "      <td>446,000.000</td>\n",
       "      <td>1,466,000.000</td>\n",
       "    </tr>\n",
       "    <tr>\n",
       "      <th>2</th>\n",
       "      <td>2018-08-01</td>\n",
       "      <td>15</td>\n",
       "      <td>516,000.000</td>\n",
       "      <td>22,000.000</td>\n",
       "      <td>NaN</td>\n",
       "      <td>2,000.000</td>\n",
       "      <td>23,000.000</td>\n",
       "    </tr>\n",
       "    <tr>\n",
       "      <th>3</th>\n",
       "      <td>2018-08-01</td>\n",
       "      <td>2</td>\n",
       "      <td>18,164,000.000</td>\n",
       "      <td>701,000.000</td>\n",
       "      <td>318,000.000</td>\n",
       "      <td>194,000.000</td>\n",
       "      <td>723,000.000</td>\n",
       "    </tr>\n",
       "    <tr>\n",
       "      <th>4</th>\n",
       "      <td>2018-08-01</td>\n",
       "      <td>5</td>\n",
       "      <td>7,220,000.000</td>\n",
       "      <td>309,000.000</td>\n",
       "      <td>176,000.000</td>\n",
       "      <td>85,000.000</td>\n",
       "      <td>322,000.000</td>\n",
       "    </tr>\n",
       "    <tr>\n",
       "      <th>...</th>\n",
       "      <td>...</td>\n",
       "      <td>...</td>\n",
       "      <td>...</td>\n",
       "      <td>...</td>\n",
       "      <td>...</td>\n",
       "      <td>...</td>\n",
       "      <td>...</td>\n",
       "    </tr>\n",
       "    <tr>\n",
       "      <th>337</th>\n",
       "      <td>2023-04-01</td>\n",
       "      <td>2</td>\n",
       "      <td>14,544,000.000</td>\n",
       "      <td>649,000.000</td>\n",
       "      <td>299,000.000</td>\n",
       "      <td>189,000.000</td>\n",
       "      <td>671,000.000</td>\n",
       "    </tr>\n",
       "    <tr>\n",
       "      <th>338</th>\n",
       "      <td>2023-04-01</td>\n",
       "      <td>4</td>\n",
       "      <td>15,070,570.000</td>\n",
       "      <td>661,450.000</td>\n",
       "      <td>338,300.000</td>\n",
       "      <td>201,580.000</td>\n",
       "      <td>701,710.000</td>\n",
       "    </tr>\n",
       "    <tr>\n",
       "      <th>339</th>\n",
       "      <td>2023-04-01</td>\n",
       "      <td>5</td>\n",
       "      <td>11,792,220.000</td>\n",
       "      <td>510,810.000</td>\n",
       "      <td>282,420.000</td>\n",
       "      <td>160,710.000</td>\n",
       "      <td>527,250.000</td>\n",
       "    </tr>\n",
       "    <tr>\n",
       "      <th>340</th>\n",
       "      <td>2023-04-01</td>\n",
       "      <td>1</td>\n",
       "      <td>25,545,000.000</td>\n",
       "      <td>1,091,000.000</td>\n",
       "      <td>639,000.000</td>\n",
       "      <td>375,000.000</td>\n",
       "      <td>1,130,000.000</td>\n",
       "    </tr>\n",
       "    <tr>\n",
       "      <th>341</th>\n",
       "      <td>2023-04-01</td>\n",
       "      <td>15</td>\n",
       "      <td>2,827,000.000</td>\n",
       "      <td>124,000.000</td>\n",
       "      <td>63,000.000</td>\n",
       "      <td>37,000.000</td>\n",
       "      <td>127,000.000</td>\n",
       "    </tr>\n",
       "  </tbody>\n",
       "</table>\n",
       "<p>342 rows × 7 columns</p>\n",
       "</div>"
      ],
      "text/plain": [
       "    year_month  line          total  MDU (Business Days Mean)  \\\n",
       "0   2018-08-01     3 38,679,000.000             1,440,000.000   \n",
       "1   2018-08-01     1 37,775,000.000             1,420,000.000   \n",
       "2   2018-08-01    15    516,000.000                22,000.000   \n",
       "3   2018-08-01     2 18,164,000.000               701,000.000   \n",
       "4   2018-08-01     5  7,220,000.000               309,000.000   \n",
       "..         ...   ...            ...                       ...   \n",
       "337 2023-04-01     2 14,544,000.000               649,000.000   \n",
       "338 2023-04-01     4 15,070,570.000               661,450.000   \n",
       "339 2023-04-01     5 11,792,220.000               510,810.000   \n",
       "340 2023-04-01     1 25,545,000.000             1,091,000.000   \n",
       "341 2023-04-01    15  2,827,000.000               124,000.000   \n",
       "\n",
       "     MSD (Saturdays Mean)  MDO (Sundays Mean)  MAX (Daily Max)  \n",
       "0             884,000.000         504,000.000    1,483,000.000  \n",
       "1             832,000.000         446,000.000    1,466,000.000  \n",
       "2                     NaN           2,000.000       23,000.000  \n",
       "3             318,000.000         194,000.000      723,000.000  \n",
       "4             176,000.000          85,000.000      322,000.000  \n",
       "..                    ...                 ...              ...  \n",
       "337           299,000.000         189,000.000      671,000.000  \n",
       "338           338,300.000         201,580.000      701,710.000  \n",
       "339           282,420.000         160,710.000      527,250.000  \n",
       "340           639,000.000         375,000.000    1,130,000.000  \n",
       "341            63,000.000          37,000.000      127,000.000  \n",
       "\n",
       "[342 rows x 7 columns]"
      ]
     },
     "metadata": {},
     "output_type": "display_data"
    }
   ],
   "source": [
    "# define file to load data\n",
    "FILE = os.path.join(RAW_DATA_PATH, \"publiclines_ptl_complete.csv\")\n",
    "\n",
    "# read data from csv\n",
    "df_extraction = pd.read_csv(\n",
    "    filepath_or_buffer=FILE,\n",
    "    parse_dates=[\"year_month\"],\n",
    "    infer_datetime_format=True\n",
    "    #date_format=\"%Y-%m-%d\"\n",
    "    )\n",
    "\n",
    "# inspect loaded dataset\n",
    "display(\n",
    "    df_extraction.dtypes,\n",
    "    df_extraction\n",
    "    )"
   ]
  },
  {
   "attachments": {},
   "cell_type": "markdown",
   "id": "fab65071",
   "metadata": {
    "heading_collapsed": true
   },
   "source": [
    "# **2 - DATA DESCRIPTION**"
   ]
  },
  {
   "attachments": {},
   "cell_type": "markdown",
   "id": "4baca2ad",
   "metadata": {
    "ExecuteTime": {
     "end_time": "2021-11-08T11:33:34.436022Z",
     "start_time": "2021-11-08T11:33:34.433283Z"
    },
    "heading_collapsed": true,
    "hidden": true
   },
   "source": [
    "## 2.1 - Restore Point"
   ]
  },
  {
   "attachments": {},
   "cell_type": "markdown",
   "id": "d8fff667",
   "metadata": {},
   "source": [
    "*Create a checkpoint of the last dataframe from previous section*"
   ]
  },
  {
   "cell_type": "code",
   "execution_count": 7,
   "id": "5798a081",
   "metadata": {
    "ExecuteTime": {
     "end_time": "2021-11-22T11:35:09.995864Z",
     "start_time": "2021-11-22T11:35:09.300194Z"
    },
    "hidden": true
   },
   "outputs": [],
   "source": [
    "# create a restore point of the previous section\n",
    "df_description = df_extraction.copy()"
   ]
  },
  {
   "attachments": {},
   "cell_type": "markdown",
   "id": "3f1557c5",
   "metadata": {
    "ExecuteTime": {
     "end_time": "2021-11-08T11:35:57.560444Z",
     "start_time": "2021-11-08T11:35:57.552443Z"
    },
    "heading_collapsed": true,
    "hidden": true
   },
   "source": [
    "## 2.2 - Rename Columns"
   ]
  },
  {
   "attachments": {},
   "cell_type": "markdown",
   "id": "300574e9",
   "metadata": {},
   "source": [
    "*Search for misleading or error-prone column names*"
   ]
  },
  {
   "cell_type": "code",
   "execution_count": 8,
   "id": "84b35f8a",
   "metadata": {
    "ExecuteTime": {
     "end_time": "2021-11-22T11:35:10.018834Z",
     "start_time": "2021-11-22T11:35:10.014437Z"
    },
    "hidden": true,
    "scrolled": true
   },
   "outputs": [
    {
     "data": {
      "text/plain": [
       "Index(['year_month', 'line', 'total', 'MDU (Business Days Mean)',\n",
       "       'MSD (Saturdays Mean)', 'MDO (Sundays Mean)', 'MAX (Daily Max)'],\n",
       "      dtype='object')"
      ]
     },
     "execution_count": 8,
     "metadata": {},
     "output_type": "execute_result"
    }
   ],
   "source": [
    "# check column names\n",
    "df_description.columns"
   ]
  },
  {
   "cell_type": "code",
   "execution_count": 9,
   "id": "cdd6a5bf",
   "metadata": {},
   "outputs": [
    {
     "data": {
      "text/plain": [
       "Index(['year_month', 'line', 'total', 'mdu_business_days_mean',\n",
       "       'msd_saturdays_mean', 'mdo_sundays_Mean', 'max_daily_max'],\n",
       "      dtype='object')"
      ]
     },
     "execution_count": 9,
     "metadata": {},
     "output_type": "execute_result"
    }
   ],
   "source": [
    "# rename columns to avoid spaces\n",
    "df_description = df_description.rename(columns={\n",
    "    \"MDU (Business Days Mean)\":\"mdu_business_days_mean\",\n",
    "    \"MSD (Saturdays Mean)\": \"msd_saturdays_mean\",\n",
    "    \"MDO (Sundays Mean)\": \"mdo_sundays_Mean\",\n",
    "    \"MAX (Daily Max)\": \"max_daily_max\"\n",
    "})\n",
    "\n",
    "# check column names\n",
    "df_description.columns"
   ]
  },
  {
   "attachments": {},
   "cell_type": "markdown",
   "id": "2cbdc1b6",
   "metadata": {
    "heading_collapsed": true,
    "hidden": true
   },
   "source": [
    "## 2.3 - Check Data Dimensions"
   ]
  },
  {
   "attachments": {},
   "cell_type": "markdown",
   "id": "ee1a1d9f",
   "metadata": {},
   "source": [
    "*Check dataframe dimensions to know if pandas will be enough to handle such data size or we will need Big Data tools like Spark*"
   ]
  },
  {
   "cell_type": "code",
   "execution_count": 10,
   "id": "f88b4e12",
   "metadata": {
    "ExecuteTime": {
     "end_time": "2021-11-22T11:35:10.025219Z",
     "start_time": "2021-11-22T11:35:10.020770Z"
    },
    "hidden": true
   },
   "outputs": [
    {
     "name": "stdout",
     "output_type": "stream",
     "text": [
      "Dataframe has 342 rows and 7 columns\n"
     ]
    }
   ],
   "source": [
    "# check number of rows and columns\n",
    "print( f'\\\n",
    "Dataframe has {df_description.shape[0]:,} \\\n",
    "rows and {df_description.shape[1]} columns' )"
   ]
  },
  {
   "attachments": {},
   "cell_type": "markdown",
   "id": "5a2f8863",
   "metadata": {},
   "source": [
    "## 2.4 - Data Types"
   ]
  },
  {
   "attachments": {},
   "cell_type": "markdown",
   "id": "2018dc53",
   "metadata": {},
   "source": [
    "*Check if data types on dataframe makes sense according to database information*"
   ]
  },
  {
   "cell_type": "code",
   "execution_count": 11,
   "id": "bf87e28c",
   "metadata": {},
   "outputs": [
    {
     "data": {
      "text/plain": [
       "year_month                datetime64[ns]\n",
       "line                               int64\n",
       "total                            float64\n",
       "mdu_business_days_mean           float64\n",
       "msd_saturdays_mean               float64\n",
       "mdo_sundays_Mean                 float64\n",
       "max_daily_max                    float64\n",
       "Length: 7, dtype: object"
      ]
     },
     "metadata": {},
     "output_type": "display_data"
    },
    {
     "data": {
      "text/html": [
       "<div>\n",
       "<style scoped>\n",
       "    .dataframe tbody tr th:only-of-type {\n",
       "        vertical-align: middle;\n",
       "    }\n",
       "\n",
       "    .dataframe tbody tr th {\n",
       "        vertical-align: top;\n",
       "    }\n",
       "\n",
       "    .dataframe thead th {\n",
       "        text-align: right;\n",
       "    }\n",
       "</style>\n",
       "<table border=\"1\" class=\"dataframe\">\n",
       "  <thead>\n",
       "    <tr style=\"text-align: right;\">\n",
       "      <th></th>\n",
       "      <th>year_month</th>\n",
       "      <th>line</th>\n",
       "      <th>total</th>\n",
       "      <th>mdu_business_days_mean</th>\n",
       "      <th>msd_saturdays_mean</th>\n",
       "      <th>mdo_sundays_Mean</th>\n",
       "      <th>max_daily_max</th>\n",
       "    </tr>\n",
       "  </thead>\n",
       "  <tbody>\n",
       "    <tr>\n",
       "      <th>0</th>\n",
       "      <td>2018-08-01</td>\n",
       "      <td>3</td>\n",
       "      <td>38,679,000.000</td>\n",
       "      <td>1,440,000.000</td>\n",
       "      <td>884,000.000</td>\n",
       "      <td>504,000.000</td>\n",
       "      <td>1,483,000.000</td>\n",
       "    </tr>\n",
       "    <tr>\n",
       "      <th>1</th>\n",
       "      <td>2018-08-01</td>\n",
       "      <td>1</td>\n",
       "      <td>37,775,000.000</td>\n",
       "      <td>1,420,000.000</td>\n",
       "      <td>832,000.000</td>\n",
       "      <td>446,000.000</td>\n",
       "      <td>1,466,000.000</td>\n",
       "    </tr>\n",
       "    <tr>\n",
       "      <th>2</th>\n",
       "      <td>2018-08-01</td>\n",
       "      <td>15</td>\n",
       "      <td>516,000.000</td>\n",
       "      <td>22,000.000</td>\n",
       "      <td>NaN</td>\n",
       "      <td>2,000.000</td>\n",
       "      <td>23,000.000</td>\n",
       "    </tr>\n",
       "  </tbody>\n",
       "</table>\n",
       "<p>3 rows × 7 columns</p>\n",
       "</div>"
      ],
      "text/plain": [
       "  year_month  line          total  mdu_business_days_mean  msd_saturdays_mean  \\\n",
       "0 2018-08-01     3 38,679,000.000           1,440,000.000         884,000.000   \n",
       "1 2018-08-01     1 37,775,000.000           1,420,000.000         832,000.000   \n",
       "2 2018-08-01    15    516,000.000              22,000.000                 NaN   \n",
       "\n",
       "   mdo_sundays_Mean  max_daily_max  \n",
       "0       504,000.000  1,483,000.000  \n",
       "1       446,000.000  1,466,000.000  \n",
       "2         2,000.000     23,000.000  \n",
       "\n",
       "[3 rows x 7 columns]"
      ]
     },
     "metadata": {},
     "output_type": "display_data"
    }
   ],
   "source": [
    "# inspect dataframe types\n",
    "display(\n",
    "    df_description.dtypes,\n",
    "    df_description.head(3)\n",
    "    )"
   ]
  },
  {
   "attachments": {},
   "cell_type": "markdown",
   "id": "e0d5576b",
   "metadata": {},
   "source": [
    "## 2.6 - Check Duplicated Rows"
   ]
  },
  {
   "attachments": {},
   "cell_type": "markdown",
   "id": "d9a70dc0",
   "metadata": {},
   "source": [
    "*Inspect duplicated rows and handle them properly*"
   ]
  },
  {
   "cell_type": "code",
   "execution_count": 12,
   "id": "4df49971",
   "metadata": {},
   "outputs": [
    {
     "name": "stdout",
     "output_type": "stream",
     "text": [
      "*************************************************\n",
      "\n",
      "There are 0 duplicated rows [0.00%] based on all columns. Duplicated rows are double counted.\n",
      "\n",
      "*************************************************\n",
      "\n",
      "There are 0 duplicated rows [0.00%] based on table granularity. Duplicated rows are double counted.\n",
      "\n",
      "*************************************************\n"
     ]
    }
   ],
   "source": [
    "# define dataframe granularity\n",
    "df_grain = [\"year_month\",\"line\"]\n",
    "\n",
    "# check duplicated rows\n",
    "print(\n",
    "    f'{\"*\"*49}\\n\\n'\n",
    "    f'There are {df_description.duplicated(keep=False).sum():,} \\\n",
    "duplicated rows [{df_description.duplicated(keep=False).mean()*100:.2f}%] based on all columns. \\\n",
    "Duplicated rows are double counted.'\n",
    "    f'\\n\\n{\"*\"*49}\\n\\n'\n",
    "    f'There are {df_description.duplicated(subset=df_grain, keep=False).sum():,} duplicated rows [{df_description.duplicated(subset=df_grain, keep=False).mean()*100:.2f}%] based on table granularity. \\\n",
    "Duplicated rows are double counted.'\n",
    "    f'\\n\\n{\"*\"*49}'\n",
    ")"
   ]
  },
  {
   "attachments": {},
   "cell_type": "markdown",
   "id": "4627b5a2",
   "metadata": {
    "ExecuteTime": {
     "end_time": "2021-11-08T11:40:01.154007Z",
     "start_time": "2021-11-08T11:40:01.126048Z"
    },
    "heading_collapsed": true,
    "hidden": true
   },
   "source": [
    "## 2.7 - Check Missing Values"
   ]
  },
  {
   "attachments": {},
   "cell_type": "markdown",
   "id": "9d8c1102",
   "metadata": {},
   "source": [
    "*Inspect number and percentage of missing value per column to decide what to do with them*"
   ]
  },
  {
   "cell_type": "code",
   "execution_count": 13,
   "id": "792f5e02",
   "metadata": {},
   "outputs": [
    {
     "data": {
      "text/plain": [
       "'Total of NAs'"
      ]
     },
     "metadata": {},
     "output_type": "display_data"
    },
    {
     "data": {
      "text/plain": [
       "year_month                0\n",
       "line                      0\n",
       "total                     3\n",
       "mdu_business_days_mean    3\n",
       "msd_saturdays_mean        5\n",
       "mdo_sundays_Mean          3\n",
       "max_daily_max             3\n",
       "Length: 7, dtype: int64"
      ]
     },
     "metadata": {},
     "output_type": "display_data"
    },
    {
     "data": {
      "text/plain": [
       "'Percent of NAs'"
      ]
     },
     "metadata": {},
     "output_type": "display_data"
    },
    {
     "data": {
      "text/plain": [
       "year_month               0.000\n",
       "line                     0.000\n",
       "total                    0.009\n",
       "mdu_business_days_mean   0.009\n",
       "msd_saturdays_mean       0.015\n",
       "mdo_sundays_Mean         0.009\n",
       "max_daily_max            0.009\n",
       "Length: 7, dtype: float64"
      ]
     },
     "metadata": {},
     "output_type": "display_data"
    }
   ],
   "source": [
    "#  get number of NAs\n",
    "display(\n",
    "    \"Total of NAs\",\n",
    "    df_description.isna().sum(),\n",
    "    \"Percent of NAs\",\n",
    "    df_description.isna().mean()\n",
    ")"
   ]
  },
  {
   "cell_type": "code",
   "execution_count": 14,
   "id": "918b3816",
   "metadata": {},
   "outputs": [
    {
     "data": {
      "text/html": [
       "<div>\n",
       "<style scoped>\n",
       "    .dataframe tbody tr th:only-of-type {\n",
       "        vertical-align: middle;\n",
       "    }\n",
       "\n",
       "    .dataframe tbody tr th {\n",
       "        vertical-align: top;\n",
       "    }\n",
       "\n",
       "    .dataframe thead th {\n",
       "        text-align: right;\n",
       "    }\n",
       "</style>\n",
       "<table border=\"1\" class=\"dataframe\">\n",
       "  <thead>\n",
       "    <tr style=\"text-align: right;\">\n",
       "      <th></th>\n",
       "      <th>year_month</th>\n",
       "      <th>line</th>\n",
       "      <th>total</th>\n",
       "      <th>mdu_business_days_mean</th>\n",
       "      <th>msd_saturdays_mean</th>\n",
       "      <th>mdo_sundays_Mean</th>\n",
       "      <th>max_daily_max</th>\n",
       "    </tr>\n",
       "  </thead>\n",
       "  <tbody>\n",
       "    <tr>\n",
       "      <th>2</th>\n",
       "      <td>2018-08-01</td>\n",
       "      <td>15</td>\n",
       "      <td>516,000.000</td>\n",
       "      <td>22,000.000</td>\n",
       "      <td>NaN</td>\n",
       "      <td>2,000.000</td>\n",
       "      <td>23,000.000</td>\n",
       "    </tr>\n",
       "    <tr>\n",
       "      <th>16</th>\n",
       "      <td>2018-10-01</td>\n",
       "      <td>15</td>\n",
       "      <td>498,000.000</td>\n",
       "      <td>22,000.000</td>\n",
       "      <td>NaN</td>\n",
       "      <td>4,000.000</td>\n",
       "      <td>25,000.000</td>\n",
       "    </tr>\n",
       "    <tr>\n",
       "      <th>114</th>\n",
       "      <td>2020-03-01</td>\n",
       "      <td>15</td>\n",
       "      <td>NaN</td>\n",
       "      <td>NaN</td>\n",
       "      <td>NaN</td>\n",
       "      <td>NaN</td>\n",
       "      <td>NaN</td>\n",
       "    </tr>\n",
       "    <tr>\n",
       "      <th>122</th>\n",
       "      <td>2020-04-01</td>\n",
       "      <td>15</td>\n",
       "      <td>NaN</td>\n",
       "      <td>NaN</td>\n",
       "      <td>NaN</td>\n",
       "      <td>NaN</td>\n",
       "      <td>NaN</td>\n",
       "    </tr>\n",
       "    <tr>\n",
       "      <th>131</th>\n",
       "      <td>2020-05-01</td>\n",
       "      <td>15</td>\n",
       "      <td>NaN</td>\n",
       "      <td>NaN</td>\n",
       "      <td>NaN</td>\n",
       "      <td>NaN</td>\n",
       "      <td>NaN</td>\n",
       "    </tr>\n",
       "  </tbody>\n",
       "</table>\n",
       "<p>5 rows × 7 columns</p>\n",
       "</div>"
      ],
      "text/plain": [
       "    year_month  line       total  mdu_business_days_mean  msd_saturdays_mean  \\\n",
       "2   2018-08-01    15 516,000.000              22,000.000                 NaN   \n",
       "16  2018-10-01    15 498,000.000              22,000.000                 NaN   \n",
       "114 2020-03-01    15         NaN                     NaN                 NaN   \n",
       "122 2020-04-01    15         NaN                     NaN                 NaN   \n",
       "131 2020-05-01    15         NaN                     NaN                 NaN   \n",
       "\n",
       "     mdo_sundays_Mean  max_daily_max  \n",
       "2           2,000.000     23,000.000  \n",
       "16          4,000.000     25,000.000  \n",
       "114               NaN            NaN  \n",
       "122               NaN            NaN  \n",
       "131               NaN            NaN  \n",
       "\n",
       "[5 rows x 7 columns]"
      ]
     },
     "execution_count": 14,
     "metadata": {},
     "output_type": "execute_result"
    }
   ],
   "source": [
    "# inspect rows with NAs\n",
    "df_description[df_description.isna().any(axis=1)]"
   ]
  },
  {
   "attachments": {},
   "cell_type": "markdown",
   "id": "99df2de1",
   "metadata": {
    "heading_collapsed": true,
    "hidden": true
   },
   "source": [
    "## 2.8 - Handle Missing Values"
   ]
  },
  {
   "attachments": {},
   "cell_type": "markdown",
   "id": "efea71d8",
   "metadata": {},
   "source": [
    "*Handle missing value for columns*"
   ]
  },
  {
   "cell_type": "code",
   "execution_count": 15,
   "id": "c2ebe4e0",
   "metadata": {},
   "outputs": [],
   "source": [
    "# No NA will be handled for this first iteration"
   ]
  },
  {
   "attachments": {},
   "cell_type": "markdown",
   "id": "918bd63b",
   "metadata": {
    "heading_collapsed": true,
    "hidden": true
   },
   "source": [
    "## 2.9 - Descriptive Statistics"
   ]
  },
  {
   "attachments": {},
   "cell_type": "markdown",
   "id": "66576dc1",
   "metadata": {},
   "source": [
    "*Inspect some summary statistics for numerical columns*"
   ]
  },
  {
   "cell_type": "code",
   "execution_count": 16,
   "id": "34d490cf",
   "metadata": {},
   "outputs": [],
   "source": [
    "# define profile path\n",
    "profile_file = os.path.join(\"pandas_profilling\", \"ds-gustavo-cunha-profilling_report_ptl.html\")\n",
    "\n",
    "# check if profile file exist\n",
    "if not os.path.exists(profile_file):\n",
    "    # create a profile report\n",
    "    profile = ProfileReport(df_description, title=\"Profiling Report - PTL\")\n",
    "    # save report to html file\n",
    "    profile.to_file(profile_file)"
   ]
  },
  {
   "attachments": {},
   "cell_type": "markdown",
   "id": "fcba07f5",
   "metadata": {},
   "source": [
    "### 2.9.4 - Investigate further:"
   ]
  },
  {
   "attachments": {},
   "cell_type": "markdown",
   "id": "e66e2046",
   "metadata": {},
   "source": [
    "*Variables to inspect the real meaning*"
   ]
  },
  {
   "cell_type": "code",
   "execution_count": 17,
   "id": "995e384c",
   "metadata": {},
   "outputs": [],
   "source": [
    "# ###################\n",
    "# !!!!!!! NAs !!!!!!!\n",
    "# ###################"
   ]
  },
  {
   "attachments": {},
   "cell_type": "markdown",
   "id": "0782f000",
   "metadata": {},
   "source": [
    "# **3 - FEATURE ENGINEERING**"
   ]
  },
  {
   "attachments": {},
   "cell_type": "markdown",
   "id": "15c2eb92",
   "metadata": {},
   "source": [
    "## 3.1 - Restore Point"
   ]
  },
  {
   "attachments": {},
   "cell_type": "markdown",
   "id": "86ffb7ec",
   "metadata": {},
   "source": [
    "*Create a checkpoint of the last dataframe from previous section*"
   ]
  },
  {
   "cell_type": "code",
   "execution_count": 20,
   "id": "d48c0545",
   "metadata": {},
   "outputs": [
    {
     "data": {
      "text/html": [
       "<div>\n",
       "<style scoped>\n",
       "    .dataframe tbody tr th:only-of-type {\n",
       "        vertical-align: middle;\n",
       "    }\n",
       "\n",
       "    .dataframe tbody tr th {\n",
       "        vertical-align: top;\n",
       "    }\n",
       "\n",
       "    .dataframe thead th {\n",
       "        text-align: right;\n",
       "    }\n",
       "</style>\n",
       "<table border=\"1\" class=\"dataframe\">\n",
       "  <thead>\n",
       "    <tr style=\"text-align: right;\">\n",
       "      <th></th>\n",
       "      <th>year_month</th>\n",
       "      <th>line</th>\n",
       "      <th>total</th>\n",
       "      <th>mdu_business_days_mean</th>\n",
       "      <th>msd_saturdays_mean</th>\n",
       "      <th>mdo_sundays_Mean</th>\n",
       "      <th>max_daily_max</th>\n",
       "    </tr>\n",
       "  </thead>\n",
       "  <tbody>\n",
       "    <tr>\n",
       "      <th>0</th>\n",
       "      <td>2018-08-01</td>\n",
       "      <td>3</td>\n",
       "      <td>38,679,000.000</td>\n",
       "      <td>1,440,000.000</td>\n",
       "      <td>884,000.000</td>\n",
       "      <td>504,000.000</td>\n",
       "      <td>1,483,000.000</td>\n",
       "    </tr>\n",
       "    <tr>\n",
       "      <th>1</th>\n",
       "      <td>2018-08-01</td>\n",
       "      <td>1</td>\n",
       "      <td>37,775,000.000</td>\n",
       "      <td>1,420,000.000</td>\n",
       "      <td>832,000.000</td>\n",
       "      <td>446,000.000</td>\n",
       "      <td>1,466,000.000</td>\n",
       "    </tr>\n",
       "    <tr>\n",
       "      <th>2</th>\n",
       "      <td>2018-08-01</td>\n",
       "      <td>15</td>\n",
       "      <td>516,000.000</td>\n",
       "      <td>22,000.000</td>\n",
       "      <td>NaN</td>\n",
       "      <td>2,000.000</td>\n",
       "      <td>23,000.000</td>\n",
       "    </tr>\n",
       "    <tr>\n",
       "      <th>3</th>\n",
       "      <td>2018-08-01</td>\n",
       "      <td>2</td>\n",
       "      <td>18,164,000.000</td>\n",
       "      <td>701,000.000</td>\n",
       "      <td>318,000.000</td>\n",
       "      <td>194,000.000</td>\n",
       "      <td>723,000.000</td>\n",
       "    </tr>\n",
       "    <tr>\n",
       "      <th>4</th>\n",
       "      <td>2018-08-01</td>\n",
       "      <td>5</td>\n",
       "      <td>7,220,000.000</td>\n",
       "      <td>309,000.000</td>\n",
       "      <td>176,000.000</td>\n",
       "      <td>85,000.000</td>\n",
       "      <td>322,000.000</td>\n",
       "    </tr>\n",
       "    <tr>\n",
       "      <th>...</th>\n",
       "      <td>...</td>\n",
       "      <td>...</td>\n",
       "      <td>...</td>\n",
       "      <td>...</td>\n",
       "      <td>...</td>\n",
       "      <td>...</td>\n",
       "      <td>...</td>\n",
       "    </tr>\n",
       "    <tr>\n",
       "      <th>337</th>\n",
       "      <td>2023-04-01</td>\n",
       "      <td>2</td>\n",
       "      <td>14,544,000.000</td>\n",
       "      <td>649,000.000</td>\n",
       "      <td>299,000.000</td>\n",
       "      <td>189,000.000</td>\n",
       "      <td>671,000.000</td>\n",
       "    </tr>\n",
       "    <tr>\n",
       "      <th>338</th>\n",
       "      <td>2023-04-01</td>\n",
       "      <td>4</td>\n",
       "      <td>15,070,570.000</td>\n",
       "      <td>661,450.000</td>\n",
       "      <td>338,300.000</td>\n",
       "      <td>201,580.000</td>\n",
       "      <td>701,710.000</td>\n",
       "    </tr>\n",
       "    <tr>\n",
       "      <th>339</th>\n",
       "      <td>2023-04-01</td>\n",
       "      <td>5</td>\n",
       "      <td>11,792,220.000</td>\n",
       "      <td>510,810.000</td>\n",
       "      <td>282,420.000</td>\n",
       "      <td>160,710.000</td>\n",
       "      <td>527,250.000</td>\n",
       "    </tr>\n",
       "    <tr>\n",
       "      <th>340</th>\n",
       "      <td>2023-04-01</td>\n",
       "      <td>1</td>\n",
       "      <td>25,545,000.000</td>\n",
       "      <td>1,091,000.000</td>\n",
       "      <td>639,000.000</td>\n",
       "      <td>375,000.000</td>\n",
       "      <td>1,130,000.000</td>\n",
       "    </tr>\n",
       "    <tr>\n",
       "      <th>341</th>\n",
       "      <td>2023-04-01</td>\n",
       "      <td>15</td>\n",
       "      <td>2,827,000.000</td>\n",
       "      <td>124,000.000</td>\n",
       "      <td>63,000.000</td>\n",
       "      <td>37,000.000</td>\n",
       "      <td>127,000.000</td>\n",
       "    </tr>\n",
       "  </tbody>\n",
       "</table>\n",
       "<p>342 rows × 7 columns</p>\n",
       "</div>"
      ],
      "text/plain": [
       "    year_month  line          total  mdu_business_days_mean  \\\n",
       "0   2018-08-01     3 38,679,000.000           1,440,000.000   \n",
       "1   2018-08-01     1 37,775,000.000           1,420,000.000   \n",
       "2   2018-08-01    15    516,000.000              22,000.000   \n",
       "3   2018-08-01     2 18,164,000.000             701,000.000   \n",
       "4   2018-08-01     5  7,220,000.000             309,000.000   \n",
       "..         ...   ...            ...                     ...   \n",
       "337 2023-04-01     2 14,544,000.000             649,000.000   \n",
       "338 2023-04-01     4 15,070,570.000             661,450.000   \n",
       "339 2023-04-01     5 11,792,220.000             510,810.000   \n",
       "340 2023-04-01     1 25,545,000.000           1,091,000.000   \n",
       "341 2023-04-01    15  2,827,000.000             124,000.000   \n",
       "\n",
       "     msd_saturdays_mean  mdo_sundays_Mean  max_daily_max  \n",
       "0           884,000.000       504,000.000  1,483,000.000  \n",
       "1           832,000.000       446,000.000  1,466,000.000  \n",
       "2                   NaN         2,000.000     23,000.000  \n",
       "3           318,000.000       194,000.000    723,000.000  \n",
       "4           176,000.000        85,000.000    322,000.000  \n",
       "..                  ...               ...            ...  \n",
       "337         299,000.000       189,000.000    671,000.000  \n",
       "338         338,300.000       201,580.000    701,710.000  \n",
       "339         282,420.000       160,710.000    527,250.000  \n",
       "340         639,000.000       375,000.000  1,130,000.000  \n",
       "341          63,000.000        37,000.000    127,000.000  \n",
       "\n",
       "[342 rows x 7 columns]"
      ]
     },
     "execution_count": 20,
     "metadata": {},
     "output_type": "execute_result"
    }
   ],
   "source": [
    "# create a restore point for the previous section dataframe\n",
    "df_f_eng = df_description.copy()\n",
    "\n",
    "# display\n",
    "df_f_eng"
   ]
  },
  {
   "attachments": {},
   "cell_type": "markdown",
   "id": "5fc8ce4a",
   "metadata": {},
   "source": [
    "## 3.2 - Hypothesis Testing List"
   ]
  },
  {
   "attachments": {},
   "cell_type": "markdown",
   "id": "1aeb871f",
   "metadata": {},
   "source": [
    "*Define the list of hypotheses that will be validated during Exploratory Data Analysis (EDA)*"
   ]
  },
  {
   "attachments": {},
   "cell_type": "markdown",
   "id": "517c742d",
   "metadata": {},
   "source": [
    "H1. **...**\n",
    "\n",
    "H2. **...**\n",
    "\n",
    "H3. **...**\n",
    "\n",
    "H4. **...**\n",
    "\n",
    "H5. **...**"
   ]
  },
  {
   "attachments": {},
   "cell_type": "markdown",
   "id": "75ba067e",
   "metadata": {},
   "source": [
    "## 3.3 - Feature Creation"
   ]
  },
  {
   "attachments": {},
   "cell_type": "markdown",
   "id": "d4301622",
   "metadata": {},
   "source": [
    "*Create new features (columns) that can be meaningful for EDA and, especially, machine learning modelling.*"
   ]
  },
  {
   "cell_type": "code",
   "execution_count": null,
   "id": "4406cabd",
   "metadata": {},
   "outputs": [],
   "source": [
    "# No variable will be created for this first iteration"
   ]
  },
  {
   "attachments": {},
   "cell_type": "markdown",
   "id": "755eba7c",
   "metadata": {
    "ExecuteTime": {
     "end_time": "2021-11-08T17:29:18.464606Z",
     "start_time": "2021-11-08T17:29:18.458947Z"
    },
    "heading_collapsed": true
   },
   "source": [
    "# **4 - DATA FILTERING**"
   ]
  },
  {
   "attachments": {},
   "cell_type": "markdown",
   "id": "026ae2aa",
   "metadata": {
    "hidden": true
   },
   "source": [
    "## 4.1 - Restore Point"
   ]
  },
  {
   "attachments": {},
   "cell_type": "markdown",
   "id": "cb4c9722",
   "metadata": {},
   "source": [
    "*Create a checkpoint of the last dataframe from previous section*"
   ]
  },
  {
   "cell_type": "code",
   "execution_count": 21,
   "id": "569c1ae8",
   "metadata": {
    "ExecuteTime": {
     "end_time": "2021-11-22T11:35:16.188448Z",
     "start_time": "2021-11-22T11:35:15.658676Z"
    },
    "hidden": true
   },
   "outputs": [
    {
     "data": {
      "text/html": [
       "<div>\n",
       "<style scoped>\n",
       "    .dataframe tbody tr th:only-of-type {\n",
       "        vertical-align: middle;\n",
       "    }\n",
       "\n",
       "    .dataframe tbody tr th {\n",
       "        vertical-align: top;\n",
       "    }\n",
       "\n",
       "    .dataframe thead th {\n",
       "        text-align: right;\n",
       "    }\n",
       "</style>\n",
       "<table border=\"1\" class=\"dataframe\">\n",
       "  <thead>\n",
       "    <tr style=\"text-align: right;\">\n",
       "      <th></th>\n",
       "      <th>year_month</th>\n",
       "      <th>line</th>\n",
       "      <th>total</th>\n",
       "      <th>mdu_business_days_mean</th>\n",
       "      <th>msd_saturdays_mean</th>\n",
       "      <th>mdo_sundays_Mean</th>\n",
       "      <th>max_daily_max</th>\n",
       "    </tr>\n",
       "  </thead>\n",
       "  <tbody>\n",
       "    <tr>\n",
       "      <th>0</th>\n",
       "      <td>2018-08-01</td>\n",
       "      <td>3</td>\n",
       "      <td>38,679,000.000</td>\n",
       "      <td>1,440,000.000</td>\n",
       "      <td>884,000.000</td>\n",
       "      <td>504,000.000</td>\n",
       "      <td>1,483,000.000</td>\n",
       "    </tr>\n",
       "    <tr>\n",
       "      <th>1</th>\n",
       "      <td>2018-08-01</td>\n",
       "      <td>1</td>\n",
       "      <td>37,775,000.000</td>\n",
       "      <td>1,420,000.000</td>\n",
       "      <td>832,000.000</td>\n",
       "      <td>446,000.000</td>\n",
       "      <td>1,466,000.000</td>\n",
       "    </tr>\n",
       "    <tr>\n",
       "      <th>2</th>\n",
       "      <td>2018-08-01</td>\n",
       "      <td>15</td>\n",
       "      <td>516,000.000</td>\n",
       "      <td>22,000.000</td>\n",
       "      <td>NaN</td>\n",
       "      <td>2,000.000</td>\n",
       "      <td>23,000.000</td>\n",
       "    </tr>\n",
       "    <tr>\n",
       "      <th>3</th>\n",
       "      <td>2018-08-01</td>\n",
       "      <td>2</td>\n",
       "      <td>18,164,000.000</td>\n",
       "      <td>701,000.000</td>\n",
       "      <td>318,000.000</td>\n",
       "      <td>194,000.000</td>\n",
       "      <td>723,000.000</td>\n",
       "    </tr>\n",
       "    <tr>\n",
       "      <th>4</th>\n",
       "      <td>2018-08-01</td>\n",
       "      <td>5</td>\n",
       "      <td>7,220,000.000</td>\n",
       "      <td>309,000.000</td>\n",
       "      <td>176,000.000</td>\n",
       "      <td>85,000.000</td>\n",
       "      <td>322,000.000</td>\n",
       "    </tr>\n",
       "    <tr>\n",
       "      <th>...</th>\n",
       "      <td>...</td>\n",
       "      <td>...</td>\n",
       "      <td>...</td>\n",
       "      <td>...</td>\n",
       "      <td>...</td>\n",
       "      <td>...</td>\n",
       "      <td>...</td>\n",
       "    </tr>\n",
       "    <tr>\n",
       "      <th>337</th>\n",
       "      <td>2023-04-01</td>\n",
       "      <td>2</td>\n",
       "      <td>14,544,000.000</td>\n",
       "      <td>649,000.000</td>\n",
       "      <td>299,000.000</td>\n",
       "      <td>189,000.000</td>\n",
       "      <td>671,000.000</td>\n",
       "    </tr>\n",
       "    <tr>\n",
       "      <th>338</th>\n",
       "      <td>2023-04-01</td>\n",
       "      <td>4</td>\n",
       "      <td>15,070,570.000</td>\n",
       "      <td>661,450.000</td>\n",
       "      <td>338,300.000</td>\n",
       "      <td>201,580.000</td>\n",
       "      <td>701,710.000</td>\n",
       "    </tr>\n",
       "    <tr>\n",
       "      <th>339</th>\n",
       "      <td>2023-04-01</td>\n",
       "      <td>5</td>\n",
       "      <td>11,792,220.000</td>\n",
       "      <td>510,810.000</td>\n",
       "      <td>282,420.000</td>\n",
       "      <td>160,710.000</td>\n",
       "      <td>527,250.000</td>\n",
       "    </tr>\n",
       "    <tr>\n",
       "      <th>340</th>\n",
       "      <td>2023-04-01</td>\n",
       "      <td>1</td>\n",
       "      <td>25,545,000.000</td>\n",
       "      <td>1,091,000.000</td>\n",
       "      <td>639,000.000</td>\n",
       "      <td>375,000.000</td>\n",
       "      <td>1,130,000.000</td>\n",
       "    </tr>\n",
       "    <tr>\n",
       "      <th>341</th>\n",
       "      <td>2023-04-01</td>\n",
       "      <td>15</td>\n",
       "      <td>2,827,000.000</td>\n",
       "      <td>124,000.000</td>\n",
       "      <td>63,000.000</td>\n",
       "      <td>37,000.000</td>\n",
       "      <td>127,000.000</td>\n",
       "    </tr>\n",
       "  </tbody>\n",
       "</table>\n",
       "<p>342 rows × 7 columns</p>\n",
       "</div>"
      ],
      "text/plain": [
       "    year_month  line          total  mdu_business_days_mean  \\\n",
       "0   2018-08-01     3 38,679,000.000           1,440,000.000   \n",
       "1   2018-08-01     1 37,775,000.000           1,420,000.000   \n",
       "2   2018-08-01    15    516,000.000              22,000.000   \n",
       "3   2018-08-01     2 18,164,000.000             701,000.000   \n",
       "4   2018-08-01     5  7,220,000.000             309,000.000   \n",
       "..         ...   ...            ...                     ...   \n",
       "337 2023-04-01     2 14,544,000.000             649,000.000   \n",
       "338 2023-04-01     4 15,070,570.000             661,450.000   \n",
       "339 2023-04-01     5 11,792,220.000             510,810.000   \n",
       "340 2023-04-01     1 25,545,000.000           1,091,000.000   \n",
       "341 2023-04-01    15  2,827,000.000             124,000.000   \n",
       "\n",
       "     msd_saturdays_mean  mdo_sundays_Mean  max_daily_max  \n",
       "0           884,000.000       504,000.000  1,483,000.000  \n",
       "1           832,000.000       446,000.000  1,466,000.000  \n",
       "2                   NaN         2,000.000     23,000.000  \n",
       "3           318,000.000       194,000.000    723,000.000  \n",
       "4           176,000.000        85,000.000    322,000.000  \n",
       "..                  ...               ...            ...  \n",
       "337         299,000.000       189,000.000    671,000.000  \n",
       "338         338,300.000       201,580.000    701,710.000  \n",
       "339         282,420.000       160,710.000    527,250.000  \n",
       "340         639,000.000       375,000.000  1,130,000.000  \n",
       "341          63,000.000        37,000.000    127,000.000  \n",
       "\n",
       "[342 rows x 7 columns]"
      ]
     },
     "execution_count": 21,
     "metadata": {},
     "output_type": "execute_result"
    }
   ],
   "source": [
    "# create a restore point for the previous section dataframe\n",
    "df_filter = df_f_eng.copy()\n",
    "\n",
    "# check dataframe\n",
    "df_filter"
   ]
  },
  {
   "attachments": {},
   "cell_type": "markdown",
   "id": "196cddb7",
   "metadata": {
    "ExecuteTime": {
     "end_time": "2021-11-08T18:08:30.512496Z",
     "start_time": "2021-11-08T18:08:30.507268Z"
    },
    "heading_collapsed": true,
    "hidden": true
   },
   "source": [
    "## 4.2 Rows Filtering"
   ]
  },
  {
   "attachments": {},
   "cell_type": "markdown",
   "id": "8253646d",
   "metadata": {},
   "source": [
    "*Remove rows with meaningless (or unimportant) data*"
   ]
  },
  {
   "cell_type": "code",
   "execution_count": 22,
   "id": "457347a6",
   "metadata": {
    "ExecuteTime": {
     "end_time": "2021-11-22T11:35:16.193901Z",
     "start_time": "2021-11-22T11:35:16.190106Z"
    },
    "hidden": true,
    "scrolled": true
   },
   "outputs": [],
   "source": [
    "# No row will be removed for this first iteration"
   ]
  },
  {
   "attachments": {},
   "cell_type": "markdown",
   "id": "1ca35d9b",
   "metadata": {},
   "source": [
    "## 4.3 - Columns Filtering"
   ]
  },
  {
   "attachments": {},
   "cell_type": "markdown",
   "id": "9acd7efd",
   "metadata": {},
   "source": [
    "*Remove auxiliary columns or columns that won't be available in the prediction moment*"
   ]
  },
  {
   "cell_type": "code",
   "execution_count": 23,
   "id": "bfd86022",
   "metadata": {},
   "outputs": [],
   "source": [
    "# No row will be removed for this first iteration"
   ]
  },
  {
   "attachments": {},
   "cell_type": "markdown",
   "id": "36158fe8",
   "metadata": {
    "heading_collapsed": true
   },
   "source": [
    "# **5 - EXPLORATORY DATA ANALYSIS**"
   ]
  },
  {
   "attachments": {},
   "cell_type": "markdown",
   "id": "e109374b",
   "metadata": {
    "heading_collapsed": true,
    "hidden": true
   },
   "source": [
    "## 5.1 - Restore Point"
   ]
  },
  {
   "attachments": {},
   "cell_type": "markdown",
   "id": "2b6245ee",
   "metadata": {},
   "source": [
    "*Create a checkpoint of the last dataframe from previous section*"
   ]
  },
  {
   "cell_type": "code",
   "execution_count": 24,
   "id": "9ec1c6c5",
   "metadata": {
    "ExecuteTime": {
     "end_time": "2021-11-22T11:35:18.508075Z",
     "start_time": "2021-11-22T11:35:17.992047Z"
    },
    "hidden": true,
    "scrolled": true
   },
   "outputs": [
    {
     "data": {
      "text/html": [
       "<div>\n",
       "<style scoped>\n",
       "    .dataframe tbody tr th:only-of-type {\n",
       "        vertical-align: middle;\n",
       "    }\n",
       "\n",
       "    .dataframe tbody tr th {\n",
       "        vertical-align: top;\n",
       "    }\n",
       "\n",
       "    .dataframe thead th {\n",
       "        text-align: right;\n",
       "    }\n",
       "</style>\n",
       "<table border=\"1\" class=\"dataframe\">\n",
       "  <thead>\n",
       "    <tr style=\"text-align: right;\">\n",
       "      <th></th>\n",
       "      <th>year_month</th>\n",
       "      <th>line</th>\n",
       "      <th>total</th>\n",
       "      <th>mdu_business_days_mean</th>\n",
       "      <th>msd_saturdays_mean</th>\n",
       "      <th>mdo_sundays_Mean</th>\n",
       "      <th>max_daily_max</th>\n",
       "    </tr>\n",
       "  </thead>\n",
       "  <tbody>\n",
       "    <tr>\n",
       "      <th>0</th>\n",
       "      <td>2018-08-01</td>\n",
       "      <td>3</td>\n",
       "      <td>38,679,000.000</td>\n",
       "      <td>1,440,000.000</td>\n",
       "      <td>884,000.000</td>\n",
       "      <td>504,000.000</td>\n",
       "      <td>1,483,000.000</td>\n",
       "    </tr>\n",
       "    <tr>\n",
       "      <th>1</th>\n",
       "      <td>2018-08-01</td>\n",
       "      <td>1</td>\n",
       "      <td>37,775,000.000</td>\n",
       "      <td>1,420,000.000</td>\n",
       "      <td>832,000.000</td>\n",
       "      <td>446,000.000</td>\n",
       "      <td>1,466,000.000</td>\n",
       "    </tr>\n",
       "    <tr>\n",
       "      <th>2</th>\n",
       "      <td>2018-08-01</td>\n",
       "      <td>15</td>\n",
       "      <td>516,000.000</td>\n",
       "      <td>22,000.000</td>\n",
       "      <td>NaN</td>\n",
       "      <td>2,000.000</td>\n",
       "      <td>23,000.000</td>\n",
       "    </tr>\n",
       "    <tr>\n",
       "      <th>3</th>\n",
       "      <td>2018-08-01</td>\n",
       "      <td>2</td>\n",
       "      <td>18,164,000.000</td>\n",
       "      <td>701,000.000</td>\n",
       "      <td>318,000.000</td>\n",
       "      <td>194,000.000</td>\n",
       "      <td>723,000.000</td>\n",
       "    </tr>\n",
       "    <tr>\n",
       "      <th>4</th>\n",
       "      <td>2018-08-01</td>\n",
       "      <td>5</td>\n",
       "      <td>7,220,000.000</td>\n",
       "      <td>309,000.000</td>\n",
       "      <td>176,000.000</td>\n",
       "      <td>85,000.000</td>\n",
       "      <td>322,000.000</td>\n",
       "    </tr>\n",
       "    <tr>\n",
       "      <th>...</th>\n",
       "      <td>...</td>\n",
       "      <td>...</td>\n",
       "      <td>...</td>\n",
       "      <td>...</td>\n",
       "      <td>...</td>\n",
       "      <td>...</td>\n",
       "      <td>...</td>\n",
       "    </tr>\n",
       "    <tr>\n",
       "      <th>337</th>\n",
       "      <td>2023-04-01</td>\n",
       "      <td>2</td>\n",
       "      <td>14,544,000.000</td>\n",
       "      <td>649,000.000</td>\n",
       "      <td>299,000.000</td>\n",
       "      <td>189,000.000</td>\n",
       "      <td>671,000.000</td>\n",
       "    </tr>\n",
       "    <tr>\n",
       "      <th>338</th>\n",
       "      <td>2023-04-01</td>\n",
       "      <td>4</td>\n",
       "      <td>15,070,570.000</td>\n",
       "      <td>661,450.000</td>\n",
       "      <td>338,300.000</td>\n",
       "      <td>201,580.000</td>\n",
       "      <td>701,710.000</td>\n",
       "    </tr>\n",
       "    <tr>\n",
       "      <th>339</th>\n",
       "      <td>2023-04-01</td>\n",
       "      <td>5</td>\n",
       "      <td>11,792,220.000</td>\n",
       "      <td>510,810.000</td>\n",
       "      <td>282,420.000</td>\n",
       "      <td>160,710.000</td>\n",
       "      <td>527,250.000</td>\n",
       "    </tr>\n",
       "    <tr>\n",
       "      <th>340</th>\n",
       "      <td>2023-04-01</td>\n",
       "      <td>1</td>\n",
       "      <td>25,545,000.000</td>\n",
       "      <td>1,091,000.000</td>\n",
       "      <td>639,000.000</td>\n",
       "      <td>375,000.000</td>\n",
       "      <td>1,130,000.000</td>\n",
       "    </tr>\n",
       "    <tr>\n",
       "      <th>341</th>\n",
       "      <td>2023-04-01</td>\n",
       "      <td>15</td>\n",
       "      <td>2,827,000.000</td>\n",
       "      <td>124,000.000</td>\n",
       "      <td>63,000.000</td>\n",
       "      <td>37,000.000</td>\n",
       "      <td>127,000.000</td>\n",
       "    </tr>\n",
       "  </tbody>\n",
       "</table>\n",
       "<p>342 rows × 7 columns</p>\n",
       "</div>"
      ],
      "text/plain": [
       "    year_month  line          total  mdu_business_days_mean  \\\n",
       "0   2018-08-01     3 38,679,000.000           1,440,000.000   \n",
       "1   2018-08-01     1 37,775,000.000           1,420,000.000   \n",
       "2   2018-08-01    15    516,000.000              22,000.000   \n",
       "3   2018-08-01     2 18,164,000.000             701,000.000   \n",
       "4   2018-08-01     5  7,220,000.000             309,000.000   \n",
       "..         ...   ...            ...                     ...   \n",
       "337 2023-04-01     2 14,544,000.000             649,000.000   \n",
       "338 2023-04-01     4 15,070,570.000             661,450.000   \n",
       "339 2023-04-01     5 11,792,220.000             510,810.000   \n",
       "340 2023-04-01     1 25,545,000.000           1,091,000.000   \n",
       "341 2023-04-01    15  2,827,000.000             124,000.000   \n",
       "\n",
       "     msd_saturdays_mean  mdo_sundays_Mean  max_daily_max  \n",
       "0           884,000.000       504,000.000  1,483,000.000  \n",
       "1           832,000.000       446,000.000  1,466,000.000  \n",
       "2                   NaN         2,000.000     23,000.000  \n",
       "3           318,000.000       194,000.000    723,000.000  \n",
       "4           176,000.000        85,000.000    322,000.000  \n",
       "..                  ...               ...            ...  \n",
       "337         299,000.000       189,000.000    671,000.000  \n",
       "338         338,300.000       201,580.000    701,710.000  \n",
       "339         282,420.000       160,710.000    527,250.000  \n",
       "340         639,000.000       375,000.000  1,130,000.000  \n",
       "341          63,000.000        37,000.000    127,000.000  \n",
       "\n",
       "[342 rows x 7 columns]"
      ]
     },
     "execution_count": 24,
     "metadata": {},
     "output_type": "execute_result"
    }
   ],
   "source": [
    "# create a restore point for the previous section dataframe\n",
    "df_eda = df_filter.copy()\n",
    "\n",
    "# check dataframe\n",
    "df_eda"
   ]
  },
  {
   "attachments": {},
   "cell_type": "markdown",
   "id": "7ce04da7",
   "metadata": {},
   "source": [
    "## 5.2 - Univariate Analysis"
   ]
  },
  {
   "attachments": {},
   "cell_type": "markdown",
   "id": "251f387b",
   "metadata": {},
   "source": [
    "*Explore variables distributions*"
   ]
  },
  {
   "cell_type": "code",
   "execution_count": null,
   "id": "3aca4f52",
   "metadata": {},
   "outputs": [],
   "source": [
    "# split dataset into types of features\n",
    "df_eda_num = df_eda.select_dtypes(include=[\"number\", \"bool\"])\n",
    "df_eda_date = df_eda.select_dtypes(include=[\"datetime\"])\n",
    "df_eda_str = df_eda.select_dtypes(include=[\"object\"])\n",
    "\n",
    "# sanity check\n",
    "assert df_eda_num.shape[1] + df_eda_date.shape[1] + df_eda_str.shape[1] == df_eda.shape[1], \"\"\"Revise the previous split, something may be wrong!\"\"\""
   ]
  },
  {
   "attachments": {},
   "cell_type": "markdown",
   "id": "2453e220",
   "metadata": {},
   "source": [
    "### 5.2.1 - Numerical Columns"
   ]
  },
  {
   "cell_type": "code",
   "execution_count": null,
   "id": "06ff8907",
   "metadata": {},
   "outputs": [],
   "source": [
    "# plot numerical columns for base data\n",
    "numerical_plot(df_eda_num, hist=False)"
   ]
  },
  {
   "attachments": {},
   "cell_type": "markdown",
   "id": "fc3d072e",
   "metadata": {},
   "source": [
    "### 5.2.2 - Categorical Columns"
   ]
  },
  {
   "cell_type": "code",
   "execution_count": null,
   "id": "e2107307",
   "metadata": {},
   "outputs": [],
   "source": [
    "# plot categorical columns for base data\n",
    "categorical_plot(df_eda_str)"
   ]
  },
  {
   "attachments": {},
   "cell_type": "markdown",
   "id": "e51d0134",
   "metadata": {},
   "source": [
    "### 5.2.3 Datetime Columns"
   ]
  },
  {
   "cell_type": "code",
   "execution_count": null,
   "id": "8e4ea868",
   "metadata": {},
   "outputs": [],
   "source": [
    "# plot datetime columns for base data\n",
    "datetime_plot(df_eda_date)"
   ]
  },
  {
   "attachments": {},
   "cell_type": "markdown",
   "id": "186dfadf",
   "metadata": {
    "heading_collapsed": true,
    "hidden": true
   },
   "source": [
    "## 5.3 - Bivariate Analysis"
   ]
  },
  {
   "attachments": {},
   "cell_type": "markdown",
   "id": "45447dfc",
   "metadata": {},
   "source": [
    "*Explore relationship between variables (in pairs)*"
   ]
  },
  {
   "attachments": {},
   "cell_type": "markdown",
   "id": "b19f30b0",
   "metadata": {},
   "source": [
    "### 5.3.1 - Initial inspection"
   ]
  },
  {
   "cell_type": "code",
   "execution_count": null,
   "id": "b09f0af9",
   "metadata": {
    "ExecuteTime": {
     "end_time": "2021-11-22T11:35:39.225076Z",
     "start_time": "2021-11-22T11:35:28.117744Z"
    },
    "hidden": true,
    "scrolled": false
   },
   "outputs": [],
   "source": [
    "# plot pairplot\n",
    "sns.pairplot( df_eda, diag_kind = \"kde\" );"
   ]
  },
  {
   "attachments": {},
   "cell_type": "markdown",
   "id": "20845368",
   "metadata": {
    "ExecuteTime": {
     "end_time": "2021-11-22T11:35:39.228869Z",
     "start_time": "2021-11-22T11:35:39.226949Z"
    },
    "hidden": true
   },
   "source": [
    "### 5.3.2 - Numerical variables"
   ]
  },
  {
   "cell_type": "code",
   "execution_count": null,
   "id": "79118ce5",
   "metadata": {
    "ExecuteTime": {
     "end_time": "2021-11-22T11:35:39.939255Z",
     "start_time": "2021-11-22T11:35:39.230647Z"
    },
    "hidden": true
   },
   "outputs": [],
   "source": [
    "# calculate pearson correlation coefficient\n",
    "correlation = df_eda_ref.corr( method = 'spearman' )\n",
    "\n",
    "# create figure and ax object\n",
    "fig, ax = plt.subplots( figsize = (6, 6) )\n",
    "\n",
    "# display heatmap of correlation on figure\n",
    "sns.heatmap( correlation, annot = True, ax = ax)\n",
    "plt.yticks( rotation = 0 );"
   ]
  },
  {
   "attachments": {},
   "cell_type": "markdown",
   "id": "c916bafd",
   "metadata": {},
   "source": [
    "### 5.3.3 - Categorical variables"
   ]
  },
  {
   "cell_type": "code",
   "execution_count": null,
   "id": "c17624c7",
   "metadata": {},
   "outputs": [],
   "source": [
    "# TO-DO ---> cramer-v heatmap"
   ]
  },
  {
   "cell_type": "code",
   "execution_count": null,
   "id": "b3bfc9e9",
   "metadata": {},
   "outputs": [],
   "source": [
    "# create a dataframe with cramer-v for every row-column pair\n",
    "cramer_v_corr = create_cramer_v_dataframe( multivar_cat_analysis )\n",
    "\n",
    "# create figure and ax object\n",
    "fig, ax = plt.subplots( figsize = (20, 20) )\n",
    "\n",
    "# display heatmap of correlation on figure\n",
    "sns.heatmap( cramer_v_corr, annot = True, ax = ax);"
   ]
  },
  {
   "attachments": {},
   "cell_type": "markdown",
   "id": "606d451c",
   "metadata": {},
   "source": [
    "## 5.4 - Business Hypothesis"
   ]
  },
  {
   "attachments": {},
   "cell_type": "markdown",
   "id": "0876f828",
   "metadata": {},
   "source": [
    "*Validate all business hypothesis based on available data*"
   ]
  },
  {
   "attachments": {},
   "cell_type": "markdown",
   "id": "1671d285",
   "metadata": {},
   "source": [
    "### **H1. ..**"
   ]
  },
  {
   "cell_type": "code",
   "execution_count": null,
   "id": "cb8e5b11",
   "metadata": {},
   "outputs": [],
   "source": []
  },
  {
   "attachments": {},
   "cell_type": "markdown",
   "id": "8b6006ae",
   "metadata": {},
   "source": [
    "### **H2. ..**"
   ]
  },
  {
   "cell_type": "code",
   "execution_count": null,
   "id": "45e59c75",
   "metadata": {},
   "outputs": [],
   "source": []
  },
  {
   "attachments": {},
   "cell_type": "markdown",
   "id": "b5353cde",
   "metadata": {},
   "source": [
    "### **H3. ..**"
   ]
  },
  {
   "cell_type": "code",
   "execution_count": null,
   "id": "98c59e80",
   "metadata": {},
   "outputs": [],
   "source": []
  },
  {
   "attachments": {},
   "cell_type": "markdown",
   "id": "14a7fae9",
   "metadata": {},
   "source": [
    "### **H4. ..**"
   ]
  },
  {
   "cell_type": "code",
   "execution_count": null,
   "id": "e5078c5e",
   "metadata": {},
   "outputs": [],
   "source": []
  },
  {
   "attachments": {},
   "cell_type": "markdown",
   "id": "e8788e1b",
   "metadata": {},
   "source": [
    "### **H5. ..**"
   ]
  },
  {
   "cell_type": "code",
   "execution_count": null,
   "id": "9a9c15dd",
   "metadata": {},
   "outputs": [],
   "source": []
  },
  {
   "attachments": {},
   "cell_type": "markdown",
   "id": "a83c4df3",
   "metadata": {
    "heading_collapsed": true,
    "hidden": true
   },
   "source": [
    "## 5.5 - Data Space Analysis"
   ]
  },
  {
   "attachments": {},
   "cell_type": "markdown",
   "id": "035779a8",
   "metadata": {},
   "source": [
    "**Initial inspection on dimensionality reduction potential**"
   ]
  },
  {
   "attachments": {},
   "cell_type": "markdown",
   "id": "58d17b6d",
   "metadata": {
    "ExecuteTime": {
     "end_time": "2021-11-12T14:52:05.470744Z",
     "start_time": "2021-11-12T14:52:05.466937Z"
    },
    "heading_collapsed": true,
    "hidden": true
   },
   "source": [
    "### PCA"
   ]
  },
  {
   "cell_type": "code",
   "execution_count": null,
   "id": "1918b2c1",
   "metadata": {
    "ExecuteTime": {
     "end_time": "2021-11-22T11:35:39.981919Z",
     "start_time": "2021-11-22T11:35:39.955021Z"
    },
    "hidden": true
   },
   "outputs": [],
   "source": [
    "# TO-DO"
   ]
  },
  {
   "attachments": {},
   "cell_type": "markdown",
   "id": "6cfeafc6",
   "metadata": {
    "heading_collapsed": true,
    "hidden": true
   },
   "source": [
    "### UMAP"
   ]
  },
  {
   "cell_type": "code",
   "execution_count": null,
   "id": "b8b1451b",
   "metadata": {
    "ExecuteTime": {
     "end_time": "2021-11-22T11:36:07.808671Z",
     "start_time": "2021-11-22T11:35:40.592638Z"
    },
    "hidden": true
   },
   "outputs": [],
   "source": [
    "# TO-DO"
   ]
  },
  {
   "attachments": {},
   "cell_type": "markdown",
   "id": "158cdc9e",
   "metadata": {
    "heading_collapsed": true,
    "hidden": true
   },
   "source": [
    "### t-SNE"
   ]
  },
  {
   "cell_type": "code",
   "execution_count": null,
   "id": "0cb4ccb3",
   "metadata": {
    "ExecuteTime": {
     "end_time": "2021-11-22T11:36:45.325959Z",
     "start_time": "2021-11-22T11:36:08.051724Z"
    },
    "hidden": true,
    "scrolled": true
   },
   "outputs": [],
   "source": [
    "# TO-DO"
   ]
  },
  {
   "attachments": {},
   "cell_type": "markdown",
   "id": "facedc5f",
   "metadata": {
    "heading_collapsed": true,
    "hidden": true
   },
   "source": [
    "### PHATE"
   ]
  },
  {
   "cell_type": "code",
   "execution_count": null,
   "id": "a1e2ab66",
   "metadata": {
    "ExecuteTime": {
     "end_time": "2021-11-22T11:37:16.617873Z",
     "start_time": "2021-11-22T11:36:45.530058Z"
    },
    "hidden": true
   },
   "outputs": [],
   "source": [
    "# TO-DO"
   ]
  },
  {
   "attachments": {},
   "cell_type": "markdown",
   "id": "bd3b10a4",
   "metadata": {
    "heading_collapsed": true,
    "hidden": true
   },
   "source": [
    "### Tree-Base Embedding"
   ]
  },
  {
   "cell_type": "code",
   "execution_count": null,
   "id": "1be00715",
   "metadata": {
    "ExecuteTime": {
     "end_time": "2021-11-22T11:37:17.721638Z",
     "start_time": "2021-11-22T11:37:16.881301Z"
    },
    "hidden": true
   },
   "outputs": [],
   "source": [
    "# TO-DO"
   ]
  },
  {
   "attachments": {},
   "cell_type": "markdown",
   "id": "dad2f694",
   "metadata": {
    "heading_collapsed": true,
    "hidden": true
   },
   "source": [
    "### KMeans Embedding"
   ]
  },
  {
   "cell_type": "code",
   "execution_count": null,
   "id": "156840e8",
   "metadata": {
    "ExecuteTime": {
     "end_time": "2021-11-22T11:37:40.479163Z",
     "start_time": "2021-11-22T11:37:29.524697Z"
    },
    "hidden": true
   },
   "outputs": [],
   "source": [
    "# TO-DO"
   ]
  },
  {
   "attachments": {},
   "cell_type": "markdown",
   "id": "1c42ecba",
   "metadata": {},
   "source": [
    "# **6 - DATA PREPARATION**"
   ]
  },
  {
   "attachments": {},
   "cell_type": "markdown",
   "id": "ec7eabd2",
   "metadata": {},
   "source": [
    "## 6.1 - Restore Point"
   ]
  },
  {
   "attachments": {},
   "cell_type": "markdown",
   "id": "e5eabd39",
   "metadata": {},
   "source": [
    "*Create a checkpoint of the last dataframe from previous section*"
   ]
  },
  {
   "cell_type": "code",
   "execution_count": null,
   "id": "40ff716a",
   "metadata": {},
   "outputs": [],
   "source": [
    "# create a restore point for the previous section dataframe\n",
    "df_prep = df_eda.copy()\n",
    "\n",
    "# check dataframe\n",
    "check_dataframe( df_prep )"
   ]
  },
  {
   "attachments": {},
   "cell_type": "markdown",
   "id": "44c0d35a",
   "metadata": {},
   "source": [
    "## 6.2 - Remove variables that won't be available in the production environment"
   ]
  },
  {
   "attachments": {},
   "cell_type": "markdown",
   "id": "767334b4",
   "metadata": {},
   "source": [
    "*Remove variables that model can use on production to make predictions*"
   ]
  },
  {
   "cell_type": "code",
   "execution_count": null,
   "id": "61fe90a8",
   "metadata": {},
   "outputs": [],
   "source": [
    "# TO-DO"
   ]
  },
  {
   "attachments": {},
   "cell_type": "markdown",
   "id": "3cfe39a4",
   "metadata": {},
   "source": [
    "## 6.3 - Train-Validation-Test split"
   ]
  },
  {
   "attachments": {},
   "cell_type": "markdown",
   "id": "a14a8105",
   "metadata": {},
   "source": [
    "*Split dataframe into training, validation and test dataset*"
   ]
  },
  {
   "cell_type": "code",
   "execution_count": null,
   "id": "dfac0f92",
   "metadata": {},
   "outputs": [],
   "source": [
    "# TO-DO"
   ]
  },
  {
   "attachments": {},
   "cell_type": "markdown",
   "id": "b2f48e31",
   "metadata": {},
   "source": [
    "## 6.4 - Scale numeric features"
   ]
  },
  {
   "attachments": {},
   "cell_type": "markdown",
   "id": "cd93f108",
   "metadata": {},
   "source": [
    "*Scale numeric feature to make modelling \"easier\" for ML models*"
   ]
  },
  {
   "attachments": {},
   "cell_type": "markdown",
   "id": "c58a8f54",
   "metadata": {},
   "source": [
    "### 6.4.1 - Standard Scaler"
   ]
  },
  {
   "cell_type": "code",
   "execution_count": null,
   "id": "44cfe8ab",
   "metadata": {},
   "outputs": [],
   "source": [
    "# TO-DO"
   ]
  },
  {
   "attachments": {},
   "cell_type": "markdown",
   "id": "f40f60b7",
   "metadata": {},
   "source": [
    "### 6.4.2 - Min-Max Scaler"
   ]
  },
  {
   "cell_type": "code",
   "execution_count": null,
   "id": "99d1dcb2",
   "metadata": {},
   "outputs": [],
   "source": [
    "# TO-DO"
   ]
  },
  {
   "attachments": {},
   "cell_type": "markdown",
   "id": "880503b8",
   "metadata": {},
   "source": [
    "### 6.4.3 - Robust Scaler"
   ]
  },
  {
   "cell_type": "code",
   "execution_count": null,
   "id": "51a24aad",
   "metadata": {},
   "outputs": [],
   "source": [
    "# TO-DO"
   ]
  },
  {
   "attachments": {},
   "cell_type": "markdown",
   "id": "22c6163d",
   "metadata": {},
   "source": [
    "### 6.4.4 - Discretization"
   ]
  },
  {
   "cell_type": "code",
   "execution_count": null,
   "id": "18f78a64",
   "metadata": {},
   "outputs": [],
   "source": [
    "# TO-DO"
   ]
  },
  {
   "attachments": {},
   "cell_type": "markdown",
   "id": "bed93774",
   "metadata": {},
   "source": [
    "## 6.5 - Encode categorical features"
   ]
  },
  {
   "attachments": {},
   "cell_type": "markdown",
   "id": "55ac6f45",
   "metadata": {},
   "source": [
    "*Encode categorical feature to make modelling possible for ML models*"
   ]
  },
  {
   "attachments": {},
   "cell_type": "markdown",
   "id": "c0814e8c",
   "metadata": {},
   "source": [
    "### 6.5.1 - One-Hot Encodingm"
   ]
  },
  {
   "cell_type": "code",
   "execution_count": null,
   "id": "7a2486ff",
   "metadata": {},
   "outputs": [],
   "source": [
    "# TO-DO"
   ]
  },
  {
   "attachments": {},
   "cell_type": "markdown",
   "id": "e50dacee",
   "metadata": {},
   "source": [
    "### 6.5.2 - Ordinal Encoding"
   ]
  },
  {
   "cell_type": "code",
   "execution_count": null,
   "id": "f5848643",
   "metadata": {},
   "outputs": [],
   "source": [
    "# TO-DO"
   ]
  },
  {
   "attachments": {},
   "cell_type": "markdown",
   "id": "2d8e7c71",
   "metadata": {},
   "source": [
    "### 6.5.3 - Target Encoding"
   ]
  },
  {
   "cell_type": "code",
   "execution_count": null,
   "id": "d72d40c7",
   "metadata": {},
   "outputs": [],
   "source": [
    "# TO-DO"
   ]
  },
  {
   "attachments": {},
   "cell_type": "markdown",
   "id": "99e12393",
   "metadata": {},
   "source": [
    "## 6.6 - Response variable transformation"
   ]
  },
  {
   "attachments": {},
   "cell_type": "markdown",
   "id": "6f07db9d",
   "metadata": {},
   "source": [
    "*Transform target variable (e.g. log, sqrt, etc) to make modelling \"easier\" for ML models*"
   ]
  },
  {
   "cell_type": "code",
   "execution_count": null,
   "id": "70d3ee79",
   "metadata": {},
   "outputs": [],
   "source": [
    "# TO-DO"
   ]
  },
  {
   "attachments": {},
   "cell_type": "markdown",
   "id": "20a1fee9",
   "metadata": {},
   "source": [
    "## 6.7 - Cyclic variables transformation"
   ]
  },
  {
   "attachments": {},
   "cell_type": "markdown",
   "id": "f88bdcde",
   "metadata": {},
   "source": [
    "*Transform cyclic variables (e.g. days of week, months in year, etc) with a sin and cos functions*"
   ]
  },
  {
   "cell_type": "code",
   "execution_count": null,
   "id": "aa224055",
   "metadata": {},
   "outputs": [],
   "source": [
    "# TO-DO"
   ]
  },
  {
   "attachments": {},
   "cell_type": "markdown",
   "id": "35474f40",
   "metadata": {},
   "source": [
    "## 6.8 - Double-check preparation"
   ]
  },
  {
   "attachments": {},
   "cell_type": "markdown",
   "id": "ec4faaa7",
   "metadata": {},
   "source": [
    "*Double-check the prepared dataset to make sure it is as expected*"
   ]
  },
  {
   "cell_type": "code",
   "execution_count": null,
   "id": "72f62edb",
   "metadata": {},
   "outputs": [],
   "source": [
    "# TO-DO"
   ]
  },
  {
   "attachments": {},
   "cell_type": "markdown",
   "id": "ee9d757b",
   "metadata": {
    "ExecuteTime": {
     "end_time": "2021-11-09T11:28:02.993277Z",
     "start_time": "2021-11-09T11:28:02.988140Z"
    },
    "heading_collapsed": true
   },
   "source": [
    "# **7 - FEATURE SELECTION**"
   ]
  },
  {
   "attachments": {},
   "cell_type": "markdown",
   "id": "989cfb33",
   "metadata": {
    "heading_collapsed": true,
    "hidden": true
   },
   "source": [
    "## 7.1 - Restore Point"
   ]
  },
  {
   "attachments": {},
   "cell_type": "markdown",
   "id": "dab40a87",
   "metadata": {},
   "source": [
    "*Create a checkpoint of the last dataframe from previous section*"
   ]
  },
  {
   "cell_type": "code",
   "execution_count": null,
   "id": "9e572e68",
   "metadata": {},
   "outputs": [],
   "source": [
    "# create a restore point for the previous section dataframe\n",
    "df_f_selection = df_prep.copy()\n",
    "\n",
    "# check dataframe\n",
    "check_dataframe( df_f_selection )"
   ]
  },
  {
   "attachments": {},
   "cell_type": "markdown",
   "id": "2ed869c5",
   "metadata": {},
   "source": [
    "## 7.2 - Logist regression coefficients"
   ]
  },
  {
   "cell_type": "code",
   "execution_count": null,
   "id": "b109fbf8",
   "metadata": {},
   "outputs": [],
   "source": [
    "# TO-DO"
   ]
  },
  {
   "attachments": {},
   "cell_type": "markdown",
   "id": "18ded795",
   "metadata": {},
   "source": [
    "## 7.3 - Random forest feature importance"
   ]
  },
  {
   "cell_type": "code",
   "execution_count": null,
   "id": "bddb7118",
   "metadata": {},
   "outputs": [],
   "source": [
    "# TO-DO"
   ]
  },
  {
   "attachments": {},
   "cell_type": "markdown",
   "id": "ed578042",
   "metadata": {},
   "source": [
    "## 7.4 - Boruta algorithm"
   ]
  },
  {
   "cell_type": "code",
   "execution_count": null,
   "id": "d9be4e25",
   "metadata": {},
   "outputs": [],
   "source": [
    "# TO-DO"
   ]
  },
  {
   "attachments": {},
   "cell_type": "markdown",
   "id": "593aa50b",
   "metadata": {},
   "source": [
    "## 7.5 - Mutual information"
   ]
  },
  {
   "cell_type": "code",
   "execution_count": null,
   "id": "42990ce9",
   "metadata": {},
   "outputs": [],
   "source": [
    "# TO-DO"
   ]
  },
  {
   "attachments": {},
   "cell_type": "markdown",
   "id": "6cd4a7d0",
   "metadata": {
    "heading_collapsed": true
   },
   "source": [
    "# **8 - ML MODEL TRAINING**"
   ]
  },
  {
   "attachments": {},
   "cell_type": "markdown",
   "id": "0b3baa9b",
   "metadata": {
    "heading_collapsed": true,
    "hidden": true
   },
   "source": [
    "## 8.1 - Restore Point"
   ]
  },
  {
   "attachments": {},
   "cell_type": "markdown",
   "id": "78eb6db9",
   "metadata": {},
   "source": [
    "*Create a checkpoint of the last dataframe from previous section*"
   ]
  },
  {
   "cell_type": "code",
   "execution_count": null,
   "id": "2711c6a3",
   "metadata": {
    "ExecuteTime": {
     "end_time": "2021-11-22T11:44:02.805951Z",
     "start_time": "2021-11-22T11:44:02.715657Z"
    },
    "hidden": true,
    "scrolled": true
   },
   "outputs": [],
   "source": [
    "# create a restore point for the previous section dataframe\n",
    "df_train = df_f_selection.copy()\n",
    "\n",
    "# check dataframe\n",
    "check_dataframe( df_train )"
   ]
  },
  {
   "attachments": {},
   "cell_type": "markdown",
   "id": "dab90bd1",
   "metadata": {},
   "source": [
    "## 8.2 - Metrics"
   ]
  },
  {
   "attachments": {},
   "cell_type": "markdown",
   "id": "a3265dbc",
   "metadata": {},
   "source": [
    "*Define the metric of success and the health metrics*"
   ]
  },
  {
   "cell_type": "code",
   "execution_count": null,
   "id": "088c6cce",
   "metadata": {},
   "outputs": [],
   "source": [
    "# TO-DO"
   ]
  },
  {
   "attachments": {},
   "cell_type": "markdown",
   "id": "611df983",
   "metadata": {},
   "source": [
    "## 8.3 - Baseline model"
   ]
  },
  {
   "attachments": {},
   "cell_type": "markdown",
   "id": "e1cba9e3",
   "metadata": {},
   "source": [
    "*Check the performance metrics with a dummy model to get the baseline metric*"
   ]
  },
  {
   "cell_type": "code",
   "execution_count": null,
   "id": "74687ece",
   "metadata": {},
   "outputs": [],
   "source": [
    "# TO-DO"
   ]
  },
  {
   "attachments": {},
   "cell_type": "markdown",
   "id": "ca3fc080",
   "metadata": {},
   "source": [
    "## 8.4 - ML models"
   ]
  },
  {
   "attachments": {},
   "cell_type": "markdown",
   "id": "0d1afd08",
   "metadata": {},
   "source": [
    "*Get performance metrics of ML model with cross-validation*"
   ]
  },
  {
   "cell_type": "code",
   "execution_count": null,
   "id": "b5bc1860",
   "metadata": {},
   "outputs": [],
   "source": [
    "# TO-DO"
   ]
  },
  {
   "attachments": {},
   "cell_type": "markdown",
   "id": "5d3c3c07",
   "metadata": {},
   "source": [
    "## 8.5 - Final modelling comparison"
   ]
  },
  {
   "attachments": {},
   "cell_type": "markdown",
   "id": "dd70b6db",
   "metadata": {},
   "source": [
    "*Compare all models and decide what one is the best (and will be fine-tuned)*"
   ]
  },
  {
   "cell_type": "code",
   "execution_count": null,
   "id": "c4712c7a",
   "metadata": {},
   "outputs": [],
   "source": [
    "# TO-DO"
   ]
  },
  {
   "attachments": {},
   "cell_type": "markdown",
   "id": "575611fe",
   "metadata": {},
   "source": [
    "# **9 - HYPERPARAMETER TUNNING**"
   ]
  },
  {
   "attachments": {},
   "cell_type": "markdown",
   "id": "e2edc6bc",
   "metadata": {},
   "source": [
    "## 9.1 - Restore Point"
   ]
  },
  {
   "attachments": {},
   "cell_type": "markdown",
   "id": "bc71366d",
   "metadata": {},
   "source": [
    "*Create a checkpoint of the last dataframe from previous section*"
   ]
  },
  {
   "cell_type": "code",
   "execution_count": null,
   "id": "08d3467a",
   "metadata": {},
   "outputs": [],
   "source": [
    "# create a restore point for the previous section dataframe\n",
    "df_tune = df_train.copy()\n",
    "\n",
    "# check dataframe\n",
    "check_dataframe( df_tune )"
   ]
  },
  {
   "attachments": {},
   "cell_type": "markdown",
   "id": "de10e50a",
   "metadata": {},
   "source": [
    "## 9.2 - Hypertune the best ML model"
   ]
  },
  {
   "attachments": {},
   "cell_type": "markdown",
   "id": "9e6ac096",
   "metadata": {},
   "source": [
    "*Check the best hyperparams for the best ML model*"
   ]
  },
  {
   "attachments": {},
   "cell_type": "markdown",
   "id": "8f4cd59d",
   "metadata": {},
   "source": [
    "### 9.2.1 - Grid Search"
   ]
  },
  {
   "cell_type": "code",
   "execution_count": null,
   "id": "191d670f",
   "metadata": {},
   "outputs": [],
   "source": [
    "# TO-DO"
   ]
  },
  {
   "attachments": {},
   "cell_type": "markdown",
   "id": "3ca5e074",
   "metadata": {},
   "source": [
    "### 9.2.2 - Random Search"
   ]
  },
  {
   "cell_type": "code",
   "execution_count": null,
   "id": "3ba96cf2",
   "metadata": {},
   "outputs": [],
   "source": [
    "# TO-DO"
   ]
  },
  {
   "attachments": {},
   "cell_type": "markdown",
   "id": "1099906e",
   "metadata": {},
   "source": [
    "### 9.2.3 - Bayesian Search"
   ]
  },
  {
   "cell_type": "code",
   "execution_count": null,
   "id": "b9d6a0a3",
   "metadata": {},
   "outputs": [],
   "source": [
    "# TO-DO"
   ]
  },
  {
   "attachments": {},
   "cell_type": "markdown",
   "id": "cc85ea29",
   "metadata": {},
   "source": [
    "## 9.3 - Define best hyperparameters"
   ]
  },
  {
   "attachments": {},
   "cell_type": "markdown",
   "id": "56530fc0",
   "metadata": {},
   "source": [
    "*Explicitly define best hyper parameters*"
   ]
  },
  {
   "cell_type": "code",
   "execution_count": null,
   "id": "29a0941a",
   "metadata": {},
   "outputs": [],
   "source": [
    "# TO-DO"
   ]
  },
  {
   "attachments": {},
   "cell_type": "markdown",
   "id": "118a044d",
   "metadata": {},
   "source": [
    "# **10 - PERFORMANCE EVALUATION AND INTERPRETATION**"
   ]
  },
  {
   "attachments": {},
   "cell_type": "markdown",
   "id": "9beb0f5e",
   "metadata": {},
   "source": [
    "## 10.1 - Restore Point"
   ]
  },
  {
   "attachments": {},
   "cell_type": "markdown",
   "id": "06063ebc",
   "metadata": {},
   "source": [
    "*Create a checkpoint of the last dataframe from previous section*"
   ]
  },
  {
   "cell_type": "code",
   "execution_count": null,
   "id": "ca048da1",
   "metadata": {},
   "outputs": [],
   "source": [
    "# create a restore point for the previous section dataframe\n",
    "df_perform = df_tune.copy()\n",
    "\n",
    "# check dataframe\n",
    "check_dataframe( df_perform )"
   ]
  },
  {
   "attachments": {},
   "cell_type": "markdown",
   "id": "bd259a95",
   "metadata": {},
   "source": [
    "## 10.2 - Training Performance"
   ]
  },
  {
   "attachments": {},
   "cell_type": "markdown",
   "id": "61597c50",
   "metadata": {},
   "source": [
    "*Get final model performance on training data*"
   ]
  },
  {
   "cell_type": "code",
   "execution_count": null,
   "id": "de669b2b",
   "metadata": {},
   "outputs": [],
   "source": [
    "# TO-DO"
   ]
  },
  {
   "attachments": {},
   "cell_type": "markdown",
   "id": "ad7b1738",
   "metadata": {},
   "source": [
    "## 10.3 - Generalization performance"
   ]
  },
  {
   "attachments": {},
   "cell_type": "markdown",
   "id": "86cbc993",
   "metadata": {},
   "source": [
    "### 10.3.1 - Final model training"
   ]
  },
  {
   "attachments": {},
   "cell_type": "markdown",
   "id": "e68bfaed",
   "metadata": {},
   "source": [
    "*Get final model performance on validation data*"
   ]
  },
  {
   "cell_type": "code",
   "execution_count": null,
   "id": "51f346c4",
   "metadata": {},
   "outputs": [],
   "source": [
    "# TO-DO"
   ]
  },
  {
   "attachments": {},
   "cell_type": "markdown",
   "id": "56ad9401",
   "metadata": {},
   "source": [
    "### 10.3.2 - Error analysis"
   ]
  },
  {
   "attachments": {},
   "cell_type": "markdown",
   "id": "30f53834",
   "metadata": {},
   "source": [
    "*Perform error analysis on final model to make sure it is ready for production*"
   ]
  },
  {
   "cell_type": "code",
   "execution_count": null,
   "id": "08faa83e",
   "metadata": {},
   "outputs": [],
   "source": [
    "# TO-DO"
   ]
  },
  {
   "attachments": {},
   "cell_type": "markdown",
   "id": "227e866b",
   "metadata": {},
   "source": [
    "## 10.4 - Define prodution model"
   ]
  },
  {
   "attachments": {},
   "cell_type": "markdown",
   "id": "d3babf23",
   "metadata": {},
   "source": [
    "*Train ML on \"training + validation\" data*"
   ]
  },
  {
   "cell_type": "code",
   "execution_count": null,
   "id": "4c8d89a9",
   "metadata": {},
   "outputs": [],
   "source": [
    "# TO-DO"
   ]
  },
  {
   "attachments": {},
   "cell_type": "markdown",
   "id": "5b33acde",
   "metadata": {},
   "source": [
    "## 10.5 - Testing performance"
   ]
  },
  {
   "attachments": {},
   "cell_type": "markdown",
   "id": "fb1220a9",
   "metadata": {},
   "source": [
    "*Get production model performance on testing data*"
   ]
  },
  {
   "cell_type": "code",
   "execution_count": null,
   "id": "6e52f764",
   "metadata": {},
   "outputs": [],
   "source": [
    "# TO-DO"
   ]
  },
  {
   "attachments": {},
   "cell_type": "markdown",
   "id": "1d2e70d7",
   "metadata": {},
   "source": [
    "## 10.6 - Business performance"
   ]
  },
  {
   "attachments": {},
   "cell_type": "markdown",
   "id": "a294eeac",
   "metadata": {},
   "source": [
    "*Translate testing performance into business results*"
   ]
  },
  {
   "cell_type": "code",
   "execution_count": null,
   "id": "36f80bff",
   "metadata": {},
   "outputs": [],
   "source": [
    "# TO-DO"
   ]
  },
  {
   "attachments": {},
   "cell_type": "markdown",
   "id": "855aae5f",
   "metadata": {},
   "source": [
    "# **11 - DEPLOYMENT**"
   ]
  },
  {
   "attachments": {},
   "cell_type": "markdown",
   "id": "ee8e3824",
   "metadata": {},
   "source": [
    "![Deployment architecture](../img/....jpg)"
   ]
  },
  {
   "attachments": {},
   "cell_type": "markdown",
   "id": "c8ebea41",
   "metadata": {},
   "source": [
    "## 11.1 - API creation"
   ]
  },
  {
   "attachments": {},
   "cell_type": "markdown",
   "id": "33ea6360",
   "metadata": {},
   "source": [
    "*Code to create API for ML predictions*"
   ]
  },
  {
   "cell_type": "code",
   "execution_count": null,
   "id": "c1352323",
   "metadata": {},
   "outputs": [],
   "source": [
    "# TO-DO"
   ]
  },
  {
   "attachments": {},
   "cell_type": "markdown",
   "id": "60bbaa2e",
   "metadata": {},
   "source": [
    "## 11.2 - Docker container"
   ]
  },
  {
   "attachments": {},
   "cell_type": "markdown",
   "id": "4e1b9c1e",
   "metadata": {},
   "source": [
    "*Code to create a Docker container and deploy ML model*"
   ]
  },
  {
   "cell_type": "code",
   "execution_count": null,
   "id": "73bb3659",
   "metadata": {},
   "outputs": [],
   "source": [
    "# TO-DO"
   ]
  },
  {
   "cell_type": "code",
   "execution_count": null,
   "id": "c0333fb1",
   "metadata": {},
   "outputs": [],
   "source": []
  }
 ],
 "metadata": {
  "kernelspec": {
   "display_name": "omdena_sp_train",
   "language": "python",
   "name": "python3"
  },
  "language_info": {
   "codemirror_mode": {
    "name": "ipython",
    "version": 3
   },
   "file_extension": ".py",
   "mimetype": "text/x-python",
   "name": "python",
   "nbconvert_exporter": "python",
   "pygments_lexer": "ipython3",
   "version": "3.10.6"
  },
  "toc": {
   "base_numbering": 1,
   "nav_menu": {},
   "number_sections": false,
   "sideBar": true,
   "skip_h1_title": false,
   "title_cell": "Table of Contents",
   "title_sidebar": "Contents",
   "toc_cell": false,
   "toc_position": {},
   "toc_section_display": true,
   "toc_window_display": false
  },
  "varInspector": {
   "cols": {
    "lenName": 16,
    "lenType": 16,
    "lenVar": 40
   },
   "kernels_config": {
    "python": {
     "delete_cmd_postfix": "",
     "delete_cmd_prefix": "del ",
     "library": "var_list.py",
     "varRefreshCmd": "print(var_dic_list())"
    },
    "r": {
     "delete_cmd_postfix": ") ",
     "delete_cmd_prefix": "rm(",
     "library": "var_list.r",
     "varRefreshCmd": "cat(var_dic_list()) "
    }
   },
   "types_to_exclude": [
    "module",
    "function",
    "builtin_function_or_method",
    "instance",
    "_Feature"
   ],
   "window_display": false
  }
 },
 "nbformat": 4,
 "nbformat_minor": 5
}
